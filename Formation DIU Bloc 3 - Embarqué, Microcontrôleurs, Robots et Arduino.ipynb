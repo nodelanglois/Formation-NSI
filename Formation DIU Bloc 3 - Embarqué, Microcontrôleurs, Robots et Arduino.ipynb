{
 "cells": [
  {
   "cell_type": "markdown",
   "metadata": {},
   "source": [
    "## Formation DIU \n",
    "  \n"
   ]
  },
  {
   "cell_type": "markdown",
   "metadata": {},
   "source": [
    "### Embarqué, Microcontrôleurs, Robots et Arduino"
   ]
  },
  {
   "cell_type": "markdown",
   "metadata": {},
   "source": [
    "#### Mercredi 10 juillet (matin)"
   ]
  },
  {
   "cell_type": "markdown",
   "metadata": {},
   "source": [
    "philippe.gaussier@u-cergy.fr"
   ]
  },
  {
   "cell_type": "markdown",
   "metadata": {},
   "source": [
    "[Document pdf](https://perso-etis.ensea.fr/neurocyber/Videos/cours_master/robotique_mobile_L1_L3/embarque_lycee.pdf)\n",
    "    "
   ]
  },
  {
   "cell_type": "markdown",
   "metadata": {},
   "source": [
    "Spécialiste IA, sciences cognitives.\n",
    "Cours de 20h en en 6h."
   ]
  },
  {
   "cell_type": "markdown",
   "metadata": {},
   "source": [
    "Les micro contrôleurs et robots ont un aspect ludique (Mais pb de temps réel, importance de l'algorithmique, compétence transversale de physique, traitement du signal en math, IA).<br>\n",
    "Petit micro processeurs : entiers de 0 à 65000 qui deviennent négatifs au delà de 32000."
   ]
  },
  {
   "cell_type": "markdown",
   "metadata": {},
   "source": [
    "### Capteurs pour cartes embarquées :\n",
    "Parmi les capteurs : compteur geiger"
   ]
  },
  {
   "cell_type": "markdown",
   "metadata": {},
   "source": [
    "### Carte Arduino :\n",
    "Micro contrôleur AT MEGA (1€)\n",
    "Equivalent d'un ordinateur des années 80."
   ]
  },
  {
   "cell_type": "markdown",
   "metadata": {},
   "source": [
    "### Raspberry Pi :\n",
    "Ordinateur complet pour moins de 100€<br>\n",
    "(100 fois plus puissant qu'un Arduino)"
   ]
  },
  {
   "cell_type": "markdown",
   "metadata": {},
   "source": [
    "### Gumstix :\n",
    "Plus cher mais plus puissant."
   ]
  },
  {
   "cell_type": "markdown",
   "metadata": {},
   "source": [
    "Site : [lextronic](https://www.lextronic.fr/)"
   ]
  },
  {
   "cell_type": "markdown",
   "metadata": {},
   "source": [
    "Exemple d'utilisation :<br> les souris : une caméra + micro contrôleur"
   ]
  },
  {
   "cell_type": "markdown",
   "metadata": {},
   "source": [
    "__Attention :__<br> Mémoire Flash limitée à plusieur milliers d'écritures.<br>\n",
    "La mémoire de l'EPROM est limitée (tabeau de 200 entiers)<br>\n",
    "Une carte Arduino délivre peu de courant (pas plus de 40 mA) :<br> \n",
    "Il faut rajouter un ampli de puissance pour un moteur<br>\n",
    "Consomme très peu : plusieurs années d'autonomie sur une pile (moins qu'un milliwhat)<br>\n",
    "Systèmes embarqués développés comme des systèmes jetables (compte tenu du prix)"
   ]
  },
  {
   "cell_type": "markdown",
   "metadata": {},
   "source": [
    "__Attention : tenir la carte par les bords__"
   ]
  },
  {
   "cell_type": "markdown",
   "metadata": {},
   "source": [
    "__Programmation :__ <br>\n",
    "\n",
    "Dans le void loop(); le contenu doit être le plus court possible."
   ]
  },
  {
   "cell_type": "markdown",
   "metadata": {},
   "source": [
    "__Led__ <br>\n",
    "TX : transmitting data<br>\n",
    "RX : receiving data<br>\n",
    "(sur la liaison USB pas de pb de liaison mais avant : connecter TX à RX et RX à TX)<br>\n",
    "__RS232 :__<br> \n",
    "Pour le Arduino c'est un faux RS232 liaison en tension et non pas en courant comme le vrai.\n"
   ]
  },
  {
   "cell_type": "markdown",
   "metadata": {},
   "source": []
  },
  {
   "cell_type": "markdown",
   "metadata": {},
   "source": []
  },
  {
   "cell_type": "markdown",
   "metadata": {},
   "source": [
    "$\\chi\\tau\\phi$"
   ]
  },
  {
   "cell_type": "code",
   "execution_count": null,
   "metadata": {},
   "outputs": [],
   "source": []
  }
 ],
 "metadata": {
  "kernelspec": {
   "display_name": "Python 3",
   "language": "python",
   "name": "python3"
  },
  "language_info": {
   "codemirror_mode": {
    "name": "ipython",
    "version": 3
   },
   "file_extension": ".py",
   "mimetype": "text/x-python",
   "name": "python",
   "nbconvert_exporter": "python",
   "pygments_lexer": "ipython3",
   "version": "3.7.3"
  }
 },
 "nbformat": 4,
 "nbformat_minor": 2
}
