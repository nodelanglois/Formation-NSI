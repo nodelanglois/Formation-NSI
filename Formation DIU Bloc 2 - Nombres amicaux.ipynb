{
 "cells": [
  {
   "cell_type": "markdown",
   "metadata": {},
   "source": [
    "## Formation DIU \n",
    "  \n"
   ]
  },
  {
   "cell_type": "markdown",
   "metadata": {},
   "source": [
    "### Activité sur nombres amicaux"
   ]
  },
  {
   "cell_type": "markdown",
   "metadata": {},
   "source": [
    "#### Mercredi 19 juin (aprem)"
   ]
  },
  {
   "cell_type": "markdown",
   "metadata": {},
   "source": [
    "irenee.briquel@u-cergy.fr"
   ]
  },
  {
   "cell_type": "markdown",
   "metadata": {},
   "source": [
    "Documents :   \n",
    "https://cours.u-cergy.fr/pluginfile.php/214152/mod_resource/content/1/nombres_amicaux.pdf  \n",
    "https://fr.wikipedia.org/wiki/Nombres_amicaux"
   ]
  },
  {
   "cell_type": "markdown",
   "metadata": {},
   "source": [
    "### Nombres amicaux"
   ]
  },
  {
   "cell_type": "code",
   "execution_count": 1,
   "metadata": {},
   "outputs": [],
   "source": [
    "def sommeDiviseurs(N):\n",
    "    Somme = 1\n",
    "    for div1 in range(2, int((N)**.5)+1):\n",
    "        if N%div1== 0:\n",
    "            div2 = N//div1\n",
    "            Somme += (div1+div2 - (div1==div2)*div1) \n",
    "    return Somme"
   ]
  },
  {
   "cell_type": "code",
   "execution_count": 2,
   "metadata": {},
   "outputs": [
    {
     "name": "stdout",
     "output_type": "stream",
     "text": [
      "284\n",
      "220\n",
      "1\n",
      "4\n"
     ]
    }
   ],
   "source": [
    "print(sommeDiviseurs(220))\n",
    "print(sommeDiviseurs(284))\n",
    "print(sommeDiviseurs(2))\n",
    "print(sommeDiviseurs(9))\n"
   ]
  },
  {
   "cell_type": "code",
   "execution_count": 3,
   "metadata": {},
   "outputs": [],
   "source": [
    "def amicaux(n,m):\n",
    "    return (sommeDiviseurs(n)==m)and(sommeDiviseurs(m)==n)"
   ]
  },
  {
   "cell_type": "code",
   "execution_count": 4,
   "metadata": {},
   "outputs": [],
   "source": [
    "def afficheAmicaux1(max):\n",
    "    for i in range(2, max):\n",
    "        for j in range(i+1, max+1):\n",
    "            if amicaux(i, j):\n",
    "                print((i, j))\n",
    "    "
   ]
  },
  {
   "cell_type": "code",
   "execution_count": 5,
   "metadata": {},
   "outputs": [
    {
     "name": "stdout",
     "output_type": "stream",
     "text": [
      "(220, 284)\n",
      "(1184, 1210)\n",
      "(2620, 2924)\n"
     ]
    }
   ],
   "source": [
    "afficheAmicaux1(3000)"
   ]
  },
  {
   "cell_type": "markdown",
   "metadata": {},
   "source": [
    "**Complexité :**  \n",
    "afficheAmicaux1 :  \n",
    "n\\*(n-i)*amicaux  \n",
    "n\\*(n-1)\\*2*"
   ]
  },
  {
   "cell_type": "code",
   "execution_count": 6,
   "metadata": {},
   "outputs": [],
   "source": [
    "def afficheAmicaux2(max):\n",
    "    for i in range(2, max):\n",
    "        j = sommeDiviseurs(i)\n",
    "        if amicaux(i, j) and i < j:\n",
    "            print((i, j))\n",
    "    "
   ]
  },
  {
   "cell_type": "code",
   "execution_count": 7,
   "metadata": {},
   "outputs": [
    {
     "name": "stdout",
     "output_type": "stream",
     "text": [
      "(220, 284)\n",
      "(1184, 1210)\n",
      "(2620, 2924)\n",
      "(5020, 5564)\n",
      "(6232, 6368)\n"
     ]
    }
   ],
   "source": [
    "afficheAmicaux2(10000)"
   ]
  },
  {
   "cell_type": "markdown",
   "metadata": {},
   "source": [
    "### Crible d'Erathostène"
   ]
  },
  {
   "cell_type": "markdown",
   "metadata": {},
   "source": [
    "Pour calculer la somme des diviseurs : \n",
    "```\n",
    "   0  1  2  3  4  5  6  7  8  9 10 11 12 13 14 15 16 17 18 19  \n",
    " |  | 0| 0| 0| 0| 0| .| .| .|  |  |  |  |  |  |  |  |  |  |  |  \n",
    "1|  |  | 1| 1| 1| 1| 1| 1| 1| 1| 1| 1| 1| 1| 1| 1| 1| .| 1| .|  \n",
    "2|  |  |  |  | 3|  | 3|  | 3|  | 3|  | 3|  | 3|  | 3|  | 3|  |  \n",
    "3|  |  |  |  |  |  | 6|  |  | 4|  |  | 6|  |  | 4|  |  | 6|  |  ```"
   ]
  },
  {
   "cell_type": "code",
   "execution_count": 8,
   "metadata": {},
   "outputs": [],
   "source": [
    "def crible_erathostene(max):\n",
    "    L=[0 for i in range(max+1)]\n",
    "    for i in range(1, max//2+1):\n",
    "        for j in range(2*i, max+1, i):\n",
    "            L[j] += i\n",
    "    return L"
   ]
  },
  {
   "cell_type": "code",
   "execution_count": 9,
   "metadata": {},
   "outputs": [
    {
     "name": "stdout",
     "output_type": "stream",
     "text": [
      "[0, 0, 1, 1, 3, 1, 6]\n"
     ]
    }
   ],
   "source": [
    "print(crible_erathostene(6))"
   ]
  },
  {
   "cell_type": "code",
   "execution_count": 10,
   "metadata": {},
   "outputs": [],
   "source": [
    "def afficheAmicaux3(max):\n",
    "    L = crible_erathostene(max)\n",
    "    for i in range(2, max):\n",
    "        j = L[i] \n",
    "        if i < j < max and i==L[j]: # Attention test assymétrique le premier test est fait avant le second\n",
    "            print((i, j))\n"
   ]
  },
  {
   "cell_type": "code",
   "execution_count": 44,
   "metadata": {},
   "outputs": [
    {
     "name": "stdout",
     "output_type": "stream",
     "text": [
      "(220, 284)\n",
      "(1184, 1210)\n",
      "(2620, 2924)\n",
      "(5020, 5564)\n",
      "(6232, 6368)\n",
      "(10744, 10856)\n",
      "(12285, 14595)\n",
      "(17296, 18416)\n",
      "(63020, 76084)\n",
      "(66928, 66992)\n",
      "(67095, 71145)\n",
      "(69615, 87633)\n",
      "(79750, 88730)\n"
     ]
    }
   ],
   "source": [
    "afficheAmicaux3(100000)"
   ]
  },
  {
   "cell_type": "markdown",
   "metadata": {},
   "source": [
    "### Spirale d'Ulam (pour aller plus loin)"
   ]
  },
  {
   "cell_type": "code",
   "execution_count": 20,
   "metadata": {},
   "outputs": [],
   "source": [
    "def spirale(n):\n",
    "    dx = 0\n",
    "    dy = 1\n",
    "    a = (n-1)//2\n",
    "    b = (n-1)//2\n",
    "    s = [[0 for l in range(n)] for m in range(n)]\n",
    "    nb = 1\n",
    "    s[a][b]=nb\n",
    "    for i in range(1,n):\n",
    "        if i == n-1 :\n",
    "            t = 3\n",
    "        else:\n",
    "            t = 2\n",
    "        for j in range(t):\n",
    "            for k in range(i):\n",
    "                a,b = a+dx, b+dy\n",
    "                s[a][b]=nb\n",
    "                nb+=1\n",
    "            dx, dy = dy, -dx\n",
    "    return s\n",
    "                "
   ]
  },
  {
   "cell_type": "code",
   "execution_count": 19,
   "metadata": {},
   "outputs": [
    {
     "data": {
      "text/plain": [
       "<matplotlib.image.AxesImage at 0x1175410b8>"
      ]
     },
     "execution_count": 19,
     "metadata": {},
     "output_type": "execute_result"
    },
    {
     "data": {
      "image/png": "[encoded data removed]",
      "text/plain": [
       "<Figure size 432x288 with 1 Axes>"
      ]
     },
     "metadata": {
      "needs_background": "light"
     },
     "output_type": "display_data"
    }
   ],
   "source": [
    "import matplotlib.pyplot as plt\n",
    "s = spirale(20)\n",
    "plt.imshow(s, cmap=\"ocean_r\", interpolation=\"nearest\")"
   ]
  },
  {
   "cell_type": "code",
   "execution_count": 21,
   "metadata": {},
   "outputs": [],
   "source": [
    "def crible_erathostene_nb_div(N):\n",
    "    L=[0 for i in range(N+1)]\n",
    "    for i in range(1, N//2+1):\n",
    "        for j in range(2*i, N+1, i):\n",
    "            L[j] += 1\n",
    "    return L    "
   ]
  },
  {
   "cell_type": "code",
   "execution_count": 28,
   "metadata": {},
   "outputs": [
    {
     "name": "stdout",
     "output_type": "stream",
     "text": [
      "5\n"
     ]
    }
   ],
   "source": [
    "print(crible_erathostene_nb_div(300)[284])"
   ]
  },
  {
   "cell_type": "code",
   "execution_count": 41,
   "metadata": {},
   "outputs": [],
   "source": [
    "def ulam(N):\n",
    "    Crible = crible_erathostene_nb_div(N**2)\n",
    "    u = spirale(N)\n",
    "    for i in range(N):\n",
    "        for j in range(N):\n",
    "            u[i][j] = Crible[u[i][j]]\n",
    "    return u\n",
    "    "
   ]
  },
  {
   "cell_type": "code",
   "execution_count": 42,
   "metadata": {},
   "outputs": [
    {
     "data": {
      "text/plain": [
       "<matplotlib.image.AxesImage at 0x119272a90>"
      ]
     },
     "execution_count": 42,
     "metadata": {},
     "output_type": "execute_result"
    },
    {
     "data": {
      "image/png": "[encoded data removed]",
      "text/plain": [
       "<Figure size 432x288 with 1 Axes>"
      ]
     },
     "metadata": {
      "needs_background": "light"
     },
     "output_type": "display_data"
    }
   ],
   "source": [
    "import matplotlib.pyplot as plt\n",
    "u = ulam(100)\n",
    "plt.imshow(u, cmap=\"ocean_r\", interpolation=\"nearest\")"
   ]
  },
  {
   "cell_type": "markdown",
   "metadata": {},
   "source": [
    "$\\chi \\tau \\Phi$"
   ]
  },
  {
   "cell_type": "code",
   "execution_count": null,
   "metadata": {},
   "outputs": [],
   "source": []
  }
 ],
 "metadata": {
  "kernelspec": {
   "display_name": "Python 3",
   "language": "python",
   "name": "python3"
  },
  "language_info": {
   "codemirror_mode": {
    "name": "ipython",
    "version": 3
   },
   "file_extension": ".py",
   "mimetype": "text/x-python",
   "name": "python",
   "nbconvert_exporter": "python",
   "pygments_lexer": "ipython3",
   "version": "3.7.1"
  }
 },
 "nbformat": 4,
 "nbformat_minor": 2
}
