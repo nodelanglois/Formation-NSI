{
 "cells": [
  {
   "cell_type": "markdown",
   "metadata": {},
   "source": [
    "## Formation DIU \n",
    "  \n"
   ]
  },
  {
   "cell_type": "markdown",
   "metadata": {},
   "source": [
    "### OS"
   ]
  },
  {
   "cell_type": "markdown",
   "metadata": {},
   "source": [
    "#### Jeudi 10 juillet (matin)"
   ]
  },
  {
   "cell_type": "markdown",
   "metadata": {},
   "source": [
    "jerome.felus@u-cergy.fr"
   ]
  },
  {
   "cell_type": "markdown",
   "metadata": {},
   "source": [
    "__Documment :__<br>[Document powerpoint](https://cours.u-cergy.fr/pluginfile.php/241141/mod_resource/content/1/BLOC3%20-%20Syst%C3%A8mes%20dexploitation.pdf)\n",
    "    "
   ]
  },
  {
   "cell_type": "markdown",
   "metadata": {},
   "source": [
    "### Ordonancement : partage du temps"
   ]
  },
  {
   "cell_type": "markdown",
   "metadata": {},
   "source": [
    "#### OS : Multitache\n"
   ]
  },
  {
   "cell_type": "markdown",
   "metadata": {},
   "source": [
    "#### Modes Userspace / Kernel\n",
    "__userspace__ : abstraction pour le programme<br>\n",
    "__kernelspace__ : l'OS passe en mode noyau<br>\n",
    "__changement de contexte__ : sauvegarde en mémoire de tous les registres occupés pour changer de processus\n",
    "\n"
   ]
  },
  {
   "cell_type": "markdown",
   "metadata": {},
   "source": [
    "#### Changement de contexte\n",
    "__changement de contexte__ : sauvegarde en mémoire de tous les registres occupés pour changer de processus\n",
    "\n"
   ]
  },
  {
   "cell_type": "markdown",
   "metadata": {},
   "source": [
    "#### OS Coopératif vs préhenptif"
   ]
  },
  {
   "cell_type": "markdown",
   "metadata": {},
   "source": [
    "#### Mécanisme d'Interuption (INT) :\n",
    "IRQ (Interuption Request)\n"
   ]
  },
  {
   "cell_type": "markdown",
   "metadata": {},
   "source": [
    "#### Politique d'ordonnancement :\n",
    "__FIFO__ (fisrt in first out) : favorise les taches longues,  __PB__ effet convoit (processus libre ou plein)<br>\n",
    "__SRTF__ (Shortest Remaining Time First) : l'ordre des taches est réévalué pour donner la priorité __PB__ effet famine<br>\n",
    "__Round Robin__ (Tourniquet) : Allouer un quantum de temps"
   ]
  },
  {
   "cell_type": "markdown",
   "metadata": {},
   "source": [
    "__Jeu :__<br>\n",
    "Pile de cartes<br>\n",
    "Rouges tri fusion, noirs tri à bulle<br>\n",
    "Débit : nombre moyen de traitement par minute<br>\n",
    "Latence : temps de reponse moyen par processus<br>"
   ]
  },
  {
   "cell_type": "markdown",
   "metadata": {},
   "source": [
    "__Temps réel du vs temps réel mou.__<br>"
   ]
  },
  {
   "cell_type": "markdown",
   "metadata": {},
   "source": []
  },
  {
   "cell_type": "raw",
   "metadata": {},
   "source": [
    "ejc-gdr-ro ... rapine.pdf"
   ]
  },
  {
   "cell_type": "markdown",
   "metadata": {},
   "source": [
    "### Gestion de la mémoire : le partage de l'espace"
   ]
  },
  {
   "cell_type": "markdown",
   "metadata": {},
   "source": [
    "Mémoire vive (mémoire de travail, mémoire centrale, RAM) : denrée rare"
   ]
  },
  {
   "cell_type": "markdown",
   "metadata": {},
   "source": [
    "Segmentation :<br>\n",
    "Séparer la mémoire e"
   ]
  },
  {
   "cell_type": "markdown",
   "metadata": {},
   "source": [
    "__Activité :__<br> \n",
    "2 processus demandent des activités la mémoire"
   ]
  },
  {
   "cell_type": "markdown",
   "metadata": {},
   "source": [
    "### Systèmes de fichiers (filesystems, FS)\n",
    "#### Une abstraction hiérarchique pour le stockage de masse.\n",
    "Pour chaque média faire une arborescence\n",
    "Un droit d'acces"
   ]
  },
  {
   "cell_type": "markdown",
   "metadata": {},
   "source": [
    "Un droit d'acces :<br>\n",
    "\n"
   ]
  },
  {
   "cell_type": "markdown",
   "metadata": {},
   "source": [
    "Partition FAT (ancien, MSDos), EXT<br>\n",
    "FAT 16 liste chainée.<br>\n",
    "// Les extensions ne garantissent plus le type de fichier (il faut regarder le header)<br>\n",
    "(parcours sur les listes)"
   ]
  },
  {
   "cell_type": "markdown",
   "metadata": {},
   "source": [
    "### Séquence d'amorçage (boot).\n",
    "1. BIOS (Basic Input/Output System)<br>\n",
    "    Programme stoqué sur une EEPROM (couche la plus basse)\n",
    "1. Master Boot Record (MBR) et bootloader\n",
    "1. Chargement d'une image noyau (un seul fichier compressé) + quelques modules\n",
    "1. Script de démarage (initialisation des services)\n",
    "1. \n",
    "    "
   ]
  },
  {
   "cell_type": "markdown",
   "metadata": {},
   "source": [
    "### Communication Inter-Processus (IPC)\n",
    "- Les processus s'executent de manière asynchrone\n",
    "- Objectifs :\n",
    "    - synchronisation (mutex : mutuelle exclusion)\n",
    "    - signaux"
   ]
  },
  {
   "cell_type": "markdown",
   "metadata": {},
   "source": []
  },
  {
   "cell_type": "markdown",
   "metadata": {},
   "source": []
  },
  {
   "cell_type": "markdown",
   "metadata": {},
   "source": []
  },
  {
   "cell_type": "markdown",
   "metadata": {},
   "source": []
  },
  {
   "cell_type": "markdown",
   "metadata": {},
   "source": []
  },
  {
   "cell_type": "markdown",
   "metadata": {},
   "source": []
  },
  {
   "cell_type": "markdown",
   "metadata": {},
   "source": []
  },
  {
   "cell_type": "markdown",
   "metadata": {},
   "source": [
    "$\\chi\\tau\\phi$"
   ]
  }
 ],
 "metadata": {
  "kernelspec": {
   "display_name": "Python 3",
   "language": "python",
   "name": "python3"
  },
  "language_info": {
   "codemirror_mode": {
    "name": "ipython",
    "version": 3
   },
   "file_extension": ".py",
   "mimetype": "text/x-python",
   "name": "python",
   "nbconvert_exporter": "python",
   "pygments_lexer": "ipython3",
   "version": "3.7.3"
  }
 },
 "nbformat": 4,
 "nbformat_minor": 2
}
