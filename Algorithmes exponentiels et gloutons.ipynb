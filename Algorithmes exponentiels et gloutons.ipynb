{
 "cells": [
  {
   "cell_type": "markdown",
   "metadata": {},
   "source": [
    "# Algorithmes exponentiels et gloutons"
   ]
  },
  {
   "cell_type": "markdown",
   "metadata": {},
   "source": [
    "#### 0.1 Le problème du rendu de monnaie :\n",
    "On considère un système de pièces de monnaie. La question est la suivante : quel est le nombre minimal de pièces à utiliser pour rendre un montant donné ? Le système de pièces de monnaie peut être modélisé par un n-uplet d’entiers naturels $S = (c_1, c_2, . . . , c_n)$, où $c_i$ représente la valeur de la pièce i. On suppose que $c_1 = 1$ et que $c_1 < c_2 <...<c_n$.Un montant à rendre est un entier naturel $X$. Une répartition de pièces est un n-uplet d’entiers naturels $(x1, x2, ..., xn)$, où $x_i$ représente le nombre de pièces $c_i$. Notre question peut alors être reformulée comme suit :\n"
   ]
  },
  {
   "cell_type": "markdown",
   "metadata": {},
   "source": [
    "Pour tout entier naturel $X$ , on cherche un n-uplet d’entiers naturels $(x_1, x_2, ..., x_n)$ qui minimise $\\sum_{i=1}^{n} x_i$ avec la contrainte $\\sum_{i=1}^{n} c_i ∗ x_i = X$\n"
   ]
  },
  {
   "cell_type": "markdown",
   "metadata": {},
   "source": [
    "    Bref : on veut distribuer le montant demandé X en rendant le moins de pièces possible"
   ]
  },
  {
   "cell_type": "markdown",
   "metadata": {},
   "source": [
    "##### 0.1.1 Solution naive\n",
    "La solution à laquelle on pense immédiatement est d’énumérer toutes les combinaisons possibles, de sélectionner celles qui impliquent un minimum de pièces et de choisir la meilleure.\n",
    "1. Que garantit la propriété $c_1 = 1$ ?\n",
    "1. Ecrire un programme python pour implémenter la solution naive.\n",
    "1. Dérouler votre programme pour $S = (1, 3, 4)$ et $X = 6$, ensuite pour $X = 100$.\n",
    "1. Donner la complexité de votre programme. Conclure.\n"
   ]
  },
  {
   "cell_type": "markdown",
   "metadata": {},
   "source": [
    "1. La solution de longueur $X$ existe toujours"
   ]
  },
  {
   "cell_type": "markdown",
   "metadata": {},
   "source": [
    "2. Programme python naïf :\n"
   ]
  },
  {
   "cell_type": "code",
   "execution_count": null,
   "metadata": {},
   "outputs": [],
   "source": [
    "def rendu(X, S):\n",
    "    Rendus = []\n",
    "    for c in S:\n",
    "        \n",
    "        \n",
    "    \n"
   ]
  },
  {
   "cell_type": "markdown",
   "metadata": {},
   "source": []
  },
  {
   "cell_type": "markdown",
   "metadata": {},
   "source": []
  },
  {
   "cell_type": "markdown",
   "metadata": {},
   "source": []
  },
  {
   "cell_type": "markdown",
   "metadata": {},
   "source": []
  },
  {
   "cell_type": "markdown",
   "metadata": {},
   "source": []
  },
  {
   "cell_type": "markdown",
   "metadata": {},
   "source": []
  }
 ],
 "metadata": {
  "kernelspec": {
   "display_name": "Python 3",
   "language": "python",
   "name": "python3"
  },
  "language_info": {
   "codemirror_mode": {
    "name": "ipython",
    "version": 3
   },
   "file_extension": ".py",
   "mimetype": "text/x-python",
   "name": "python",
   "nbconvert_exporter": "python",
   "pygments_lexer": "ipython3",
   "version": "3.7.1"
  }
 },
 "nbformat": 4,
 "nbformat_minor": 2
}
