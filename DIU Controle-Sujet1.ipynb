{
 "cells": [
  {
   "cell_type": "markdown",
   "metadata": {},
   "source": [
    "### DIU Contrôle Bloc 2 : sujet 1"
   ]
  },
  {
   "cell_type": "markdown",
   "metadata": {},
   "source": [
    "Christophe Nodé-Langlois"
   ]
  },
  {
   "cell_type": "markdown",
   "metadata": {},
   "source": [
    "Document :  \n",
    "https://cours.u-cergy.fr/pluginfile.php/223508/mod_resource/content/0/controleAlgo.sujet1.pdf"
   ]
  },
  {
   "cell_type": "markdown",
   "metadata": {},
   "source": [
    "**Exercice1: Exponentielle rapide**  "
   ]
  },
  {
   "cell_type": "code",
   "execution_count": 6,
   "metadata": {},
   "outputs": [],
   "source": [
    "def exp(a,n):\n",
    "    \"\"\"calcule a^n par multiplications successives\"\"\"\n",
    "    # Complexité en n*n\n",
    "    E = 1\n",
    "    for i in range(1, n+1):\n",
    "        E *= a\n",
    "    return E"
   ]
  },
  {
   "cell_type": "code",
   "execution_count": 7,
   "metadata": {},
   "outputs": [
    {
     "name": "stdout",
     "output_type": "stream",
     "text": [
      "81\n"
     ]
    }
   ],
   "source": [
    "print(exp(3,4))"
   ]
  },
  {
   "cell_type": "code",
   "execution_count": 8,
   "metadata": {},
   "outputs": [],
   "source": [
    "def exp_rapide(a,n):\n",
    "    # Complexité en n*logn \n",
    "    if n==0:\n",
    "        return 1\n",
    "    elif n%2==0:\n",
    "        return exp_rapide(a*a,n//2)\n",
    "    else:\n",
    "        return a*exp_rapide(a,n-1)"
   ]
  },
  {
   "cell_type": "code",
   "execution_count": 9,
   "metadata": {},
   "outputs": [
    {
     "name": "stdout",
     "output_type": "stream",
     "text": [
      "81\n"
     ]
    }
   ],
   "source": [
    "print(exp_rapide(3,4))"
   ]
  },
  {
   "cell_type": "markdown",
   "metadata": {},
   "source": [
    "**Exercice2: Recherche de valeurs absentes**  "
   ]
  },
  {
   "cell_type": "code",
   "execution_count": 13,
   "metadata": {},
   "outputs": [],
   "source": [
    "def valeursAbsentes(L):\n",
    "    \"\"\"L : liste de valeurs dans [0, 10[\n",
    "    Retourne les valeurs absentes de L\"\"\"\n",
    "    A = []\n",
    "    for i in range(10):\n",
    "        if not i in L:\n",
    "            A.append(i)\n",
    "    return A"
   ]
  },
  {
   "cell_type": "code",
   "execution_count": 14,
   "metadata": {},
   "outputs": [
    {
     "name": "stdout",
     "output_type": "stream",
     "text": [
      "[5, 1, 0, 2, 9, 5, 3, 9, 0, 5, 3, 0, 0, 5, 4, 9, 4, 0]\n",
      "[6, 7, 8]\n"
     ]
    }
   ],
   "source": [
    "from random import randint\n",
    "N = randint(1, 20)\n",
    "L = [randint(0,9) for i in range(N)]\n",
    "print(L)\n",
    "print(valeursAbsentes(L))"
   ]
  },
  {
   "cell_type": "code",
   "execution_count": 17,
   "metadata": {},
   "outputs": [],
   "source": [
    "import random\n",
    "\n",
    "def approximation_pi(n):\n",
    "    #Pts = [] # Liste des points inutile (sauf pour vérifier)\n",
    "    NbPts_A = 0 # Nb points dans alpha\n",
    "    for i in range(n):\n",
    "        x,y = random.uniform(0,1), random.uniform(0,1)\n",
    "        #Pts.append((x,y))\n",
    "        if ((x**2+y**2) < 1):\n",
    "            NbPts_A += 1\n",
    "    return NbPts_A/n\n",
    "    \n",
    "    "
   ]
  },
  {
   "cell_type": "code",
   "execution_count": 24,
   "metadata": {},
   "outputs": [
    {
     "name": "stdout",
     "output_type": "stream",
     "text": [
      "Une appriximation de pi est 3.141152\n"
     ]
    }
   ],
   "source": [
    "print(f\"Une approximation de pi est {approximation_pi(1000000)*4}\")"
   ]
  },
  {
   "cell_type": "markdown",
   "metadata": {},
   "source": [
    "**Exercice 4 : Tri à bulles**  "
   ]
  },
  {
   "cell_type": "code",
   "execution_count": 27,
   "metadata": {},
   "outputs": [],
   "source": [
    "def triBulles1(L):\n",
    "    \"\"\"Tri à bulles par valeurs croissantes\n",
    "    Entrée : une liste\n",
    "    Sortie : une liste triée (si Dieu veut !)\"\"\"\n",
    "    N = len(L)\n",
    "    for j in range(N-1):\n",
    "        for i in range(N-1):\n",
    "            if L[i] > L[i+1]:\n",
    "                L[i], L[i+1] = L[i+1], L[i]\n",
    "    return L # Version longue car l'algo ne s'arrête pas quand il n'y a plus de permutations\n",
    "            "
   ]
  },
  {
   "cell_type": "code",
   "execution_count": 28,
   "metadata": {},
   "outputs": [
    {
     "name": "stdout",
     "output_type": "stream",
     "text": [
      "[4, 1, 1, 2, 8, 0, 8, 9, 4, 2, 6, 2, 5, 1, 1, 5]\n",
      "[0, 1, 1, 1, 1, 2, 2, 2, 4, 4, 5, 5, 6, 8, 8, 9]\n"
     ]
    }
   ],
   "source": [
    "from random import randint\n",
    "N = randint(1, 20)\n",
    "L = [randint(0,9) for i in range(N)]\n",
    "print(L)\n",
    "print(triBulles1(L))"
   ]
  },
  {
   "cell_type": "code",
   "execution_count": 36,
   "metadata": {},
   "outputs": [],
   "source": [
    "def triBulles2(L):\n",
    "    \"\"\"Tri à bulles par valeurs croissantes\n",
    "    Entrée : une liste\n",
    "    Sortie : une liste triée (si Dieu veut !)\"\"\"\n",
    "    N = len(L)\n",
    "    TRIE = False\n",
    "    Rg = 0\n",
    "    while not TRIE :\n",
    "        TRIE = True\n",
    "        for i in range(Rg, N-1):\n",
    "            if L[i] > L[i+1]:\n",
    "                L[i], L[i+1] = L[i+1], L[i]\n",
    "                TRIE = False\n",
    "                Rg += 1\n",
    "    return L #Presque bien sauf que c'est faux : A table\n",
    "            "
   ]
  },
  {
   "cell_type": "code",
   "execution_count": 37,
   "metadata": {},
   "outputs": [
    {
     "name": "stdout",
     "output_type": "stream",
     "text": [
      "[8, 8, 8, 8, 6, 2, 1, 5, 4, 5, 3, 5, 0, 2, 4]\n",
      "[8, 8, 8, 6, 2, 1, 5, 4, 5, 3, 5, 0, 2, 4, 8]\n"
     ]
    }
   ],
   "source": [
    "from random import randint\n",
    "N = randint(1, 20)\n",
    "L = [randint(0,9) for i in range(N)]\n",
    "print(L)\n",
    "print(triBulles2(L))"
   ]
  },
  {
   "cell_type": "markdown",
   "metadata": {},
   "source": []
  },
  {
   "cell_type": "markdown",
   "metadata": {},
   "source": []
  },
  {
   "cell_type": "code",
   "execution_count": null,
   "metadata": {},
   "outputs": [],
   "source": []
  }
 ],
 "metadata": {
  "kernelspec": {
   "display_name": "Python 3",
   "language": "python",
   "name": "python3"
  },
  "language_info": {
   "codemirror_mode": {
    "name": "ipython",
    "version": 3
   },
   "file_extension": ".py",
   "mimetype": "text/x-python",
   "name": "python",
   "nbconvert_exporter": "python",
   "pygments_lexer": "ipython3",
   "version": "3.7.1"
  }
 },
 "nbformat": 4,
 "nbformat_minor": 2
}
