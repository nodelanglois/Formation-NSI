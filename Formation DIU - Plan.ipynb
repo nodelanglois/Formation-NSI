{
 "cells": [
  {
   "cell_type": "markdown",
   "metadata": {},
   "source": [
    "## Formation DIU \n",
    "  \n"
   ]
  },
  {
   "cell_type": "markdown",
   "metadata": {},
   "source": [
    "#### Infos connexions :  \n",
    "\n",
    "login : elocal  \n",
    "mdp : elocal  \n",
    "\n",
    "\n",
    "**Site :**  \n",
    "https://cours.u-cergy.fr/login/index.php  "
   ]
  },
  {
   "cell_type": "markdown",
   "metadata": {},
   "source": [
    "**Programme :**  \n",
    "https://sourcesup.renater.fr/diu-eil/medias/diu-eil-habilit-2-ppn.pdf"
   ]
  },
  {
   "cell_type": "markdown",
   "metadata": {},
   "source": [
    "## Bloc 1 : Programmation\n",
    "\n",
    "#### Mardi 11 juin  \n",
    "- **[Présentation](http://localhost:8891/notebooks/Documents/GitHub/Formation-NSI/Formation%20DIU%20Bloc%201%20-%20Presentation.ipynb)**  \n",
    "- **[Listes - Récursivité](http://localhost:8891/notebooks/Documents/GitHub/Formation-NSI/Formation%20DIU%20Bloc%201%20Listes%20-%20Recursivit%C3%A9.ipynb)**\n",
    "\n",
    "#### Mercredi 12 juin  \n",
    "- **[Information - Images](http://localhost:8891/notebooks/Documents/GitHub/Formation-NSI/Formation%20DIU%20Bloc%201%20-%20Information%20-%20Images.ipynb)**  \n",
    "- **[Traitement des données en tables](http://localhost:8891/notebooks/Documents/GitHub/Formation-NSI/Formation%20DIU%20Bloc%201%20-%20Traitement%20des%20donnees%20.cvs.ipynb)**\n",
    "\n",
    "#### Jeudi 13 juin  \n",
    "- **[Traitements des données - Flottants](http://localhost:8891/notebooks/Documents/GitHub/Formation-NSI/Formation%20DIU%20Bloc%201%20-%20Traitement%20des%20donnees%202%20-%20Flottants.ipynb)**  \n",
    "- **[Génie logiciel](http://localhost:8891/notebooks/Documents/GitHub/Formation-NSI/Formation%20DIU%20Bloc%201%20-%20Genie%20logiciel.ipynb)**\n",
    "\n",
    "#### Vendredi 14 juin  \n",
    "- **[Web](http://localhost:8891/notebooks/Documents/GitHub/Formation-NSI/Formation%20DIU%20Bloc%201%20-%20Web.ipynb)**  \n",
    "- **[Web 2.0 : JS, ...](http://localhost:8891/notebooks/Documents/GitHub/Formation-NSI/Formation%20DIU%20Bloc%201%20-%20Web%202.0.ipynb)**"
   ]
  },
  {
   "cell_type": "markdown",
   "metadata": {},
   "source": [
    "## Bloc 2 : Algorithmique\n",
    "\n",
    "#### Lundi 17 juin  \n",
    "- **[Complexité Algorithmique](http://localhost:8891/notebooks/Documents/GitHub/Formation-NSI/Formation%20DIU%20Bloc%202%20-%20Complexite.ipynb)**  \n",
    "- **[Listes - Récursivité](http://localhost:8891/notebooks/Documents/GitHub/Formation-NSI/Formation%20DIU%20Bloc%201%20Listes%20-%20Recursivit%C3%A9.ipynb)**\n",
    "\n",
    "#### Mardi 18 juin  \n",
    "- **[Algo - KPPV](http://localhost:8891/notebooks/Documents/GitHub/Formation-NSI/Formation%20DIU%20Bloc%202%20-%20Algo%20kppv.ipynb)**  \n",
    "- **[Algo - Cryptographie](http://localhost:8891/notebooks/Documents/GitHub/Formation-NSI/Formation%20DIU%20Bloc%202%20-%20Algo%20Cryptographie.ipynb)**\n",
    "\n",
    "#### Mercredi 19 juin  \n",
    "- **[Preuve Terminaison](http://localhost:8892/notebooks/Documents/GitHub/Formation-NSI/Formation%20DIU%20Bloc%202%20-%20Preuve%20et%20Terminaison.ipynb)**  \n",
    "- **[Efficacité : Nombres amicaux](http://localhost:8891/notebooks/Documents/GitHub/Formation-NSI/Formation%20DIU%20Bloc%202%20-%20Nombres%20amicaux.ipynb)**\n",
    "\n",
    "#### Jeudi 20 juin  \n",
    "- **[Algorithmes gloutons](http://localhost:8833/notebooks/Documents/GitHub/Formation-NSI/Formation%20DIU%20Bloc%202%20-%20Algorithmes%20gloutons.ipynb)**  \n",
    "- **[Web 3](http://localhost:8833/notebooks/Documents/GitHub/Formation-NSI/Formation%20DIU%20Bloc%202%20-%20Web%203%20et%20projets.ipynb)**"
   ]
  },
  {
   "cell_type": "markdown",
   "metadata": {},
   "source": [
    "## Bloc 3 : Machines\n",
    "\n",
    "#### Lundi ... juillet  \n",
    "- **[Système exploitation](http://localhost:8891/notebooks/Documents/GitHub/Formation-NSI/Formation%20DIU%20Bloc%202%20-%20Complexite.ipynb)**  \n",
    "- **[Listes - Récursivité](http://localhost:8891/notebooks/Documents/GitHub/Formation-NSI/Formation%20DIU%20Bloc%201%20Listes%20-%20Recursivit%C3%A9.ipynb)**\n",
    "\n",
    "#### Mardi ... juillet  \n",
    "- **[Systèmes embarqué](http://localhost:8891/notebooks/Documents/GitHub/Formation-NSI/Formation%20DIU%20Bloc%202%20-%20Algo%20kppv.ipynb)**  \n",
    "- **[Algo - Cryptographie](http://localhost:8891/notebooks/Documents/GitHub/Formation-NSI/Formation%20DIU%20Bloc%202%20-%20Algo%20Cryptographie.ipynb)**\n",
    "\n",
    "#### Mercredi ... juillet  \n",
    "- **[Réseau](http://localhost:8892/notebooks/Documents/GitHub/Formation-NSI/Formation%20DIU%20Bloc%202%20-%20Preuve%20et%20Terminaison.ipynb)**  \n",
    "- **[Efficacité : Nombres amicaux](http://localhost:8891/notebooks/Documents/GitHub/Formation-NSI/Formation%20DIU%20Bloc%202%20-%20Nombres%20amicaux.ipynb)**\n",
    "\n",
    "#### Jeudi ... juillet  \n",
    "- **[Machines](http://localhost:8833/notebooks/Documents/GitHub/Formation-NSI/Formation%20DIU%20Bloc%202%20-%20Algorithmes%20gloutons.ipynb)**  \n",
    "- **[...](.ipynb)**"
   ]
  },
  {
   "cell_type": "markdown",
   "metadata": {},
   "source": []
  },
  {
   "cell_type": "code",
   "execution_count": null,
   "metadata": {},
   "outputs": [],
   "source": []
  },
  {
   "cell_type": "code",
   "execution_count": null,
   "metadata": {},
   "outputs": [],
   "source": []
  }
 ],
 "metadata": {
  "kernelspec": {
   "display_name": "Python 3",
   "language": "python",
   "name": "python3"
  },
  "language_info": {
   "codemirror_mode": {
    "name": "ipython",
    "version": 3
   },
   "file_extension": ".py",
   "mimetype": "text/x-python",
   "name": "python",
   "nbconvert_exporter": "python",
   "pygments_lexer": "ipython3",
   "version": "3.7.1"
  }
 },
 "nbformat": 4,
 "nbformat_minor": 2
}
