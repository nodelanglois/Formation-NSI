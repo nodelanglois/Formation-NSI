{
 "cells": [
  {
   "cell_type": "markdown",
   "metadata": {},
   "source": [
    "## Formation DIU \n",
    "  \n"
   ]
  },
  {
   "cell_type": "markdown",
   "metadata": {},
   "source": [
    "#### Représentation de l'information : Cédric Bastoul"
   ]
  },
  {
   "cell_type": "markdown",
   "metadata": {},
   "source": [
    "#### Mercredi 12 juin (matin)"
   ]
  },
  {
   "cell_type": "code",
   "execution_count": null,
   "metadata": {},
   "outputs": [],
   "source": [
    "cedric.bastoul@"
   ]
  },
  {
   "cell_type": "markdown",
   "metadata": {},
   "source": [
    "https://cours.u-cergy.fr/pluginfile.php/213645/mod_resource/content/1/cours_3_codage.pdf"
   ]
  },
  {
   "cell_type": "markdown",
   "metadata": {},
   "source": [
    "NB : La mémoire flash utilise 4 niveaux au lieu d'un bit"
   ]
  },
  {
   "cell_type": "markdown",
   "metadata": {},
   "source": [
    "NB : Python défini des entiers de taille illimité.\n",
    "\n",
    "(En C la taille dépend du compilateur, en python le code est portable)\n",
    "\n",
    "Sinon pb : exemple\n",
    "\n",
    "Sur 8 bit\n",
    "11111111 + 1 = ?"
   ]
  },
  {
   "cell_type": "markdown",
   "metadata": {},
   "source": [
    "Autre limitation : +31 +1 = -32"
   ]
  },
  {
   "cell_type": "markdown",
   "metadata": {},
   "source": [
    "Conséquence : Erreur d'Ariane 5"
   ]
  },
  {
   "cell_type": "markdown",
   "metadata": {},
   "source": [
    "Codage des carractères"
   ]
  },
  {
   "cell_type": "markdown",
   "metadata": {},
   "source": [
    "En C les carractères ASCII sont codés sur des octets mais pb en UTF-8 les carratères accentués prennent plus de place"
   ]
  },
  {
   "cell_type": "markdown",
   "metadata": {},
   "source": [
    "#### Compression :"
   ]
  },
  {
   "cell_type": "markdown",
   "metadata": {},
   "source": [
    "ondelette de Haar"
   ]
  },
  {
   "cell_type": "markdown",
   "metadata": {},
   "source": [
    "quantification"
   ]
  },
  {
   "cell_type": "markdown",
   "metadata": {},
   "source": [
    "### 1 Images"
   ]
  },
  {
   "cell_type": "markdown",
   "metadata": {},
   "source": [
    "#### Exercice 1 : Manipulations d’images"
   ]
  },
  {
   "cell_type": "code",
   "execution_count": 2,
   "metadata": {},
   "outputs": [],
   "source": [
    "from PIL import Image # Pour lire et écrire des images dans un fichier"
   ]
  },
  {
   "cell_type": "code",
   "execution_count": 5,
   "metadata": {},
   "outputs": [],
   "source": [
    "#import PIL\n",
    "def assombrir(image) :\n",
    "    #recuperation des dimensions\n",
    "    (xmax,ymax) = image.size\n",
    "    #parcours de l’image\n",
    "    for x in range(xmax):\n",
    "        for y in range(ymax):\n",
    "            #recuperation du pixel\n",
    "            px = image.getpixel((x,y))\n",
    "            (r,g,b) = px\n",
    "            #noircissement du pixel\n",
    "            px2 = (r//2, g//2, b//2)\n",
    "            image.putpixel((x,y), px2)\n"
   ]
  },
  {
   "cell_type": "code",
   "execution_count": 6,
   "metadata": {},
   "outputs": [],
   "source": [
    "image = Image.open(\"TP_images/peppers.jpg\")\n",
    "assombrir(image)\n",
    "image.show()\n",
    "#image.save(\"testFonce.jpg\")"
   ]
  },
  {
   "cell_type": "markdown",
   "metadata": {},
   "source": [
    "1. Ecrire une fonction qui éclaircit une image donnée, sur le même principe que la fonction de noircissement : on rapprochera chaque composante des pixels de 255 en divisant la distance par 2.\n"
   ]
  },
  {
   "cell_type": "code",
   "execution_count": 14,
   "metadata": {},
   "outputs": [],
   "source": [
    "def eclaircir(image) :\n",
    "    #recuperation des dimensions\n",
    "    (xmax,ymax) = image.size\n",
    "    #parcours de l’image\n",
    "    for x in range(xmax):\n",
    "        for y in range(ymax):\n",
    "            #recuperation du pixel\n",
    "            px = image.getpixel((x,y))\n",
    "            (r,g,b) = px\n",
    "            #eclairssissement du pixel\n",
    "            #px2 = (r*2, g*2, b*2) # Pas de débordement (>255) mais l'énoncé demande :\n",
    "            px2 = (r+(255-r)//2, g+(255-g)//2, b+(255-b)//2)\n",
    "            image.putpixel((x,y), px2)\n"
   ]
  },
  {
   "cell_type": "code",
   "execution_count": 15,
   "metadata": {},
   "outputs": [],
   "source": [
    "image = Image.open(\"TP_images/peppers.jpg\")\n",
    "eclaircir(image)\n",
    "image.show()\n",
    "#image.save(\"testClair.jpg\")"
   ]
  },
  {
   "cell_type": "markdown",
   "metadata": {},
   "source": [
    "2. Calcule le négatif de l’image : la valeur de chaque composante RGB est inversée."
   ]
  },
  {
   "cell_type": "code",
   "execution_count": 16,
   "metadata": {},
   "outputs": [],
   "source": [
    "def negatif(image) :\n",
    "    #recuperation des dimensions\n",
    "    (xmax,ymax) = image.size\n",
    "    #parcours de l’image\n",
    "    for x in range(xmax):\n",
    "        for y in range(ymax):\n",
    "            #recuperation du pixel\n",
    "            px = image.getpixel((x,y))\n",
    "            (r,g,b) = px\n",
    "            #négatif du pixel = opposé\n",
    "            #px2 = (r*2, g*2, b*2) # Pas de débordement (>255) mais l'énoncé demande :\n",
    "            px2 = (255-r, 255-g, 255-b)\n",
    "            image.putpixel((x,y), px2)\n"
   ]
  },
  {
   "cell_type": "code",
   "execution_count": 17,
   "metadata": {},
   "outputs": [],
   "source": [
    "image = Image.open(\"TP_images/peppers.jpg\")\n",
    "negatif(image)\n",
    "image.show()\n",
    "#image.save(\"testNegatif.jpg\")"
   ]
  },
  {
   "cell_type": "markdown",
   "metadata": {},
   "source": [
    "3. Ecrire des fonctions de flip horizontal, de flip vertical, de rotation de 90◦ à droite (en supposant l’image donnée carrée pour pouvoir le faire en place)."
   ]
  },
  {
   "cell_type": "code",
   "execution_count": 18,
   "metadata": {},
   "outputs": [],
   "source": [
    "def flip_h(image) :\n",
    "    #recuperation des dimensions\n",
    "    (xmax,ymax) = image.size\n",
    "    # image vide temporaire\n",
    "    temps = [[\"\" for x in range(xmax)] for y in range(ymax)]\n",
    "    #parcours de l’image\n",
    "    for x in range(xmax):\n",
    "        for y in range(ymax):\n",
    "            #recuperation du pixel\n",
    "            px = image.getpixel((x, y))\n",
    "            temps[x][y]=px\n",
    "    for x in range(xmax):\n",
    "        for y in range(ymax):\n",
    "            image.putpixel((x, y), temps[x][ymax-y-1])\n",
    "\n",
    "def flip_v(image) :\n",
    "    #recuperation des dimensions\n",
    "    (xmax, ymax) = image.size\n",
    "    # image vide temporaire\n",
    "    temps = [[\"\" for x in range(xmax)] for y in range(ymax)]\n",
    "    #parcours de l’image\n",
    "    for x in range(xmax):\n",
    "        for y in range(ymax):\n",
    "            #recuperation du pixel\n",
    "            px = image.getpixel((x, y))\n",
    "            temps[x][y]=px\n",
    "    for x in range(xmax):\n",
    "        for y in range(ymax):\n",
    "            image.putpixel((x, y), temps[xmax-x-1][y])\n",
    "\n",
    "\n",
    "def rot90(image) :\n",
    "    #recuperation des dimensions\n",
    "    (xmax, ymax) = image.size\n",
    "    # image vide temporaire\n",
    "    temps = [[\"\" for x in range(xmax)] for y in range(ymax)]\n",
    "    #parcours de l’image\n",
    "    for x in range(xmax):\n",
    "        for y in range(ymax):\n",
    "            #recuperation du pixel\n",
    "            px = image.getpixel((x, y))\n",
    "            temps[x][y] = px\n",
    "    # rotation de l'image\n",
    "    for x in range(xmax):\n",
    "        for y in range(ymax):\n",
    "            image.putpixel((ymax-y-1, x), temps[x][y])\n"
   ]
  },
  {
   "cell_type": "code",
   "execution_count": 19,
   "metadata": {},
   "outputs": [],
   "source": [
    "image = Image.open(\"TP_images/peppers.jpg\")\n",
    "flip_h(image)\n",
    "#image.save(\"testflip_h.jpg\")\n",
    "#flip_v(image)\n",
    "#image.save(\"testflip_v.jpg\")\n",
    "#rot90(image)\n",
    "#image.save(\"testRot90.jpg\")\n",
    "image.show()\n"
   ]
  },
  {
   "cell_type": "markdown",
   "metadata": {},
   "source": [
    "4. Ecrire une fonction superposition prenant deux images de mêmes dimensions, et créant l’image moyenne : chaque pixel sera la moyenne des pixels des deux images en même position (pour créer une nouvelle image de même dimension si on ne veut pas supprimer l’une des deux, on pourra utiliser image.copy())."
   ]
  },
  {
   "cell_type": "code",
   "execution_count": 21,
   "metadata": {},
   "outputs": [],
   "source": [
    "def supperposition(Image1, Image2) :\n",
    "    image1 = Image.open(\"TP_images/\"+Image1)\n",
    "    image2 = Image.open(\"TP_images/\"+Image2)\n",
    "    #recuperation des dimensions\n",
    "    (xmax,ymax) = image.size\n",
    "    #parcours de l’image\n",
    "    for x in range(xmax):\n",
    "        for y in range(ymax):\n",
    "            #moyenne des pixels\n",
    "            px = (image1.getpixel((x, y))[0] + image2.getpixel((x, y))[0])//2, (image1.getpixel((x, y))[1] + image2.getpixel((x, y))[1])//2,(image1.getpixel((x, y))[2] + image2.getpixel((x, y))[2])//2\n",
    "            (r,g,b) = px\n",
    "            image.putpixel((x, y), px)\n"
   ]
  },
  {
   "cell_type": "code",
   "execution_count": 22,
   "metadata": {},
   "outputs": [],
   "source": [
    "supperposition(\"peppers.jpg\", \"flare.jpg\")\n",
    "image.show()\n",
    "#image.save(\"testSupperpose.jpg\")"
   ]
  },
  {
   "cell_type": "markdown",
   "metadata": {},
   "source": [
    "### 2 Compression"
   ]
  },
  {
   "cell_type": "markdown",
   "metadata": {},
   "source": [
    "#### Exercice 2 :"
   ]
  },
  {
   "cell_type": "markdown",
   "metadata": {},
   "source": [
    "#### Exercice 3 :"
   ]
  },
  {
   "cell_type": "code",
   "execution_count": null,
   "metadata": {},
   "outputs": [],
   "source": []
  }
 ],
 "metadata": {
  "kernelspec": {
   "display_name": "Python 3",
   "language": "python",
   "name": "python3"
  },
  "language_info": {
   "codemirror_mode": {
    "name": "ipython",
    "version": 3
   },
   "file_extension": ".py",
   "mimetype": "text/x-python",
   "name": "python",
   "nbconvert_exporter": "python",
   "pygments_lexer": "ipython3",
   "version": "3.7.1"
  }
 },
 "nbformat": 4,
 "nbformat_minor": 2
}
