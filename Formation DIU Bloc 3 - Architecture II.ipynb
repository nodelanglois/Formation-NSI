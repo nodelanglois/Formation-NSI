{
 "cells": [
  {
   "cell_type": "markdown",
   "metadata": {},
   "source": [
    "## Formation DIU \n",
    "  \n"
   ]
  },
  {
   "cell_type": "markdown",
   "metadata": {},
   "source": [
    "### Achitecture : Mémoire"
   ]
  },
  {
   "cell_type": "markdown",
   "metadata": {},
   "source": [
    "#### Lundi 08 juillet (aprem)"
   ]
  },
  {
   "cell_type": "markdown",
   "metadata": {},
   "source": [
    "jordane.lorane@u-cergy.fr"
   ]
  },
  {
   "cell_type": "markdown",
   "metadata": {},
   "source": [
    "Documents :   \n"
   ]
  },
  {
   "cell_type": "markdown",
   "metadata": {},
   "source": [
    "### Aspect Externe :"
   ]
  },
  {
   "cell_type": "markdown",
   "metadata": {},
   "source": [
    "Evolution du transistor -> 14 nm (vers 7nm) pb quantique"
   ]
  },
  {
   "cell_type": "markdown",
   "metadata": {},
   "source": [
    "**3 types d'échanges :**\n",
    "- transferts d'instruction\n",
    "- transferts de données\n",
    "- transfert d'adresses"
   ]
  },
  {
   "cell_type": "markdown",
   "metadata": {},
   "source": [
    "**2 types de mémoire :**\n",
    "- mémoire vive\n",
    "- mémoire morte"
   ]
  },
  {
   "cell_type": "markdown",
   "metadata": {},
   "source": [
    "**Remarque :** un micro contrôleur peut être autonome (cpu + mémoire + ...)"
   ]
  },
  {
   "cell_type": "markdown",
   "metadata": {},
   "source": [
    "**Deux types de processeurs :**<br>\n",
    "**RISC** (Instructions réduites) et **CISC** (Instructions Complexes)<br>\n",
    "RISC est en passe de domminer les achitectures modernes"
   ]
  },
  {
   "cell_type": "markdown",
   "metadata": {},
   "source": [
    "**Remarque :** Il existe aussi des mémoires caches près du processeurs"
   ]
  },
  {
   "cell_type": "markdown",
   "metadata": {},
   "source": [
    "**Le contrôleur :**<br>\n",
    "- recoit l'instruction à exécuter\n",
    "- commande l'opération de l'ALU\n",
    "- selectionne le multiplexeur\n",
    "- place le résultat dans un registre\n",
    "- charger la prochaine instruction\n",
    "\n",
    "Le contrôleur peut être un programme ou un circuit (automate)\n",
    "\n",
    "\n"
   ]
  },
  {
   "cell_type": "markdown",
   "metadata": {},
   "source": [
    "**Les régistres spécifiques :**\n",
    "1. Le Compteur Programme (PC) ou Compteur Ordinal (CO). Initialisé à l'adresse de la première instruction du programme.\n",
    "1. Le registre d'état : contient des bits dont les résultats dépendent de l'ALU (UAL)"
   ]
  },
  {
   "cell_type": "markdown",
   "metadata": {},
   "source": [
    "**L'assembleur :**<br>\n",
    "Le contrôleur ayant besoin de langage machine on crée un langage intermédiaire l'assembleur (spécifique au processeur utilisé)"
   ]
  },
  {
   "cell_type": "markdown",
   "metadata": {},
   "source": [
    "**Exemple :**<br>\n",
    "```python ou C\n",
    "a = 3;\n",
    "b = 4;\n",
    "b = a + b;```\n",
    "\n",
    "```\n",
    "MOV #3,R0\n",
    "MOV #4,R1\n",
    "ADD R0,R1\n",
    "```\n",
    "\n",
    "**Cycle d'execution :**<br>\n",
    "1. Rechercher instruction\n",
    "1. Incrémenter le PC\n",
    "1. Décoder\n",
    "1. Exécuter l'opération\n",
    "1. Ranger le résultat\n",
    "1. (Retour)\n"
   ]
  },
  {
   "cell_type": "markdown",
   "metadata": {},
   "source": [
    "[Simulateur en ligne 32 bit](http://www.peterhigginson.co.uk/AQA)\n",
    "\n",
    "[Réalisateur d'un simulateur de processeur : Logisim](http://www.cburch.com/logisim/)"
   ]
  },
  {
   "cell_type": "markdown",
   "metadata": {},
   "source": [
    "```\n",
    "      MOV R0, #5\n",
    "      MOV R2, #30\n",
    "      STR R0, [R2]\n",
    "      MOV R1, #1\n",
    "label: SUB R0,R0, R1\n",
    "      ADD R2, R2, #1 \n",
    "      STR R0, [R2]\n",
    "      CMP R0, #0\n",
    "      BNE label\n",
    "      HALT \n",
    "```"
   ]
  },
  {
   "cell_type": "markdown",
   "metadata": {},
   "source": [
    "```\n",
    "      MOV R0, #0\n",
    "label1: ADD R0,R0, #1\n",
    "      MOV R1, #0\n",
    "      MOV R2, #0\n",
    "label2: ADD R1,R1, #1\n",
    "      ADD R2, R2, R0\n",
    "      CMP R1, #4\n",
    "      BNE label2\n",
    "      OUT R2, 4\n",
    "      CMP R0, #4\n",
    "      BNE label1\n",
    "      HALT \n",
    "```"
   ]
  },
  {
   "cell_type": "markdown",
   "metadata": {},
   "source": [
    "```\n",
    "      MOV R0, #0\n",
    "      MOV R3, #30\n",
    "label1: ADD R0,R0, #1\n",
    "      MOV R1, #0\n",
    "      MOV R2, #0\n",
    "label2: ADD R1, R1, #1\n",
    "      ADD R2, R2, R0\n",
    "      CMP R1, #4\n",
    "      BNE label2\n",
    "      STR R2, [R3]\n",
    "      ADD R3, R3, #1\n",
    "      OUT R2, 4\n",
    "      CMP R0, #4\n",
    "      BNE label1\n",
    "      HALT \n",
    "```"
   ]
  },
  {
   "cell_type": "markdown",
   "metadata": {},
   "source": [
    "Ref : Architecture et technologie des ordinateurs, Paolo Zanella"
   ]
  },
  {
   "cell_type": "markdown",
   "metadata": {},
   "source": [
    "$\\chi\\tau\\phi$"
   ]
  }
 ],
 "metadata": {
  "kernelspec": {
   "display_name": "Python 3",
   "language": "python",
   "name": "python3"
  },
  "language_info": {
   "codemirror_mode": {
    "name": "ipython",
    "version": 3
   },
   "file_extension": ".py",
   "mimetype": "text/x-python",
   "name": "python",
   "nbconvert_exporter": "python",
   "pygments_lexer": "ipython3",
   "version": "3.7.3"
  }
 },
 "nbformat": 4,
 "nbformat_minor": 2
}
