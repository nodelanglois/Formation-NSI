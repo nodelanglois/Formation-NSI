{
 "cells": [
  {
   "cell_type": "markdown",
   "metadata": {},
   "source": [
    "## Formation DIU \n",
    "  \n"
   ]
  },
  {
   "cell_type": "markdown",
   "metadata": {},
   "source": [
    "### Hardware : transistores"
   ]
  },
  {
   "cell_type": "markdown",
   "metadata": {},
   "source": [
    "#### Lundi 08 juillet (matin)"
   ]
  },
  {
   "cell_type": "markdown",
   "metadata": {},
   "source": [
    "jordane.lorane@u-cergy.fr"
   ]
  },
  {
   "cell_type": "markdown",
   "metadata": {},
   "source": [
    "Documents :   \n"
   ]
  },
  {
   "cell_type": "markdown",
   "metadata": {},
   "source": [
    "### Révolutions technologiques :"
   ]
  },
  {
   "cell_type": "markdown",
   "metadata": {},
   "source": [
    "Evolution du transistor -> 14 nm (vers 7nm) pb quantique"
   ]
  },
  {
   "cell_type": "markdown",
   "metadata": {},
   "source": [
    "**Intêret pédagogique :**  \n",
    "Premiers circuits logiques"
   ]
  },
  {
   "cell_type": "markdown",
   "metadata": {},
   "source": [
    "Circuit intégré"
   ]
  },
  {
   "cell_type": "markdown",
   "metadata": {},
   "source": [
    "Devant les pb de refroidissements : multiprocesseurs"
   ]
  },
  {
   "cell_type": "markdown",
   "metadata": {},
   "source": [
    "256 coeurs de microprocesseurs (RISC et CISC)"
   ]
  },
  {
   "cell_type": "markdown",
   "metadata": {},
   "source": [
    "Deux architectures de jeux d'instruction :\n",
    "(RISC et CISC mais CISC est en perte de vitesse."
   ]
  },
  {
   "cell_type": "markdown",
   "metadata": {},
   "source": [
    "### Algèbre de Boole"
   ]
  },
  {
   "cell_type": "markdown",
   "metadata": {},
   "source": [
    "Fonctions combinatoires (dépendent de l'entrée)\n",
    "Fonctions séquentielles (dépendendent de l'entrée et de l'état)"
   ]
  },
  {
   "cell_type": "markdown",
   "metadata": {},
   "source": [
    "Outils :\n",
    "\n",
    "- Equation\n",
    "- Système logique\n",
    "- Table de vérité\n",
    "- Chronogramme\n",
    "\n",
    "Trois lois de base : not et, ou\n",
    "Que l'on retrouve dans :\n",
    "- table de vérié\n",
    "- symbole\n",
    "- équation\n",
    "- langage de programmation (^, &&, ...)\n"
   ]
  },
  {
   "cell_type": "markdown",
   "metadata": {},
   "source": [
    "Construction de NAND et NOR"
   ]
  },
  {
   "cell_type": "markdown",
   "metadata": {},
   "source": [
    "Multiplexeur (aiguillage)"
   ]
  },
  {
   "cell_type": "markdown",
   "metadata": {},
   "source": [
    "Sel|A|B|S\n",
    "--- | --- | --- | --- \n",
    "0|0 |0 | 0 \n",
    "0|0| 1| 0\n",
    "0|1| 0| 1 \n",
    "0|1| 1| 1\n",
    "1|0| 0| 0\n",
    "1|0| 1| 1\n",
    "1|1| 0| 0\n",
    "1|1| 1| 1\n",
    "\n",
    "$\\bar{Sel}.A.\\bar{B}$<br>\n",
    "$\\bar{Sel}.A.B$<br>\n",
    "$Sel.\\bar{A}.B$<br>\n",
    "$Sel.A.B$\n",
    "\n",
    "Donc $S = \\bar{Sel}.A.\\bar{B}+\\bar{Sel}.A.B+Sel.\\bar{A}.B+Sel.A.B$<br>\n",
    "$=\\bar{Sel}.A.(B+\\bar{B})+Sel.B.(A+\\bar{A})$<br>\n",
    "$=\\bar{Sel}.A+Sel.B$"
   ]
  },
  {
   "cell_type": "markdown",
   "metadata": {},
   "source": [
    "Autre exemples d'applications :\n",
    "- demi additionneur (pas d'entrée de retenue)\n",
    "- décodeur ($n$ entrées et $2^n$ sorties)\n",
    "- additionneur complet"
   ]
  },
  {
   "cell_type": "markdown",
   "metadata": {},
   "source": [
    "**Additionneur Complet :**<br>\n",
    "Re retenue d'entrée<br>\n",
    "Rs retenue de sortie<br>\n",
    "\n",
    "Re|A|B|S|Rs \n",
    "---|---|---|---|---\n",
    "0| 0| 0| 0| 0| \n",
    "0| 0| 1| 1| 0| \n",
    "0| 1| 0| 1| 0| \n",
    "0| 1| 1| 0| 1| \n",
    "1| 0| 0| 1| 0| \n",
    "1| 0| 1| 0| 1| \n",
    "1| 1| 0| 0| 1| \n",
    "1| 1| 1| 1| 1| \n",
    "\n",
    "\n",
    "**Rappel** : $ \\oplus $ \"ou exclusif\"<br>\n",
    "$S = Re \\;\\oplus$ A $\\oplus$ B<br>\n",
    "$Rs = Re .(A\\oplus B)+A.B$<br>\n",
    "\n"
   ]
  },
  {
   "cell_type": "markdown",
   "metadata": {},
   "source": [
    "**Unité Arithmétique et Logique : ALU**<br>\n",
    "- Opérande de 1 bit (A ou B)\n",
    "- 4 opérations (and, or, notB, A+B)\n"
   ]
  },
  {
   "cell_type": "markdown",
   "metadata": {},
   "source": []
  },
  {
   "cell_type": "markdown",
   "metadata": {},
   "source": [
    "$\\chi\\tau\\phi$"
   ]
  },
  {
   "cell_type": "code",
   "execution_count": null,
   "metadata": {},
   "outputs": [],
   "source": []
  }
 ],
 "metadata": {
  "kernelspec": {
   "display_name": "Python 3",
   "language": "python",
   "name": "python3"
  },
  "language_info": {
   "codemirror_mode": {
    "name": "ipython",
    "version": 3
   },
   "file_extension": ".py",
   "mimetype": "text/x-python",
   "name": "python",
   "nbconvert_exporter": "python",
   "pygments_lexer": "ipython3",
   "version": "3.7.3"
  }
 },
 "nbformat": 4,
 "nbformat_minor": 2
}
