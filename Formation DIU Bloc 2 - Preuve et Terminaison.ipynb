{
 "cells": [
  {
   "cell_type": "markdown",
   "metadata": {},
   "source": [
    "## Formation DIU \n",
    "  \n"
   ]
  },
  {
   "cell_type": "markdown",
   "metadata": {},
   "source": [
    "### Preuve et Terminaison"
   ]
  },
  {
   "cell_type": "markdown",
   "metadata": {},
   "source": [
    "#### Mercredi 19 juin (matin)"
   ]
  },
  {
   "cell_type": "markdown",
   "metadata": {},
   "source": [
    "### Terminaison"
   ]
  },
  {
   "cell_type": "markdown",
   "metadata": {},
   "source": [
    "guillaume.renier@u-cergy.fr"
   ]
  },
  {
   "cell_type": "markdown",
   "metadata": {},
   "source": [
    "Impossible de savoir si le programme s'arrête "
   ]
  },
  {
   "cell_type": "markdown",
   "metadata": {},
   "source": [
    "**Théorème de l'arrêt :**  \n",
    "$$ Q(P,w)=\n",
    "\\left\\{\n",
    "\\begin{array}{rl}\n",
    "  1 &si P(\\omega) \\downarrow  (arrêt) \\\\\n",
    "  0 &si P(\\omega) \\uparrow (arrêt)  \n",
    "\\end{array}\n",
    "\\right.$$\n",
    "\n",
    "$Q$ n'existe pas  \n"
   ]
  },
  {
   "cell_type": "markdown",
   "metadata": {},
   "source": [
    "**Exemples :** Ackermann, Syracuse"
   ]
  },
  {
   "cell_type": "markdown",
   "metadata": {},
   "source": [
    "Wikipedia : Hoare"
   ]
  },
  {
   "cell_type": "markdown",
   "metadata": {},
   "source": [
    "**Théorème de Rice :**  \n",
    "Equivalent du Théorème de rice\n",
    "Pas de méthode générale pour de savoir si deux programmes sont équivalents"
   ]
  },
  {
   "cell_type": "markdown",
   "metadata": {},
   "source": [
    "Notion d'invariant de boucle :  \n",
    "Ex : Preuve d'un algorithme de tri (environ 25 pages)"
   ]
  },
  {
   "cell_type": "markdown",
   "metadata": {},
   "source": [
    "Découper un programme en trois parties :\n",
    "- entrées\n",
    "- traitements\n",
    "- sorties"
   ]
  },
  {
   "cell_type": "markdown",
   "metadata": {},
   "source": [
    "Boucle for : (simple avec de multiples conditions) de on peut avoir des peuves de terminaison"
   ]
  },
  {
   "cell_type": "markdown",
   "metadata": {},
   "source": [
    "Boucle while : plus difficile à trouver (on la convertie avec des boucles for ou des récursivités)"
   ]
  },
  {
   "cell_type": "markdown",
   "metadata": {},
   "source": [
    "**Théorème :**  \n",
    "Une récursivité décroissante entraine un arrêt."
   ]
  },
  {
   "cell_type": "markdown",
   "metadata": {},
   "source": [
    "### Tri par insertion :  \n",
    "Ci dessous l’algorithme."
   ]
  },
  {
   "cell_type": "code",
   "execution_count": null,
   "metadata": {},
   "outputs": [],
   "source": [
    "import random\n",
    "\"\"\"Ici commende véritablement l'algorithme.\n",
    "Les cases du tableau vont de l'indice zéro à l'indice k-1.\n",
    "Le tableau a donc une longueur de k.\"\"\"\n",
    "def triInsertion(liste):\n",
    "    for i in range(0,len(liste)-1): # i va de zéro à  k-2.\n",
    "        x=liste[i+1] # On considère la valeur dans la case juste après la dernière sélectionnée ci-dessus. Pour la valeur max de i (i=k-2) on obtient la dernière case du tableau (i+1=k-1).\n",
    "        j=i+1\n",
    "        while (j>0 and x < liste[j-1]) : #\n",
    "            liste[j] = liste[j-1]\n",
    "            j=j-1\n",
    "            liste[j] = x\n",
    "            \n",
    "listeATrier=[i for i in range(30)]\n",
    "random.shuffle(listeATrier)\n",
    "listeTrie=listeATrier.copy()\n",
    "triInsertion(listeTrie)\n",
    "print(listeATrier)\n",
    "print(listeTrie)"
   ]
  },
  {
   "cell_type": "markdown",
   "metadata": {},
   "source": [
    "Attention au vocabulaire :  \n",
    "Entrée de boucle :  \n",
    "Boucle :  \n",
    "-> Début  \n",
    "...  \n",
    "-> Fin  \n",
    "Sortie"
   ]
  },
  {
   "cell_type": "markdown",
   "metadata": {},
   "source": [
    "**Invariant**  \n",
    "Un invariant dépend d'un paramètre ...\n",
    "Cf la notion de prédicat (phrase valant vrai ou faux)\n",
    "Un invariant c'est une fonction, sa valeur peut varier."
   ]
  },
  {
   "cell_type": "markdown",
   "metadata": {},
   "source": [
    "Montrer avec les élèves toutes les étapes sur un exemple"
   ]
  },
  {
   "cell_type": "markdown",
   "metadata": {},
   "source": [
    "Sinon il faut passer par un formalisme mathématique ..."
   ]
  },
  {
   "cell_type": "markdown",
   "metadata": {},
   "source": [
    "#### Tri Selection :"
   ]
  },
  {
   "cell_type": "code",
   "execution_count": 22,
   "metadata": {},
   "outputs": [],
   "source": [
    "def triSelection(tableau):\n",
    "    for i in range(len(tableau)): #boucle FOR(1)\n",
    "        minimum = tableau[i]\n",
    "        indiceMin = i\n",
    "        for j in range(i,len(tableau)):\n",
    "            if tableau[j] < minimum:\n",
    "                minimum = tableau[j]\n",
    "                indiceMin = j\n",
    "        tableau[indiceMin], tableau[i] = tableau[i], minimum\n",
    "        #temp = tableau[i]\n",
    "        #tableau[i] = minimum\n",
    "        #tableau[indiceMin] = temp\n",
    "    return tableau\n"
   ]
  },
  {
   "cell_type": "code",
   "execution_count": 24,
   "metadata": {},
   "outputs": [
    {
     "name": "stdout",
     "output_type": "stream",
     "text": [
      "[2, 1, 5, 0, 4, 3]\n",
      "[0, 1, 2, 3, 4, 5]\n"
     ]
    }
   ],
   "source": [
    "import random\n",
    "listeATrier = [i for i in range(6)]\n",
    "random.shuffle(listeATrier)\n",
    "listeTrie = triSelection(listeATrier.copy())\n",
    "print(listeATrier)\n",
    "print(listeTrie)"
   ]
  },
  {
   "cell_type": "markdown",
   "metadata": {},
   "source": [
    "**Théorème :**  \n",
    "    Une boucle for imbriquée avec des instructions simple s'arrête tout le temps  \n",
    "Chaque boucle for est majorée par $N$ la taille du tableau donc l'ensemble majoré par $N^2$"
   ]
  },
  {
   "cell_type": "markdown",
   "metadata": {},
   "source": [
    "Voir execution dans :"
   ]
  },
  {
   "cell_type": "code",
   "execution_count": null,
   "metadata": {},
   "outputs": [],
   "source": []
  },
  {
   "cell_type": "markdown",
   "metadata": {},
   "source": [
    "%http\n",
    "http://pythontutor.com/visualize.html#mode=edit"
   ]
  },
  {
   "cell_type": "code",
   "execution_count": null,
   "metadata": {},
   "outputs": [],
   "source": []
  }
 ],
 "metadata": {
  "kernelspec": {
   "display_name": "Python 3",
   "language": "python",
   "name": "python3"
  },
  "language_info": {
   "codemirror_mode": {
    "name": "ipython",
    "version": 3
   },
   "file_extension": ".py",
   "mimetype": "text/x-python",
   "name": "python",
   "nbconvert_exporter": "python",
   "pygments_lexer": "ipython3",
   "version": "3.7.1"
  }
 },
 "nbformat": 4,
 "nbformat_minor": 2
}
