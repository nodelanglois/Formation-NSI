{
 "cells": [
  {
   "cell_type": "markdown",
   "metadata": {},
   "source": [
    "## Formation DIU \n",
    "  \n"
   ]
  },
  {
   "cell_type": "markdown",
   "metadata": {},
   "source": [
    "### Web"
   ]
  },
  {
   "cell_type": "markdown",
   "metadata": {},
   "source": [
    "#### Vendredi 14 juin (matin)"
   ]
  },
  {
   "cell_type": "markdown",
   "metadata": {},
   "source": [
    "marc.lemaire@u-cergy.fr"
   ]
  },
  {
   "cell_type": "markdown",
   "metadata": {},
   "source": [
    "Approche du web par les outils bureautique : séparation du fond et de la forme.\n",
    "Les élèves ne maitrîsent pas le traîtement de texte correctement :\n",
    "- niveau de titres\n",
    "- faire une table des matières automatique"
   ]
  },
  {
   "cell_type": "markdown",
   "metadata": {},
   "source": [
    "### 1. HTML"
   ]
  },
  {
   "cell_type": "markdown",
   "metadata": {},
   "source": [
    "#### HTML : HyperText Markup Language\n",
    "- Language de description interprété par le navigateur\n",
    "- Language de structure\n",
    "- Base de structure : XML "
   ]
  },
  {
   "cell_type": "markdown",
   "metadata": {},
   "source": [
    "#### Analogie avec le traitement de texte :\n",
    "Différences :\n",
    "\n",
    "- 1 Pas de titres principal : le plus haut niveau est titre 1\n",
    "- 1 Un titre par page."
   ]
  },
  {
   "cell_type": "markdown",
   "metadata": {},
   "source": [
    "#### Eléments de syntaxe :\n",
    "**Méta données**\n",
    "```html\n",
    "<!DOCTYPE HTML>\n",
    "<html>\n",
    "    <head>\n",
    "        <title> ... </title>\n",
    "        <meta charset=\"utf-8\">\n",
    "    </head>\n",
    "    <body>\n",
    "        ...\n",
    "    </body>\n",
    "</html>\n",
    "```"
   ]
  },
  {
   "cell_type": "markdown",
   "metadata": {},
   "source": [
    "#### Eléments de syntaxe (suite):\n",
    "**Corps**\n",
    "```html\n",
    "<body>\n",
    "    <header>\n",
    "    </header>\n",
    "    <section>\n",
    "    </section>\n",
    "    <nav>\n",
    "    </nav>\n",
    "    \n",
    "    <footer>\n",
    "    </footer>\n",
    "        \n",
    "</body>\n",
    "```"
   ]
  },
  {
   "cell_type": "markdown",
   "metadata": {},
   "source": [
    "**Quelques balises**\n",
    "- Squelette et meta-données : `<!DOCTYPE> <html> <head> <title> <body>`\n",
    "- Structure de la page : `<header> <footer> <section> <article> <nav> <aside> <div>`\n",
    "- Structuration du contenu : `<h1> <h2> <p> <figure> <figcaption> <image>`\n",
    "- Autres éléments : `<a> <strong> <em>`\n",
    "\n",
    "Remarque : `<u>` n'est plus d'usage. "
   ]
  },
  {
   "cell_type": "markdown",
   "metadata": {},
   "source": [
    "**Exemples :**\n",
    "```html\n",
    "<figure>\n",
    "    <figcaption> </figcaption>\n",
    "    <img src=\"...\" alt=\"...\"_/>    \n",
    "</figure>\n",
    "\n",
    "<a href=\"...\" > ... </a>\n",
    "```\n",
    "exemple d'adresse : \"./images/photo.jpeg\" \n",
    "(. pour descendre d'un niveau et .. pour remonter d'un niveau)"
   ]
  },
  {
   "cell_type": "markdown",
   "metadata": {},
   "source": [
    "**Valider le code HTML**\n",
    "<br>https://validator.w3.org/\n",
    "<br>https://validator.w3.org/nu\n",
    "<br>(Important pour mettre du JS, pour le référencement, ...)\n",
    "<br> Firefox : permet aussi de vérifier la validaté du code"
   ]
  },
  {
   "cell_type": "markdown",
   "metadata": {},
   "source": [
    "### 2. CSS"
   ]
  },
  {
   "cell_type": "markdown",
   "metadata": {},
   "source": [
    "#### CSS : Cascading Style Sheet\n",
    "- langage interprété par le navigateur\n",
    "- principe de structure:\n",
    "    <br>selecteur {propriété : valeur}"
   ]
  },
  {
   "cell_type": "markdown",
   "metadata": {},
   "source": [
    "#### Interaction avec le HTML"
   ]
  },
  {
   "cell_type": "markdown",
   "metadata": {},
   "source": [
    "Les balises HTML\n",
    "- ex. `<p> ...</>`\n",
    "\n",
    "Les classes CSS\n",
    "- ex. `<p class=\"vert\"> ... </p>`\n",
    "- ex. ` <p class=\"rouge\"> ... </p>`\n",
    "\n",
    "Les identifiants"
   ]
  },
  {
   "cell_type": "markdown",
   "metadata": {},
   "source": [
    "**Eléments de syntaxe**\n",
    "<br>p{}"
   ]
  },
  {
   "cell_type": "markdown",
   "metadata": {},
   "source": [
    "#### Assemblage :\n",
    "- CSS externe : \n",
    "<br>la balise `<link />` (dans la zone `<head>`)\n",
    "<br>ex : `<link rel\"stylesheet\" href\"style.css\" />`\n",
    "- CSS interne: \n",
    "<br>la balise `<style>` (dans la zone`<head>`)\n",
    "<br>ex : `<style> p {color:green;}</style>`\n",
    "- CSS local : attribut style\n",
    "`<p style=\"color:green;\">...</p>`"
   ]
  },
  {
   "cell_type": "markdown",
   "metadata": {},
   "source": [
    "**Exemples de propriétés & valeurs :**\n",
    "```CSS\n",
    "color : #FF0000\n",
    "color : #f00\n",
    "font-size : 12pt; (existe aussi em : relatif)\n",
    "width : 100%;\n",
    "margin-left : 2px;```"
   ]
  },
  {
   "cell_type": "markdown",
   "metadata": {},
   "source": [
    "**Valider le code CSS**\n",
    "<br>https://jigsaw.w3.org/css-validator\n",
    "<br>https://validator.w3.org/nu\n",
    "<br>(Important pour mettre du JS, pour le référencement, ...)"
   ]
  },
  {
   "cell_type": "markdown",
   "metadata": {},
   "source": [
    "**Exemple d'activité :**\n",
    "<br>Ouvrir un fichier .odt (ou .docx bien structuré) avec un désarchiveur (.zip) ou un navigateur.\n",
    "<br>(Renommer le fichier en .zip si besoin)"
   ]
  },
  {
   "cell_type": "markdown",
   "metadata": {},
   "source": [
    "**Outil :**\n",
    "<br>Pour éviter de coder après avoir créé une première page à partir de rien.\n",
    "<br>Bluefish Editor (gratuit)\n",
    "<br>Ou outils en ligne ...\n",
    "<br>Modifier le CSS dans le navigateur."
   ]
  },
  {
   "cell_type": "markdown",
   "metadata": {},
   "source": []
  },
  {
   "cell_type": "markdown",
   "metadata": {},
   "source": []
  },
  {
   "cell_type": "markdown",
   "metadata": {},
   "source": []
  },
  {
   "cell_type": "markdown",
   "metadata": {},
   "source": []
  },
  {
   "cell_type": "code",
   "execution_count": null,
   "metadata": {},
   "outputs": [],
   "source": [
    "%%css\n"
   ]
  },
  {
   "cell_type": "code",
   "execution_count": 4,
   "metadata": {},
   "outputs": [
    {
     "data": {
      "text/html": [
       "<!DOCTYPE HTML>\n",
       "<html>\n",
       "    <head>\n",
       "        <title> ... </title>\n",
       "        <meta charset=\"utf-8\">\n",
       "    </head>\n",
       "    <body>\n",
       "        <h1>Super titre</h1>\n",
       "        <p>\n",
       "        Voili, voilà\n",
       "        </p>\n",
       "    </body>\n",
       "</html>"
      ],
      "text/plain": [
       "<IPython.core.display.HTML object>"
      ]
     },
     "metadata": {},
     "output_type": "display_data"
    }
   ],
   "source": [
    "%%html\n",
    "<!DOCTYPE HTML>\n",
    "<html>\n",
    "    <head>\n",
    "        <title> ... </title>\n",
    "        <meta charset=\"utf-8\">\n",
    "        <style>\n",
    "            p {color:green;}\n",
    "        </style>\n",
    "    </head>\n",
    "    <body>\n",
    "        <h1>Super titre</h1>\n",
    "        <p>\n",
    "        Voili, voilà\n",
    "        </p>\n",
    "    </body>\n",
    "</html>"
   ]
  },
  {
   "cell_type": "markdown",
   "metadata": {},
   "source": []
  },
  {
   "cell_type": "markdown",
   "metadata": {},
   "source": []
  },
  {
   "cell_type": "markdown",
   "metadata": {},
   "source": []
  },
  {
   "cell_type": "markdown",
   "metadata": {},
   "source": []
  },
  {
   "cell_type": "markdown",
   "metadata": {},
   "source": []
  },
  {
   "cell_type": "markdown",
   "metadata": {},
   "source": []
  },
  {
   "cell_type": "markdown",
   "metadata": {},
   "source": []
  },
  {
   "cell_type": "markdown",
   "metadata": {},
   "source": []
  }
 ],
 "metadata": {
  "kernelspec": {
   "display_name": "Python 3",
   "language": "python",
   "name": "python3"
  },
  "language_info": {
   "codemirror_mode": {
    "name": "ipython",
    "version": 3
   },
   "file_extension": ".py",
   "mimetype": "text/x-python",
   "name": "python",
   "nbconvert_exporter": "python",
   "pygments_lexer": "ipython3",
   "version": "3.7.1"
  }
 },
 "nbformat": 4,
 "nbformat_minor": 2
}
