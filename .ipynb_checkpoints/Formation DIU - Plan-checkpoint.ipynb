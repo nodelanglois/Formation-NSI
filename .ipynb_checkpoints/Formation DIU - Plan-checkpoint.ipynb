{
 "cells": [
  {
   "cell_type": "markdown",
   "metadata": {},
   "source": [
    "## Formation DIU \n",
    "  \n"
   ]
  },
  {
   "cell_type": "markdown",
   "metadata": {},
   "source": [
    "#### Infos connexions :\n",
    "\n",
    "login : elocal\n",
    "\n",
    "mdp : elocal\n"
   ]
  },
  {
   "cell_type": "markdown",
   "metadata": {},
   "source": [
    "#### Mardi 11 juin"
   ]
  },
  {
   "cell_type": "markdown",
   "metadata": {},
   "source": [
    "https://cours.u-cergy.fr/pluginfile.php/213510/mod_resource/content/1/Python_et_les_autres.pdf"
   ]
  },
  {
   "cell_type": "markdown",
   "metadata": {},
   "source": [
    "Python :\n",
    "Un langage très propre peu de décorations syntaxiques\n",
    "<br>Indentation syntaxique\n",
    "<br>Exécution simple sans compilation.\n",
    "<br>Les difficultés sont cachées"
   ]
  },
  {
   "cell_type": "markdown",
   "metadata": {},
   "source": [
    "Thèse de Church :"
   ]
  },
  {
   "cell_type": "markdown",
   "metadata": {},
   "source": [
    "> Tous les langages/ ordinateurs sont équivalents (à la machine de Turing)"
   ]
  },
  {
   "cell_type": "markdown",
   "metadata": {},
   "source": [
    "Python est un langage semi-interpreté ... on génère un byte code ... `.pyc`"
   ]
  },
  {
   "cell_type": "markdown",
   "metadata": {},
   "source": [
    "Python est un langage de haut niveau :\n",
    "      <div align=center> <br> machine - assembleur < C < java - python < hommme </div>"
   ]
  },
  {
   "cell_type": "markdown",
   "metadata": {},
   "source": [
    "Typage dynamique"
   ]
  },
  {
   "cell_type": "markdown",
   "metadata": {},
   "source": [
    "Opérations impossibles: 3 + \"toto\"\n",
    "<br>Compatibilité de types : int -> float"
   ]
  },
  {
   "cell_type": "markdown",
   "metadata": {},
   "source": [
    "Adressage mémoire :\n",
    "<br>Passage par valeur / Passage par adresse.\n",
    "<br>En python tout est référencé\n",
    "<br> D'où des tableaux de n'importe quoi qui sont des listes de références."
   ]
  },
  {
   "cell_type": "code",
   "execution_count": 3,
   "metadata": {},
   "outputs": [
    {
     "name": "stdout",
     "output_type": "stream",
     "text": [
      "[[0, 0, 0, 0, 0, 0, 0, 0, 0, 0], [0, 0, 0, 0, 0, 0, 0, 0, 0, 0], [0, 0, 0, 0, 0, 0, 0, 0, 0, 0], [0, 0, 0, 0, 0, 0, 0, 0, 0, 0], [0, 0, 0, 0, 0, 0, 0, 0, 0, 0], [0, 0, 0, 0, 0, 0, 0, 0, 0, 0], [0, 0, 0, 0, 0, 0, 0, 0, 0, 0], [0, 0, 0, 0, 0, 0, 0, 0, 0, 0], [0, 0, 0, 0, 0, 0, 0, 0, 0, 0], [0, 0, 0, 0, 0, 0, 0, 0, 0, 0]]\n",
      "[[0, 0, 0, 0, 0, 0, 0, 0, 0, 0], [0, 0, 0, 0, 0, 0, 0, 0, 0, 0], [0, 0, 0, 0, 0, 0, 0, 0, 0, 0], [0, 0, 0, 0, 0, 0, 0, 0, 0, 0], [0, 0, 0, 0, 0, 0, 0, 0, 0, 0], [0, 0, 0, 0, 0, 0, 0, 0, 0, 0], [0, 0, 0, 0, 0, 0, 0, 0, 0, 0], [0, 0, 0, 0, 0, 0, 0, 0, 0, 0], [0, 0, 0, 0, 0, 0, 0, 0, 0, 0], [0, 0, 0, 0, 0, 0, 0, 0, 0, 0]]\n",
      "[[0, 3, 0, 0, 0, 0, 0, 0, 0, 0], [0, 3, 0, 0, 0, 0, 0, 0, 0, 0], [0, 3, 0, 0, 0, 0, 0, 0, 0, 0], [0, 3, 0, 0, 0, 0, 0, 0, 0, 0], [0, 3, 0, 0, 0, 0, 0, 0, 0, 0], [0, 3, 0, 0, 0, 0, 0, 0, 0, 0], [0, 3, 0, 0, 0, 0, 0, 0, 0, 0], [0, 3, 0, 0, 0, 0, 0, 0, 0, 0], [0, 3, 0, 0, 0, 0, 0, 0, 0, 0], [0, 3, 0, 0, 0, 0, 0, 0, 0, 0]]\n",
      "[[0, 3, 0, 0, 0, 0, 0, 0, 0, 0], [0, 0, 0, 0, 0, 0, 0, 0, 0, 0], [0, 0, 0, 0, 0, 0, 0, 0, 0, 0], [0, 0, 0, 0, 0, 0, 0, 0, 0, 0], [0, 0, 0, 0, 0, 0, 0, 0, 0, 0], [0, 0, 0, 0, 0, 0, 0, 0, 0, 0], [0, 0, 0, 0, 0, 0, 0, 0, 0, 0], [0, 0, 0, 0, 0, 0, 0, 0, 0, 0], [0, 0, 0, 0, 0, 0, 0, 0, 0, 0], [0, 0, 0, 0, 0, 0, 0, 0, 0, 0]]\n"
     ]
    }
   ],
   "source": [
    "L1=[[0]*10]*10\n",
    "L2=[[0 for i in range(10)] for i in range(10)]\n",
    "print(L1)\n",
    "print(L2)\n",
    "L1[0][1]=3\n",
    "L2[0][1]=3\n",
    "print(L1)\n",
    "print(L2)"
   ]
  },
  {
   "cell_type": "markdown",
   "metadata": {},
   "source": [
    "#### Mardi 11 juin aprem : listes"
   ]
  },
  {
   "cell_type": "markdown",
   "metadata": {},
   "source": [
    "##### Exercice 1 Séparation d'une liste"
   ]
  },
  {
   "cell_type": "markdown",
   "metadata": {},
   "source": [
    "Séparer une liste L en : entiers, float, str, list (utiliser is instance)"
   ]
  },
  {
   "cell_type": "code",
   "execution_count": 17,
   "metadata": {},
   "outputs": [],
   "source": [
    "# Méthode itérative\n",
    "# isinstance(3, int)\n",
    "# print(type(3), type(3.), type(\"3\"), type([3]))\n",
    "\n",
    "def separeListe1(L):\n",
    "    L_int = []\n",
    "    L_float = []\n",
    "    L_str = []\n",
    "    L_list = []    \n",
    "    for elem in L:\n",
    "        if isinstance(elem, int):\n",
    "            L_int.append(elem)\n",
    "        elif isinstance(elem, float):\n",
    "            L_float.append(elem)\n",
    "        elif isinstance(elem, str):\n",
    "            L_str.append(elem)\n",
    "        elif isinstance(elem, list):\n",
    "            L_list.append(elem)\n",
    "                "
   ]
  },
  {
   "cell_type": "code",
   "execution_count": null,
   "metadata": {},
   "outputs": [],
   "source": [
    "# Meme fonction récusive\n",
    "def separeListe2(i,n,L,Li,Lf,Ls,Ll):\n",
    "    # 2 cas :\n",
    "    # Liste = vide\n",
    "    # Liste = elem + sous-liste\n",
    "    if i<n:\n",
    "        if isinstance(elem, int):\n",
    "            L_int.append(elem)\n",
    "        elif  isinstance(elem, float):\n",
    "            L_float.append(elem)\n",
    "        elif  isinstance(elem, str):\n",
    "            L_str.append(elem)\n",
    "        elif  isinstance(elem, list):\n",
    "            L_list.append(elem)\n",
    "\n",
    "Li, Lf, Ls, Ll = [],[],[],[]\n",
    "separeListe2(0,n,L,Li,Lf,Ls,Ll)\n"
   ]
  },
  {
   "cell_type": "markdown",
   "metadata": {},
   "source": [
    "##### Exercice 2 : Recherche et inversion"
   ]
  },
  {
   "cell_type": "markdown",
   "metadata": {},
   "source": [
    "1 Construire une liste en inversant l'ordre d'une liste donnée"
   ]
  },
  {
   "cell_type": "code",
   "execution_count": 16,
   "metadata": {},
   "outputs": [
    {
     "name": "stdout",
     "output_type": "stream",
     "text": [
      "3\n",
      "2\n",
      "1\n",
      "[3, 2, 1]\n"
     ]
    }
   ],
   "source": [
    "def inverse1(L):\n",
    "    L_inverse=[]\n",
    "    for i in range(len(L)-1, -1, -1):\n",
    "        L_inverse.append(L[i])\n",
    "    print(L_inverse)\n",
    "\n",
    "inverse1([1,2,3])\n"
   ]
  },
  {
   "cell_type": "code",
   "execution_count": 18,
   "metadata": {},
   "outputs": [
    {
     "name": "stdout",
     "output_type": "stream",
     "text": [
      "[[0, 3, 0, 0, 0, 0, 0, 0, 0, 0], [0, 3, 0, 0, 0, 0, 0, 0, 0, 0], [0, 3, 0, 0, 0, 0, 0, 0, 0, 0], [0, 3, 0, 0, 0, 0, 0, 0, 0, 0], [0, 3, 0, 0, 0, 0, 0, 0, 0, 0], [0, 3, 0, 0, 0, 0, 0, 0, 0, 0], [0, 3, 0, 0, 0, 0, 0, 0, 0, 0], [0, 3, 0, 0, 0, 0, 0, 0, 0, 0], [0, 3, 0, 0, 0, 0, 0, 0, 0, 0], [0, 3, 0, 0, 0, 0, 0, 0, 0, 0]]\n"
     ]
    }
   ],
   "source": [
    "def creerList():\n",
    "    L1=[1]\n",
    "\n",
    "print(L1)"
   ]
  },
  {
   "cell_type": "markdown",
   "metadata": {},
   "source": [
    "2 Inverser les éléments d'une liste sans créer de liste intermédiaire"
   ]
  },
  {
   "cell_type": "markdown",
   "metadata": {},
   "source": [
    "Données :\n",
    "    - l : liste\n",
    "Traitement :\n",
    "    - renversement de la liste l\n",
    "résultat"
   ]
  },
  {
   "cell_type": "code",
   "execution_count": 22,
   "metadata": {},
   "outputs": [
    {
     "name": "stdout",
     "output_type": "stream",
     "text": [
      "[3, 2, 1]\n"
     ]
    }
   ],
   "source": [
    "def inverse2(L):\n",
    "    n = len(L)\n",
    "    for i in range(n//2):\n",
    "        L[i], L[n-i-1] = L[n-i-1], L[i]\n",
    "    print(L)\n",
    "    \n",
    "inverse2([1,2,3])\n",
    "    "
   ]
  },
  {
   "cell_type": "code",
   "execution_count": 23,
   "metadata": {},
   "outputs": [
    {
     "name": "stdout",
     "output_type": "stream",
     "text": [
      "[3, 2, 1]\n"
     ]
    }
   ],
   "source": [
    "def inverse2recursive(i, j, L):\n",
    "    n = len(L)\n",
    "    if i<j:\n",
    "        L[i], L[j] = L[j], L[i]\n",
    "        inverse2recursive(i+1, j-1,L)\n",
    "    print(L)\n",
    "    \n",
    "inverse2([1,2,3])\n"
   ]
  },
  {
   "cell_type": "markdown",
   "metadata": {},
   "source": [
    "3 Recherche d'un élément"
   ]
  },
  {
   "cell_type": "markdown",
   "metadata": {},
   "source": [
    "Données :\n",
    "- element\n",
    "- liste\n",
    "\n",
    "Traitement:\n",
    "- élement appartient à liste\n",
    "\n",
    "Résultat"
   ]
  },
  {
   "cell_type": "code",
   "execution_count": null,
   "metadata": {},
   "outputs": [],
   "source": [
    "def recherche(elem, liste):\n",
    "    for "
   ]
  },
  {
   "cell_type": "code",
   "execution_count": null,
   "metadata": {},
   "outputs": [],
   "source": [
    "# Version 2:\n",
    "def recherche2(elem, liste):\n",
    "    i=0\n",
    "    while i<n and liste[i]!="
   ]
  },
  {
   "cell_type": "code",
   "execution_count": 24,
   "metadata": {},
   "outputs": [
    {
     "ename": "SyntaxError",
     "evalue": "invalid syntax (<ipython-input-24-9d92c1c8e9e5>, line 1)",
     "output_type": "error",
     "traceback": [
      "\u001b[0;36m  File \u001b[0;32m\"<ipython-input-24-9d92c1c8e9e5>\"\u001b[0;36m, line \u001b[0;32m1\u001b[0m\n\u001b[0;31m    Version 3 : R\u001b[0m\n\u001b[0m            ^\u001b[0m\n\u001b[0;31mSyntaxError\u001b[0m\u001b[0;31m:\u001b[0m invalid syntax\n"
     ]
    }
   ],
   "source": [
    "#Version 3 : R\n",
    "\n"
   ]
  },
  {
   "cell_type": "code",
   "execution_count": 25,
   "metadata": {},
   "outputs": [
    {
     "ename": "SyntaxError",
     "evalue": "invalid syntax (<ipython-input-25-bf89e7089ce0>, line 2)",
     "output_type": "error",
     "traceback": [
      "\u001b[0;36m  File \u001b[0;32m\"<ipython-input-25-bf89e7089ce0>\"\u001b[0;36m, line \u001b[0;32m2\u001b[0m\n\u001b[0;31m    def recherche2recur()\u001b[0m\n\u001b[0m                         ^\u001b[0m\n\u001b[0;31mSyntaxError\u001b[0m\u001b[0;31m:\u001b[0m invalid syntax\n"
     ]
    }
   ],
   "source": [
    "#Version 2 Récursive\n",
    "def recherche2recur()\n",
    "if i>=n:\n",
    "    return False\n",
    "elif L[i]==elem:\n",
    "    return True\n",
    "else:\n",
    "    return re"
   ]
  },
  {
   "cell_type": "code",
   "execution_count": 30,
   "metadata": {},
   "outputs": [
    {
     "data": {
      "text/plain": [
       "True"
      ]
     },
     "execution_count": 30,
     "metadata": {},
     "output_type": "execute_result"
    }
   ],
   "source": [
    "#Version 3 Récursive\n",
    "def recherche3recur(i,n, elem, L):\n",
    "    if L[i]==elem:\n",
    "        return i<n\n",
    "    else:\n",
    "        return recherche3recur(i+1,n, elem, L)\n",
    "#Appel\n",
    "L = [1,2,3,4]\n",
    "elem = 5\n",
    "L.append(elem)\n",
    "n=len(L)\n",
    "trouve = recherche3recur(0,n,elem,L)\n",
    "trouve\n"
   ]
  },
  {
   "cell_type": "markdown",
   "metadata": {},
   "source": [
    "##### Exercice 3 : Occurence d'un nombre"
   ]
  },
  {
   "cell_type": "markdown",
   "metadata": {},
   "source": [
    "Données :\n",
    "- $n$ : entier\n",
    "- $L$ : liste // $Vmin << L[i] << Vmax$\n",
    "\n",
    "Traitement :\n",
    "- Déterminer le nombre d'occurences de chaque élément de la liste\n",
    "\n",
    "Résultat :\n",
    "- occurences : liste\n",
    "\n",
    "Vmin, ..., Vmax\n"
   ]
  },
  {
   "cell_type": "code",
   "execution_count": 31,
   "metadata": {},
   "outputs": [],
   "source": [
    "# On possède une liste de n éléments\n",
    "# Pour n variant de Vmin à Vmax : occ[n]==0\n",
    "# Pour i allant de 0 à  n-1 faire \n",
    "# Traitement de chaque élément :ne = e-Vmin, occ[ne] += 1\n",
    "# calOcc(n, Vmin, Vmax, L, occ)\n"
   ]
  },
  {
   "cell_type": "code",
   "execution_count": 32,
   "metadata": {},
   "outputs": [
    {
     "ename": "SyntaxError",
     "evalue": "invalid syntax (<ipython-input-32-0f56004909e1>, line 1)",
     "output_type": "error",
     "traceback": [
      "\u001b[0;36m  File \u001b[0;32m\"<ipython-input-32-0f56004909e1>\"\u001b[0;36m, line \u001b[0;32m1\u001b[0m\n\u001b[0;31m    def occurence(n,)\u001b[0m\n\u001b[0m                     ^\u001b[0m\n\u001b[0;31mSyntaxError\u001b[0m\u001b[0;31m:\u001b[0m invalid syntax\n"
     ]
    }
   ],
   "source": [
    "def occurence(n,)"
   ]
  },
  {
   "cell_type": "code",
   "execution_count": 33,
   "metadata": {},
   "outputs": [],
   "source": [
    "# Liste = {vide, elem + sous-liste\n",
    "# Traitement dans le sens décroissant\n",
    "#L[0 ... n] = {n=0, L[n]+L[0 ... n-1]\n",
    "\n",
    "def occurence(n, Vmin, Vman, L, occ):\n",
    "    if n!=0:\n",
    "        note = L[n-1]\n",
    "        inote = note - Vmin\n",
    "        occ[inote]=occ[inote]+1\n",
    "        occurence(n-1, Vmin, Vman, L, occ)"
   ]
  },
  {
   "cell_type": "markdown",
   "metadata": {},
   "source": [
    "##### Exercice 4 : Polynôme :"
   ]
  },
  {
   "cell_type": "markdown",
   "metadata": {},
   "source": [
    "\n",
    "On considère des polynômes de degrés $n$ de la forme :\n",
    "$ P(x)=a_0+a_1x+...+a_nx^n $ à coefficients réels $a$.\n",
    "\n",
    "Nous représentons le polynôme $ P(x) $ par une variable entière n contenant le degré et par une liste de réels pour ses coefficients. **(Même les coefficients nuls seront représentés dans le tableau)**\n"
   ]
  },
  {
   "cell_type": "markdown",
   "metadata": {},
   "source": [
    "1 Proposer un algorythme qui génère aléatoirement un polynôme :"
   ]
  },
  {
   "cell_type": "code",
   "execution_count": 64,
   "metadata": {},
   "outputs": [
    {
     "data": {
      "text/plain": [
       "4"
      ]
     },
     "execution_count": 64,
     "metadata": {},
     "output_type": "execute_result"
    }
   ],
   "source": [
    "from random import *\n",
    "\n",
    "def creerPoly():\n",
    "    # degré inférieur ou égal à 10.\n",
    "    P = []\n",
    "    n = randint(0,10)\n",
    "    for i in range(n+1):\n",
    "        P.append(randint(-100,100)*random())\n",
    "    print(n)\n",
    "    \n",
    "#creerPoly()\n",
    "randint(-5, 5)"
   ]
  },
  {
   "cell_type": "code",
   "execution_count": null,
   "metadata": {},
   "outputs": [],
   "source": []
  }
 ],
 "metadata": {
  "kernelspec": {
   "display_name": "Python 3",
   "language": "python",
   "name": "python3"
  },
  "language_info": {
   "codemirror_mode": {
    "name": "ipython",
    "version": 3
   },
   "file_extension": ".py",
   "mimetype": "text/x-python",
   "name": "python",
   "nbconvert_exporter": "python",
   "pygments_lexer": "ipython3",
   "version": "3.7.1"
  }
 },
 "nbformat": 4,
 "nbformat_minor": 2
}
