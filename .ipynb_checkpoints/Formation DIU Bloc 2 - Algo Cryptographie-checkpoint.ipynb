{
 "cells": [
  {
   "cell_type": "markdown",
   "metadata": {},
   "source": [
    "## Formation DIU \n",
    "  \n"
   ]
  },
  {
   "cell_type": "markdown",
   "metadata": {},
   "source": [
    "### Cryptographie"
   ]
  },
  {
   "cell_type": "markdown",
   "metadata": {},
   "source": [
    "#### Mardi 18 juin (aprem)"
   ]
  },
  {
   "cell_type": "markdown",
   "metadata": {},
   "source": []
  },
  {
   "cell_type": "markdown",
   "metadata": {},
   "source": [
    "**Cryptographie :**\n",
    "\n",
    "- Historique\n",
    "    - Cesar\n",
    "    - Vigenère\n",
    "    - Hill\n",
    "    - Enigma\n",
    "    - Conférences Histocrypt :\n",
    "        - Activité : couverture uruguaienne (scratch, python)\n",
    "\n",
    "- PGP\n",
    "    \n",
    "- Chiffrement\n",
    "    - Clé privée symétrique\n",
    "        - Flistel\n",
    "            - DES\n",
    "        - AES\n",
    "    - Clé publique asymétrique :\n",
    "        - El Gamal\n",
    "        - RSA\n",
    "        - Sac à dos\n",
    "\n",
    "- Cryptanalyse\n",
    "    - Shanon (théorie de l'information)\n",
    "    - Travail sur des fréquences de chaines de caractère \n",
    "\n",
    "- Hachage\n",
    "    - MD5 (plus utilisable en sécurité)\n",
    "    - SHA1\n",
    "    - SHA2\n",
    "    - SHA3\n",
    "    - CRUNCH\n",
    "- BlockChain\n",
    "- Stégano\n",
    "- Signature\n",
    "    - PGP\n",
    "- Authentification\n",
    "    - ZK : Zéro Knoledge\n",
    "- Crypto Quantique ..."
   ]
  },
  {
   "cell_type": "markdown",
   "metadata": {},
   "source": [
    "Schema Flistel :"
   ]
  },
  {
   "cell_type": "markdown",
   "metadata": {},
   "source": [
    "Remarque :\n",
    "xor : 2^3=1\n",
    "Le calcul se fait en binaire bit à bit 10 ^11 = 01"
   ]
  },
  {
   "cell_type": "markdown",
   "metadata": {},
   "source": [
    "**Sac à dos : Merkle**  \n",
    "On prend un entrier N assez grand (souvent premier)  \n",
    "On a k nombres $p_1, ..., p_k$\n",
    "Etant donné S € {0; ...; N-1}\n",
    "Il faut trouver $x_1, x_2, ..., x_k \\in {0,1}^k$ tels que :  \n",
    "$\\sum_{i=1}^kx_i.p_i $ congru à S[N]  \n",
    "Si la suite est super croissante (chaque nombre est > à la somme des précédents)\n",
    "\n"
   ]
  },
  {
   "cell_type": "markdown",
   "metadata": {},
   "source": [
    "On choisit a inversible dans $\\mathbb Z/N\\mathbb Z$ : $\\exists$ b, a.b $\\equiv$ 1 mod(N)  \n",
    "$q_1, ...q_k$ super croissante et on calcule p_i=aq_i mod(N)  \n",
    "On rend public $p_1, p_2, ... p_k$ et N"
   ]
  },
  {
   "cell_type": "markdown",
   "metadata": {},
   "source": [
    "**Fonction de hashage**  \n",
    "$h:{\\{0;1\\}}^* \\to {\\{0;1\\}}^{256}$  \n",
    "ens des fichiers $\\to$ empreinte"
   ]
  },
  {
   "cell_type": "markdown",
   "metadata": {},
   "source": [
    "**Principe de Kirchhoff**  \n",
    "La sécurité repose sur la clé et non sur la connaissance du système de chiffrement\n",
    "\n",
    "**Combien de calculs peut-on faire ?**  \n",
    "$2^{10}$ à la main  (1j)  \n",
    "$2^{20}$ à la main (3 ans)  \n",
    "$2^{30}$ avec un PC (quelques minutes)  \n",
    "$2^{40}$ faisable mais long  \n",
    "$2^{70}$ gros calcul (1M d'€)  \n",
    "$2^{128}$ limite actuelle (avant c'était $2^{80}$)   \n",
    "\n"
   ]
  },
  {
   "cell_type": "markdown",
   "metadata": {},
   "source": [
    "Schema Flistel :"
   ]
  },
  {
   "cell_type": "markdown",
   "metadata": {},
   "source": [
    "Schema Flistel :"
   ]
  },
  {
   "cell_type": "markdown",
   "metadata": {},
   "source": [
    "Schema Flistel :"
   ]
  },
  {
   "cell_type": "markdown",
   "metadata": {},
   "source": [
    "Schema Flistel :"
   ]
  },
  {
   "cell_type": "markdown",
   "metadata": {},
   "source": [
    "Schema Flistel :"
   ]
  },
  {
   "cell_type": "markdown",
   "metadata": {},
   "source": [
    "Schema Flistel :"
   ]
  },
  {
   "cell_type": "markdown",
   "metadata": {},
   "source": [
    "Schema Flistel :"
   ]
  },
  {
   "cell_type": "markdown",
   "metadata": {},
   "source": [
    "Schema Flistel :"
   ]
  },
  {
   "cell_type": "code",
   "execution_count": null,
   "metadata": {},
   "outputs": [],
   "source": []
  }
 ],
 "metadata": {
  "kernelspec": {
   "display_name": "Python 3",
   "language": "python",
   "name": "python3"
  },
  "language_info": {
   "codemirror_mode": {
    "name": "ipython",
    "version": 3
   },
   "file_extension": ".py",
   "mimetype": "text/x-python",
   "name": "python",
   "nbconvert_exporter": "python",
   "pygments_lexer": "ipython3",
   "version": "3.7.1"
  }
 },
 "nbformat": 4,
 "nbformat_minor": 2
}
