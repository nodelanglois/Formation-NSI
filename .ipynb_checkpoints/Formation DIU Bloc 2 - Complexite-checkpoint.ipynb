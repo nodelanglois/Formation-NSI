{
 "cells": [
  {
   "cell_type": "markdown",
   "metadata": {},
   "source": [
    "## Formation DIU \n",
    "  \n"
   ]
  },
  {
   "cell_type": "markdown",
   "metadata": {},
   "source": [
    "### Complexité algorithmique"
   ]
  },
  {
   "cell_type": "markdown",
   "metadata": {},
   "source": [
    "#### Lundi 17 juin (matin)"
   ]
  },
  {
   "cell_type": "markdown",
   "metadata": {},
   "source": [
    "### Décidabilité"
   ]
  },
  {
   "cell_type": "markdown",
   "metadata": {},
   "source": [
    "Il y a un nombre indénombrable de problème mais un nombre dénombrable d'algorithme"
   ]
  },
  {
   "cell_type": "markdown",
   "metadata": {},
   "source": [
    "![https://www.draw.io/#G1NBCa57pAYt7Zgfl5Dw1AiWPTxwpzBiou](https://www.draw.io/#G1NBCa57pAYt7Zgfl5Dw1AiWPTxwpzBiou)"
   ]
  },
  {
   "cell_type": "markdown",
   "metadata": {},
   "source": [
    "**Complexité**  \n",
    "On étudie des problèmes  \n",
    "Exemple : trie d'un tableau\n",
    "On les résoud par des algorithmes\n",
    "Calcul :  \n",
    "Exécution d'un algo sur une entrée donnée :  \n",
    "Exemple triFusion ([3,8,2,7])  \n",
    "\n",
    "Complexité d'un calcul -> d'un algo -> d'un problème  \n",
    "\n"
   ]
  },
  {
   "cell_type": "markdown",
   "metadata": {},
   "source": [
    "**Complexité en temps d'un calcul**\n",
    "- Nombre d'opérations élémentaires de l'ordinateur (bit à bit)\n",
    "- En pratique on compte le nombre d'intructions (opérations) du programme python :\n",
    "    - affectation\n",
    "    - opération : a+b\n",
    "    - tab[5]=3\n",
    ">liste3 = liste2 + liste1 n'est pas une opération élémentaire  \n",
    "\n",
    "**Taille d'une entrée**\n",
    "- Théoriquement : nombre de bits\n",
    "- En pratique : nombre de variables de type fini\n",
    "\n",
    "Si l'entrée d'un algorithme est juste un entier n, la taille de l'entrée est le nombre de bits $log_2(n)$\n",
    "\n",
    "**Complexité d'un algorithme**  \n",
    "Fonction de la taille de l'entrée vers :  \n",
    "*Complexité dans le pire des cas :*  \n",
    "$C_{max}(n) =$ max*entrée de taille n\n",
    "\n",
    "*Complexité dans le meilleur cas :*  \n",
    "$C_{min}(n) =$min(...)\n",
    "\n",
    "*Complexité en moyenne :*  \n",
    "$C_{moy}(n) =$moy(...)*entrée de taille n"
   ]
  },
  {
   "cell_type": "markdown",
   "metadata": {},
   "source": [
    "**Conclusion :**  \n",
    "La complexité d'un algo est une fonction  \n",
    "$$\n",
    "\\mathbb N \\to \\mathbb N \\\\  n \\mapsto f(n)\n",
    "$$\n",
    "\n",
    "$ C(n)=O(f(n)) $ signifie : \n",
    "$C(n) ≤ k.f(n)$ où $k$ est une constante ( à partir d'un certain rang)  \n",
    "\n",
    "$O(n)$ linéaire  \n",
    "$O(n.log(n))$   \n",
    "$O(n^2)$ : 2 boucles imbriquées  \n",
    "$O(n^k)$ : temps polynomial (encore utilisable)  \n",
    "$O(2^n)$ : algorithme non utilisable en pratique  \n",
    "\n",
    "\n"
   ]
  },
  {
   "cell_type": "markdown",
   "metadata": {},
   "source": [
    "**Complexité en espace**  \n",
    "(Taille de calcul)\n",
    "\n",
    "Nombre de cases mémoire occupées au cours du calcul\n",
    "\n",
    "Complexité en espace ≤ Complexité en temps\n",
    "\n",
    "\n",
    "\n",
    "\n"
   ]
  },
  {
   "cell_type": "markdown",
   "metadata": {},
   "source": [
    "```\n",
    "def affiche( l ): \n",
    "#l est un tableau\n",
    "    for i in range(len(l)):\n",
    "        print(l[i])\n",
    "```\n",
    "$O(n)$"
   ]
  },
  {
   "cell_type": "markdown",
   "metadata": {},
   "source": [
    "```\n",
    "def afficheCarre(n):\n",
    "    for i in range(n):\n",
    "        for j in range(n):\n",
    "            print(\"*\", end=’’)\n",
    "    print()```\n",
    "$O(n^2)$"
   ]
  },
  {
   "cell_type": "markdown",
   "metadata": {},
   "source": [
    "Comparer :  \n",
    "```\n",
    "def initListe( n ):  \n",
    "    l=[] \n",
    "    #la liste à initialiser  \n",
    "    for i in range(n):  \n",
    "        l.append(0)\n",
    "      \n",
    "\n",
    "def initListe2( n ):  \n",
    "    l=[] \n",
    "    #la liste à initialiser\n",
    "    for i in range(n):\n",
    "        l.insert(0,0)\n",
    "```"
   ]
  },
  {
   "cell_type": "markdown",
   "metadata": {},
   "source": [
    "**Complexité en temps :**  \n",
    "https://wiki.python.org/moin/TimeComplexity"
   ]
  },
  {
   "cell_type": "markdown",
   "metadata": {},
   "source": [
    "**Exemple 1 :**  \n",
    "```\n",
    "def premier(n) :\n",
    "    for i in range(n):\n",
    "        if( n % i == 0) :\n",
    "        return False\n",
    "    return True\n",
    "```\n",
    "Cet algo est en $O(n)$ mais en fonction de la taille de l'entrée exponentiel en $k$"
   ]
  },
  {
   "cell_type": "markdown",
   "metadata": {},
   "source": [
    "**Exemple 2 : Fibonacci**  \n",
    "```\n",
    "def fibo(n):\n",
    "    if (n=0):\n",
    "        return 0\n",
    "    elif (n==1):\n",
    "        return 1\n",
    "    else :\n",
    "        return fibo(n-1) + fibo(n-2)\n",
    "```\n",
    "\n",
    "$C(0)=1 \n",
    "\\\\ C(1)=2  \n",
    "\\\\C(n) = O(1) + C(n-1) + C(n-2)  \n",
    "\\\\O(2^n)$"
   ]
  },
  {
   "cell_type": "markdown",
   "metadata": {},
   "source": [
    ">**Ressource :**  \n",
    "*[Introduction to Algorithms (H Cormen)](https://eclass.uoa.gr/modules/document/file.php/D21/Introduction.to.Algorithms.CLRS.3rd.Edition.Sep.2009.pdf)*"
   ]
  },
  {
   "cell_type": "markdown",
   "metadata": {},
   "source": [
    "### Cas particuliers : complexité des algorithmes de tri"
   ]
  },
  {
   "cell_type": "markdown",
   "metadata": {},
   "source": [
    "#### Tri par insertion"
   ]
  },
  {
   "cell_type": "code",
   "execution_count": 4,
   "metadata": {},
   "outputs": [],
   "source": [
    "def insere(l,i,x):\n",
    "    j=i+1\n",
    "    while(j>0 and x<l[j-1]):\n",
    "        l[j] = l[j-1]\n",
    "        j = j-1\n",
    "    l[j] = x\n",
    "\n",
    "\n",
    "def triInsertion(l):\n",
    "    for i in range(1, len(l)):\n",
    "        insere(i, i-1, l[i])"
   ]
  },
  {
   "cell_type": "markdown",
   "metadata": {},
   "source": [
    "Dans le meilleur des cas $O(1)$ donc complexité $O(n)$ \n",
    "\n",
    "Dans le pire des cas $2*i \\to O(i)$ donc $\\sum_{i=1}^{n}2.i$ complexité $O(n^2)$  \n",
    "\n",
    "Dans le pire des cas $2*\\frac{i}{2} \\to O(i)$ donc $\\sum_{i=1}^{n}i$ complexité $O(n^2)$  \n",
    "\n"
   ]
  },
  {
   "cell_type": "markdown",
   "metadata": {},
   "source": [
    "#### Tri Fusion"
   ]
  },
  {
   "cell_type": "code",
   "execution_count": 2,
   "metadata": {},
   "outputs": [],
   "source": [
    "def Fusion(l1,l2):\n",
    "    i=0\n",
    "    j=0\n",
    "    l=[]\n",
    "    for k in range(len(l1)+len(l2)):        \n",
    "        if (j==len(l2) or i != len(l1) and l1[i]<l2[2]:\n",
    "            l.append(l1[i])\n",
    "        else:\n",
    "            l.append(l2[j])\n",
    "            j += 1\n",
    "    return l\n",
    "\n",
    "\n",
    "    \n",
    "def triFusion(l):\n",
    "    if (len(l) <= 1):\n",
    "        return l\n",
    "    else:\n",
    "        mil = len(l)//2\n",
    "        return fusion(triFusion(l[:mil]), triFusion(l[mil:]))\n",
    "    "
   ]
  },
  {
   "cell_type": "markdown",
   "metadata": {},
   "source": [
    "$C(n) ≤ k.n +2C(n/2)$ on trouve $O(nlog(n))$"
   ]
  },
  {
   "cell_type": "markdown",
   "metadata": {},
   "source": [
    "### Complexité d'un problème"
   ]
  },
  {
   "cell_type": "markdown",
   "metadata": {},
   "source": [
    "**Complexité du tri**\n",
    "La complexité d'un problème est la complexité du plus petit algorithme.\n",
    "\n",
    "Pour le tri c'est $nlog(n)$  \n",
    "\n",
    "*Question :*  \n",
    ">Déterminer l'ordre de grandeur minimum pour un problème donné ..."
   ]
  },
  {
   "cell_type": "code",
   "execution_count": null,
   "metadata": {},
   "outputs": [],
   "source": []
  }
 ],
 "metadata": {
  "kernelspec": {
   "display_name": "Python 3",
   "language": "python",
   "name": "python3"
  },
  "language_info": {
   "codemirror_mode": {
    "name": "ipython",
    "version": 3
   },
   "file_extension": ".py",
   "mimetype": "text/x-python",
   "name": "python",
   "nbconvert_exporter": "python",
   "pygments_lexer": "ipython3",
   "version": "3.7.1"
  }
 },
 "nbformat": 4,
 "nbformat_minor": 2
}
