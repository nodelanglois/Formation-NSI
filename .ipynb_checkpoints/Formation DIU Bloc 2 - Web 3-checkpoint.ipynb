{
 "cells": [
  {
   "cell_type": "markdown",
   "metadata": {},
   "source": [
    "## Formation DIU \n",
    "  \n"
   ]
  },
  {
   "cell_type": "markdown",
   "metadata": {},
   "source": [
    "### Algorithmes gloutons"
   ]
  },
  {
   "cell_type": "markdown",
   "metadata": {},
   "source": [
    "#### Jeudi 20 juin (matin)"
   ]
  },
  {
   "cell_type": "markdown",
   "metadata": {},
   "source": [
    "irenee.briquel@u-cergy.fr"
   ]
  },
  {
   "cell_type": "markdown",
   "metadata": {},
   "source": [
    "Documents :   \n",
    "https://cours.u-cergy.fr/pluginfile.php/223507/mod_resource/content/0/algos_gloutons.pdf  \n",
    "https://fr.wikipedia.org/wiki/Algorithme_glouton"
   ]
  },
  {
   "cell_type": "markdown",
   "metadata": {},
   "source": [
    "### Situation :"
   ]
  },
  {
   "cell_type": "markdown",
   "metadata": {},
   "source": [
    "#### 1. Rendu de monaie"
   ]
  },
  {
   "cell_type": "markdown",
   "metadata": {},
   "source": [
    "**Problème** : \n",
    "On dispose d'un certain nombre de valeurs de pièces et d'un montant à constituer.  \n",
    "On cherche à minimiser le nombre de pièces rendues.  \n",
    "*La liste des pièces est infinie*   \n",
    "*La liste des pièces contient 1*\n"
   ]
  },
  {
   "cell_type": "code",
   "execution_count": 56,
   "metadata": {},
   "outputs": [],
   "source": [
    "def renduMonaie(L, m):\n",
    "    \"\"\" \n",
    "    L : liste ordonnée décroissante, \n",
    "    m : montant à rendre \n",
    "    Retourne R : R[p]= nombre de pièces de L[p]\"\"\"\n",
    "    R = [0 for i in L]\n",
    "    p = 0\n",
    "    while m != 0 :\n",
    "        print(m, p, L[p] )\n",
    "        if L[p] < m:\n",
    "            R[p] = m // L[p] # Boucler pour rajouter des pièces ...\n",
    "            m = m % L[p]\n",
    "        p += 1\n",
    "    return R\n",
    "    "
   ]
  },
  {
   "cell_type": "code",
   "execution_count": 57,
   "metadata": {
    "scrolled": true
   },
   "outputs": [
    {
     "name": "stdout",
     "output_type": "stream",
     "text": [
      "18 0 50\n",
      "18 1 20\n",
      "18 2 10\n",
      "8 3 5\n",
      "3 4 2\n",
      "1 5 1\n"
     ]
    },
    {
     "ename": "IndexError",
     "evalue": "list index out of range",
     "output_type": "error",
     "traceback": [
      "\u001b[0;31m---------------------------------------------------------------------------\u001b[0m",
      "\u001b[0;31mIndexError\u001b[0m                                Traceback (most recent call last)",
      "\u001b[0;32m<ipython-input-57-b873608bf6b7>\u001b[0m in \u001b[0;36m<module>\u001b[0;34m()\u001b[0m\n\u001b[1;32m      1\u001b[0m \u001b[0mL\u001b[0m \u001b[0;34m=\u001b[0m \u001b[0;34m[\u001b[0m\u001b[0;36m50\u001b[0m\u001b[0;34m,\u001b[0m \u001b[0;36m20\u001b[0m\u001b[0;34m,\u001b[0m \u001b[0;36m10\u001b[0m\u001b[0;34m,\u001b[0m \u001b[0;36m5\u001b[0m\u001b[0;34m,\u001b[0m \u001b[0;36m2\u001b[0m\u001b[0;34m,\u001b[0m \u001b[0;36m1\u001b[0m\u001b[0;34m]\u001b[0m\u001b[0;34m\u001b[0m\u001b[0;34m\u001b[0m\u001b[0m\n\u001b[1;32m      2\u001b[0m \u001b[0mm\u001b[0m \u001b[0;34m=\u001b[0m \u001b[0;36m18\u001b[0m\u001b[0;34m\u001b[0m\u001b[0;34m\u001b[0m\u001b[0m\n\u001b[0;32m----> 3\u001b[0;31m \u001b[0mR\u001b[0m \u001b[0;34m=\u001b[0m \u001b[0mrenduMonaie\u001b[0m\u001b[0;34m(\u001b[0m\u001b[0mL\u001b[0m\u001b[0;34m,\u001b[0m \u001b[0mm\u001b[0m\u001b[0;34m)\u001b[0m\u001b[0;34m\u001b[0m\u001b[0;34m\u001b[0m\u001b[0m\n\u001b[0m\u001b[1;32m      4\u001b[0m \u001b[0mprint\u001b[0m\u001b[0;34m(\u001b[0m\u001b[0mR\u001b[0m\u001b[0;34m)\u001b[0m\u001b[0;34m\u001b[0m\u001b[0;34m\u001b[0m\u001b[0m\n",
      "\u001b[0;32m<ipython-input-56-9c7fdfb0052c>\u001b[0m in \u001b[0;36mrenduMonaie\u001b[0;34m(L, m)\u001b[0m\n\u001b[1;32m      7\u001b[0m     \u001b[0mp\u001b[0m \u001b[0;34m=\u001b[0m \u001b[0;36m0\u001b[0m\u001b[0;34m\u001b[0m\u001b[0;34m\u001b[0m\u001b[0m\n\u001b[1;32m      8\u001b[0m     \u001b[0;32mwhile\u001b[0m \u001b[0mm\u001b[0m \u001b[0;34m!=\u001b[0m \u001b[0;36m0\u001b[0m \u001b[0;34m:\u001b[0m\u001b[0;34m\u001b[0m\u001b[0;34m\u001b[0m\u001b[0m\n\u001b[0;32m----> 9\u001b[0;31m         \u001b[0mprint\u001b[0m\u001b[0;34m(\u001b[0m\u001b[0mm\u001b[0m\u001b[0;34m,\u001b[0m \u001b[0mp\u001b[0m\u001b[0;34m,\u001b[0m \u001b[0mL\u001b[0m\u001b[0;34m[\u001b[0m\u001b[0mp\u001b[0m\u001b[0;34m]\u001b[0m \u001b[0;34m)\u001b[0m\u001b[0;34m\u001b[0m\u001b[0;34m\u001b[0m\u001b[0m\n\u001b[0m\u001b[1;32m     10\u001b[0m         \u001b[0;32mif\u001b[0m \u001b[0mL\u001b[0m\u001b[0;34m[\u001b[0m\u001b[0mp\u001b[0m\u001b[0;34m]\u001b[0m \u001b[0;34m<\u001b[0m \u001b[0mm\u001b[0m\u001b[0;34m:\u001b[0m\u001b[0;34m\u001b[0m\u001b[0;34m\u001b[0m\u001b[0m\n\u001b[1;32m     11\u001b[0m             \u001b[0mR\u001b[0m\u001b[0;34m[\u001b[0m\u001b[0mp\u001b[0m\u001b[0;34m]\u001b[0m \u001b[0;34m=\u001b[0m \u001b[0mm\u001b[0m \u001b[0;34m//\u001b[0m \u001b[0mL\u001b[0m\u001b[0;34m[\u001b[0m\u001b[0mp\u001b[0m\u001b[0;34m]\u001b[0m\u001b[0;34m\u001b[0m\u001b[0;34m\u001b[0m\u001b[0m\n",
      "\u001b[0;31mIndexError\u001b[0m: list index out of range"
     ]
    }
   ],
   "source": [
    "L = [50, 20, 10, 5, 2, 1]\n",
    "m = 18\n",
    "R = renduMonaie(L, m)\n",
    "print(R)"
   ]
  },
  {
   "cell_type": "markdown",
   "metadata": {},
   "source": [
    "Donner une instance du problème pour laquelle l'algo ci-dessus n'est pas optimal"
   ]
  },
  {
   "cell_type": "markdown",
   "metadata": {},
   "source": [
    "ex :  \n",
    "L = [4, 3, 1]  m = 6  \n",
    "L = [10, 7, 1]  m= 14"
   ]
  },
  {
   "cell_type": "markdown",
   "metadata": {},
   "source": [
    "ex 3 :\n",
    "n+1, n, 1 on veut rendre 2n l'algo glouton serait mauvais.  \n",
    "15, 25, 35, 45, 75, 90 kyats"
   ]
  },
  {
   "cell_type": "markdown",
   "metadata": {},
   "source": [
    "**Définition des algorithmes gloutons :**  \n",
    "- Pour des problèmes d'optimisation :\n",
    "    - On cherche des solutions vérifiant des contraintes (ex somme des pièces=173)\n",
    "    - On minimise un paramètre : ici le nombre de pièces\n",
    "- On doit faire des choix (ici la première pièce à rendre)\n",
    "- On fait les choix de façon séquentielle (sans reconsidération)\n",
    "- On fait le meilleur choix en fonction d'un critère local\n",
    "    - Ici la plus grosse pièce\n",
    "    \n",
    "Ça donne des algos :\n",
    "- rapides (linéaires) \n",
    "- pas forcément optimaux\n"
   ]
  },
  {
   "cell_type": "markdown",
   "metadata": {},
   "source": [
    "**Problème location de camion :**  \n",
    "On a 1 camion  \n",
    "On a N clients intéressés pendant des crénaux : \n",
    "   - $d[i]$ début de la location du client i\n",
    "   - $f[i]$ fin de la location du client i\n",
    "Objectif on veut maximiser le nombre clients."
   ]
  },
  {
   "cell_type": "markdown",
   "metadata": {},
   "source": [
    "ex  \n",
    "```\n",
    "Client | 1| 2| 3| 4| 5| 6| 7| 8| 9|10|11|  \n",
    " début | 1| 3| 0| 5| 3| 5| 6| 8| 8| 2|12|  \n",
    " fin   | 4| 5| 6| 7| 8| 9|10|11|12|13|14|  \n",
    " ```\n",
    " Exemple : \n",
    " Clients 2, 6, 11  \n",
    " 2 4, 8, 11 est optimal\n",
    " 1 4, 8, 11 est optimal\n",
    " \n",
    " Algos gloutons possibles :\n",
    " Trier les données : \n",
    " - Commence le plus tot\n",
    " - Fini le plus tôt compatible avec ceux déja choisis\n",
    " - Commence le plus tard et compatible (en commençant dans l'autre sens)\n",
    " On peut montrer que les deux derniers algorithmes gloutons donnent des solution optimales.\n",
    " \n",
    " Par récurence :  \n",
    " Soit s1,... ,sk la liste des clients retournée par l'algo glouton  \n",
    " d(s1)<f(s1)<f(s2) ...  \n",
    " **Hypothèse récurence :**   \n",
    " $s_1, ... s_i$ est le début d'une séquence optimale   \n",
    " Il existe  $t_{i+1}$ tel que : $s_1, ...s_i$ $t_{i+1}$, ${t_e}$ soit optimal  \n",
    " **Initiation**  \n",
    " Soit t_1, ...t_p une solution opimale\n",
    " \n",
    " On peut remplacer t1 par s1 dans la solution car f(s_1) t ... t_e est optimale  \n",
    " \n",
    "HR(i) => HR(i+1):  \n",
    "s_1, ..., s_i, t_{i+1}, ... t_e  est optimal\n",
    "retourné par l'algo, complément de solution\n",
    "vérifions que l'on peut t_i+1 par s_i+1\n",
    "On sait que :\n",
    "f(s_i) < d(s_i+1)\n",
    "f(s_i) < d(t_i+1)\n",
    "\n",
    "Comme t_{i+1} et  s_{i+1} sont tous les deux solutions compatibles avec :\n",
    "Donc f(s_{i+1}) < f(t_{i+1}) (D'après le choix effectué par l'ago glouton)\n",
    "Donc f(s_i) ≤ d(s_{i+1})≤ f(s_{i+1})≤ f(d_{i+1})  \n",
    "Donc s_1, ..., s_{i+1}, t_{i+2}, ...t_e est solution\n",
    "\n",
    "**Complétion :**  \n",
    "Finalement pour $i = k$  \n",
    "$s1, ..., s_k$ peut être complété en une solution optimale  \n",
    "Or aucun client n'est compatible avec $s_1, ..., s_k$ puisquue l'algorithme glouton s'est arrêté  \n",
    "Donc $s_1, ..., s_k$ et optimal.\n",
    "\n"
   ]
  },
  {
   "cell_type": "markdown",
   "metadata": {},
   "source": [
    "#### 2. Rendu de monaie  \n",
    "Données :\n",
    "- v1,  ..., vN les valeurs\n",
    "- p1, ..., pN les poids\n",
    "- pMax poids maximal\n",
    "\n",
    "**Question :** Quel est l'ensemble d'objets de poids ≤ pMax et de somme de valeurs maximale"
   ]
  },
  {
   "cell_type": "markdown",
   "metadata": {},
   "source": [
    "#### Algo classique :  \n",
    "Choisir systématiquement l'objet restant de meilleur rapport valeur sur poids :\n",
    "(Ceci implique un tri des objets de meilleur rapport valeur/poids)"
   ]
  },
  {
   "cell_type": "markdown",
   "metadata": {},
   "source": [
    "Construire un exemple ou l'algo ne donne pas une valeur optimale :  \n",
    "**Exemple :** pMax = 20  \n",
    "Objet1 : valeur = 2 poids = 1  \n",
    "Objet2 : valeur = 20 poids = 20  \n",
    "=> L'algo glouton fera prendre l'Objet1 et on ne pourra plus prendre l'Objet2\n"
   ]
  },
  {
   "cell_type": "markdown",
   "metadata": {},
   "source": [
    "#### Solution optimale pour le rendu de monaie :   \n",
    "v = [v1, ..., vk] valeurs des pièces  \n",
    "Nb PiècesMinimal(montant, V) = min(1 + NbPiecesMinimal(montant - v_i, V)  \n",
    "Tel que montant-v_i ≥ 0  \n"
   ]
  },
  {
   "cell_type": "markdown",
   "metadata": {},
   "source": [
    "Solution : calculer successivement le nombre de pièces minimal (k, v) pour chaque montant k=1, ..., montant"
   ]
  },
  {
   "cell_type": "markdown",
   "metadata": {},
   "source": [
    "**Exemple :**  \n",
    "v = [10, 7, 1], m = 14  =\n",
    "```\n",
    "| 0| 1| 2| 3| 4| 5| 6| 7| 8| 9|10|11|12|13|14| tab[i] = min(tab[i-v]+1)\n",
    "| x| 1| 2| 3| 4| 5| 6| 1| 2| 3| 1| 2| 3| 4| 2|  \n",
    "```\n",
    "On construit le tableau case à case de gauche vers la droite."
   ]
  },
  {
   "cell_type": "markdown",
   "metadata": {},
   "source": [
    "#### Solution optimale pour le sac à dos :  \n",
    "- Soit on inclut l'objet n à la solution\n",
    "- Soit on ne l'inclut pas  \n",
    "\n",
    "SacADos(Pmax, Objet1, ..., ObjetN) = max(SacADos(Pmax, Objet1, ..., ObjetN-1), v_N + SacADos(Pmax - P_N, Objet1, ..., ObjetN-1)\n",
    "\n",
    "\n",
    "Cet algo est un problème NP complet : on ne sait pas si on pourra le résoudre en temps polynomial."
   ]
  },
  {
   "cell_type": "markdown",
   "metadata": {},
   "source": []
  },
  {
   "cell_type": "markdown",
   "metadata": {},
   "source": []
  },
  {
   "cell_type": "markdown",
   "metadata": {},
   "source": []
  },
  {
   "cell_type": "code",
   "execution_count": null,
   "metadata": {},
   "outputs": [],
   "source": []
  },
  {
   "cell_type": "markdown",
   "metadata": {},
   "source": [
    "$\\chi\\tau\\phi$"
   ]
  }
 ],
 "metadata": {
  "kernelspec": {
   "display_name": "Python 3",
   "language": "python",
   "name": "python3"
  },
  "language_info": {
   "codemirror_mode": {
    "name": "ipython",
    "version": 3
   },
   "file_extension": ".py",
   "mimetype": "text/x-python",
   "name": "python",
   "nbconvert_exporter": "python",
   "pygments_lexer": "ipython3",
   "version": "3.7.1"
  }
 },
 "nbformat": 4,
 "nbformat_minor": 2
}
