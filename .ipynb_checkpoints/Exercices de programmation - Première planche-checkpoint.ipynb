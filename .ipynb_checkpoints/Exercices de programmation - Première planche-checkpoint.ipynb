{
 "cells": [
  {
   "cell_type": "markdown",
   "metadata": {},
   "source": [
    "# Exercices de programmation  Premiè̀re planche"
   ]
  },
  {
   "cell_type": "markdown",
   "metadata": {},
   "source": [
    "## 1 Installation"
   ]
  },
  {
   "cell_type": "markdown",
   "metadata": {},
   "source": [
    "Première chose à faire, installer python sur son ordinateur. L'environnement au programme1 est python 3, et l'éditeur pyzo, disponible à l'adresse www.pyzo.org.\n",
    "On pourra se référer au livre Apprendre à programmer avec python 3, de Gérard Swinnen, que l'on trouve en licence libre sur internet."
   ]
  },
  {
   "cell_type": "markdown",
   "metadata": {},
   "source": [
    "## 2 Premiers pas"
   ]
  },
  {
   "cell_type": "markdown",
   "metadata": {},
   "source": [
    "### Introduction de l'instruction print"
   ]
  },
  {
   "cell_type": "markdown",
   "metadata": {},
   "source": [
    "#### Exercice 1 : Hello World"
   ]
  },
  {
   "cell_type": "markdown",
   "metadata": {},
   "source": [
    "\n",
    "Réaliser un programme affichant \"Hello World !\""
   ]
  },
  {
   "cell_type": "code",
   "execution_count": 4,
   "metadata": {},
   "outputs": [
    {
     "name": "stdout",
     "output_type": "stream",
     "text": [
      "Hello world !\n"
     ]
    }
   ],
   "source": [
    "print(\"Hello world !\")"
   ]
  },
  {
   "cell_type": "markdown",
   "metadata": {},
   "source": [
    "#### Exercice 2 : Saisie"
   ]
  },
  {
   "cell_type": "markdown",
   "metadata": {},
   "source": [
    "Réaliser un programme demandant à l'utilisateur de saisir son nom, puis affichant une phrase du type \"Bonjour XXX\".\n",
    "On pourra tester construire la string \"Bonjour XXX\", ou utiliser les possibilités de print."
   ]
  },
  {
   "cell_type": "code",
   "execution_count": 6,
   "metadata": {},
   "outputs": [
    {
     "name": "stdout",
     "output_type": "stream",
     "text": [
      "Quel est ton nom ?Babaro\n",
      "Bonjour Babaro\n"
     ]
    }
   ],
   "source": [
    "NOM = input(\"Quel est ton nom ? \")\n",
    "print(f\"Bonjour {NOM}\")\n"
   ]
  },
  {
   "cell_type": "markdown",
   "metadata": {},
   "source": [
    "#### Exercice 3 : Expressions"
   ]
  },
  {
   "cell_type": "markdown",
   "metadata": {},
   "source": [
    "1. Quel est le type et la valeur des expressions suivantes ?\n",
    "\n",
    "On pourra tester ces calculs dans un programme.\n",
    "$$\\begin{align}\n",
    " &4/3 ~&4//3 ~&&4.3//3.0 ~&&(-1.3)/0\\\\\n",
    " &4/3.0 ~&(4 - 3)**5 ~&&0.2-0.1 ~&&0/1.3\\\\\n",
    "&4 - 3*5 ~&18/3//2 ~&&4//0 ~&&0//0\\\\\n",
    "~&10==5 ~&5==11-6 ~&&False~or~(5!=4) ~&&0.3-0.2==0.2-0.1\n",
    "\\end{align}$$"
   ]
  },
  {
   "cell_type": "code",
   "execution_count": 50,
   "metadata": {
    "scrolled": true
   },
   "outputs": [
    {
     "data": {
      "text/plain": [
       "1.3333333333333333"
      ]
     },
     "execution_count": 50,
     "metadata": {},
     "output_type": "execute_result"
    }
   ],
   "source": [
    "4 / 3"
   ]
  },
  {
   "cell_type": "code",
   "execution_count": 51,
   "metadata": {},
   "outputs": [
    {
     "data": {
      "text/plain": [
       "1"
      ]
     },
     "execution_count": 51,
     "metadata": {},
     "output_type": "execute_result"
    }
   ],
   "source": [
    "4//3"
   ]
  },
  {
   "cell_type": "code",
   "execution_count": 52,
   "metadata": {},
   "outputs": [
    {
     "data": {
      "text/plain": [
       "1.0"
      ]
     },
     "execution_count": 52,
     "metadata": {},
     "output_type": "execute_result"
    }
   ],
   "source": [
    "4.3 //3.0"
   ]
  },
  {
   "cell_type": "code",
   "execution_count": 53,
   "metadata": {},
   "outputs": [
    {
     "data": {
      "text/plain": [
       "1"
      ]
     },
     "execution_count": 53,
     "metadata": {},
     "output_type": "execute_result"
    }
   ],
   "source": [
    "(4 - 3)** 5"
   ]
  },
  {
   "cell_type": "code",
   "execution_count": 54,
   "metadata": {},
   "outputs": [
    {
     "data": {
      "text/plain": [
       "0.1"
      ]
     },
     "execution_count": 54,
     "metadata": {},
     "output_type": "execute_result"
    }
   ],
   "source": [
    "0.2 - 0.1"
   ]
  },
  {
   "cell_type": "code",
   "execution_count": 55,
   "metadata": {},
   "outputs": [
    {
     "data": {
      "text/plain": [
       "-11"
      ]
     },
     "execution_count": 55,
     "metadata": {},
     "output_type": "execute_result"
    }
   ],
   "source": [
    "4 - 3 * 5"
   ]
  },
  {
   "cell_type": "code",
   "execution_count": 56,
   "metadata": {},
   "outputs": [
    {
     "data": {
      "text/plain": [
       "3.0"
      ]
     },
     "execution_count": 56,
     "metadata": {},
     "output_type": "execute_result"
    }
   ],
   "source": [
    "18/3//2"
   ]
  },
  {
   "cell_type": "code",
   "execution_count": 61,
   "metadata": {},
   "outputs": [
    {
     "data": {
      "text/plain": [
       "6.0"
      ]
     },
     "execution_count": 61,
     "metadata": {},
     "output_type": "execute_result"
    }
   ],
   "source": [
    "18/3"
   ]
  },
  {
   "cell_type": "code",
   "execution_count": 58,
   "metadata": {},
   "outputs": [
    {
     "data": {
      "text/plain": [
       "False"
      ]
     },
     "execution_count": 58,
     "metadata": {},
     "output_type": "execute_result"
    }
   ],
   "source": [
    "10==5"
   ]
  },
  {
   "cell_type": "code",
   "execution_count": 59,
   "metadata": {},
   "outputs": [
    {
     "data": {
      "text/plain": [
       "True"
      ]
     },
     "execution_count": 59,
     "metadata": {},
     "output_type": "execute_result"
    }
   ],
   "source": [
    "5==11-6"
   ]
  },
  {
   "cell_type": "code",
   "execution_count": 60,
   "metadata": {},
   "outputs": [
    {
     "data": {
      "text/plain": [
       "True"
      ]
     },
     "execution_count": 60,
     "metadata": {},
     "output_type": "execute_result"
    }
   ],
   "source": [
    "False or(5!=4)"
   ]
  },
  {
   "cell_type": "markdown",
   "metadata": {},
   "source": [
    "2. Les expressions suivantes sont-elles correctes ? <br>Si oui, quel est le résultat ?"
   ]
  },
  {
   "cell_type": "code",
   "execution_count": 29,
   "metadata": {},
   "outputs": [
    {
     "data": {
      "text/plain": [
       "23"
      ]
     },
     "execution_count": 29,
     "metadata": {},
     "output_type": "execute_result"
    }
   ],
   "source": [
    "int(\"23\")"
   ]
  },
  {
   "cell_type": "code",
   "execution_count": 30,
   "metadata": {},
   "outputs": [
    {
     "data": {
      "text/plain": [
       "'4'"
      ]
     },
     "execution_count": 30,
     "metadata": {},
     "output_type": "execute_result"
    }
   ],
   "source": [
    "str(4)"
   ]
  },
  {
   "cell_type": "code",
   "execution_count": 31,
   "metadata": {},
   "outputs": [
    {
     "ename": "TypeError",
     "evalue": "can only concatenate str (not \"int\") to str",
     "output_type": "error",
     "traceback": [
      "\u001b[0;31m---------------------------------------------------------------------------\u001b[0m",
      "\u001b[0;31mTypeError\u001b[0m                                 Traceback (most recent call last)",
      "\u001b[0;32m<ipython-input-31-55d3118577f0>\u001b[0m in \u001b[0;36m<module>\u001b[0;34m()\u001b[0m\n\u001b[0;32m----> 1\u001b[0;31m \u001b[0;34m\"J'ai \"\u001b[0m\u001b[0;34m+\u001b[0m\u001b[0;36m3\u001b[0m\u001b[0;34m+\u001b[0m\u001b[0;34m\" ans\"\u001b[0m\u001b[0;34m\u001b[0m\u001b[0;34m\u001b[0m\u001b[0m\n\u001b[0m",
      "\u001b[0;31mTypeError\u001b[0m: can only concatenate str (not \"int\") to str"
     ]
    }
   ],
   "source": [
    "\"J'ai \"+3+\" ans\""
   ]
  },
  {
   "cell_type": "code",
   "execution_count": 32,
   "metadata": {},
   "outputs": [
    {
     "data": {
      "text/plain": [
       "\"j'ai trois ans\""
      ]
     },
     "execution_count": 32,
     "metadata": {},
     "output_type": "execute_result"
    }
   ],
   "source": [
    "\"j'ai \"+\"trois\"+\" ans\""
   ]
  },
  {
   "cell_type": "code",
   "execution_count": 33,
   "metadata": {},
   "outputs": [
    {
     "data": {
      "text/plain": [
       "\"J'ai 8ans\""
      ]
     },
     "execution_count": 33,
     "metadata": {},
     "output_type": "execute_result"
    }
   ],
   "source": [
    "\"J'ai \"+str(3+5)+\" ans\""
   ]
  },
  {
   "cell_type": "code",
   "execution_count": 34,
   "metadata": {},
   "outputs": [
    {
     "data": {
      "text/plain": [
       "\"j'ai 35 ans\""
      ]
     },
     "execution_count": 34,
     "metadata": {},
     "output_type": "execute_result"
    }
   ],
   "source": [
    "\"j'ai \"+str(3)+str(5)+\" ans\""
   ]
  },
  {
   "cell_type": "code",
   "execution_count": 35,
   "metadata": {},
   "outputs": [
    {
     "data": {
      "text/plain": [
       "'BonjourBonjour'"
      ]
     },
     "execution_count": 35,
     "metadata": {},
     "output_type": "execute_result"
    }
   ],
   "source": [
    "\"Bonjour\"*2"
   ]
  },
  {
   "cell_type": "code",
   "execution_count": 36,
   "metadata": {},
   "outputs": [
    {
     "ename": "TypeError",
     "evalue": "can't multiply sequence by non-int of type 'str'",
     "output_type": "error",
     "traceback": [
      "\u001b[0;31m---------------------------------------------------------------------------\u001b[0m",
      "\u001b[0;31mTypeError\u001b[0m                                 Traceback (most recent call last)",
      "\u001b[0;32m<ipython-input-36-587428c5eb12>\u001b[0m in \u001b[0;36m<module>\u001b[0;34m()\u001b[0m\n\u001b[0;32m----> 1\u001b[0;31m \u001b[0;34m\"Bonjour\"\u001b[0m\u001b[0;34m*\u001b[0m\u001b[0;34m\"Bonjour\"\u001b[0m\u001b[0;34m\u001b[0m\u001b[0;34m\u001b[0m\u001b[0m\n\u001b[0m",
      "\u001b[0;31mTypeError\u001b[0m: can't multiply sequence by non-int of type 'str'"
     ]
    }
   ],
   "source": [
    "\"Bonjour\"*\"Bonjour\""
   ]
  },
  {
   "cell_type": "code",
   "execution_count": 37,
   "metadata": {},
   "outputs": [
    {
     "data": {
      "text/plain": [
       "'34'"
      ]
     },
     "execution_count": 37,
     "metadata": {},
     "output_type": "execute_result"
    }
   ],
   "source": [
    "str(int(\"3\"+\"4\"))"
   ]
  },
  {
   "cell_type": "code",
   "execution_count": 38,
   "metadata": {},
   "outputs": [
    {
     "data": {
      "text/plain": [
       "7"
      ]
     },
     "execution_count": 38,
     "metadata": {},
     "output_type": "execute_result"
    }
   ],
   "source": [
    "int(str(3+4))"
   ]
  },
  {
   "cell_type": "markdown",
   "metadata": {},
   "source": [
    "#### Exercice 4 : Moyenne"
   ]
  },
  {
   "cell_type": "markdown",
   "metadata": {},
   "source": [
    "Réaliser un programme qui calcule et affiche la moyenne de deux notes, préalablement demandées à l'utilisateur. \n",
    "<br>Le programme affichera une phrase du type : `\"La moyenne de 12 et 16 est 14.\"`\n",
    "<br>On testera les deux divisions, entière (//) et flotante (/), sur différentes entrées."
   ]
  },
  {
   "cell_type": "code",
   "execution_count": 48,
   "metadata": {},
   "outputs": [
    {
     "name": "stdout",
     "output_type": "stream",
     "text": [
      "Donnez la première note : 12\n",
      "Donnez la seconde note : 16\n",
      "La moyenne de 12 et 16 est 14.0\n"
     ]
    }
   ],
   "source": [
    "def moyenne(note1, note2):\n",
    "    return print(f\"La moyenne de {note1} et {note2} est {(note1+note2)/2}\")\n",
    "\n",
    "note1 = int(input(\"Donnez la première note : \"))\n",
    "note2 = int(input(\"Donnez la seconde note : \"))\n",
    "\n",
    "moyenne(note1, note2)"
   ]
  },
  {
   "cell_type": "markdown",
   "metadata": {},
   "source": [
    "####  Exercice 5 : Euclide"
   ]
  },
  {
   "cell_type": "markdown",
   "metadata": {},
   "source": [
    "Réaliser un programme demandant à l'utilisateur deux entiers {a} et {b}, et réalisant la division euclidienne de {a} par {b}. <br>Le programme affichera une phrase du type :\n",
    "<br>`Le quotient de la division de 9 par 2 est 4, et le reste est 1`.\n"
   ]
  },
  {
   "cell_type": "markdown",
   "metadata": {},
   "source": [
    "#### Exercice 6 : Equation du premier degré"
   ]
  },
  {
   "cell_type": "markdown",
   "metadata": {},
   "source": [
    "Réaliser un programme résolvant l'équation du premier degré ax+b = 0, où a et b seront demandées à l'utilisateur."
   ]
  },
  {
   "cell_type": "markdown",
   "metadata": {},
   "source": [
    "#### Exercice 7 : Calcul de l'image d'une fonction"
   ]
  },
  {
   "cell_type": "markdown",
   "metadata": {},
   "source": [
    "Réaliser un programme qui demande à l'utilisateur une valeur $x$, et qui calcule l'image $f(x) = ax+b$.\n",
    "<br>$a$ et $b$ seront inscrits en dur dans le programme. "
   ]
  },
  {
   "cell_type": "markdown",
   "metadata": {},
   "source": [
    "#### Exercice 8 : Permutation"
   ]
  },
  {
   "cell_type": "markdown",
   "metadata": {},
   "source": [
    "1. Ecrire à la suite des instructions permettant de permuter le contenu de deux variables $a$ et $b$ (indépendamment de leurs valeurs).\n",
    "1. Généraliser la méthode de permutation à trois variables $a$, $b$ et $c$, de sorte que $b$ contienne la valeur de $a$, $c$ celle de $b$, $a$ celle de $c$.\n",
    "1. Dans le cas où $a$ et $b$ sont tous deux des entiers, peut-on permuter $a$ et $b$ sans introduire de variable temporaire ?"
   ]
  },
  {
   "cell_type": "markdown",
   "metadata": {},
   "source": [
    "#### Exercice 9 : Date et heure"
   ]
  },
  {
   "cell_type": "markdown",
   "metadata": {},
   "source": [
    "Réaliser un programme qui demande le jour, le mois et l'année à l'utilisateur, et a􏰊che la date au format : JJ/MM/AAAA.\n",
    "Ecrire un programme qui demande à l'utilisateur une durée en secondes, et convertit cette durée en jours, heures, minutes et secondes."
   ]
  },
  {
   "cell_type": "markdown",
   "metadata": {},
   "source": [
    "#### Exercice 10 : Suite arithmétique"
   ]
  },
  {
   "cell_type": "markdown",
   "metadata": {},
   "source": [
    "On considere une suite arithémtique définie par $u_0$ et $u_{n+1} = u_n + c$.\n",
    "<br>Réaliser un programme qui demande à l'utilisateur les valeurs de $u_0$, $c$ et $n$, et calcule $u_n$, ainsi que\n",
    "la somme $u_0 +...+u_n$.\n",
    "<br>Ce programme ne réalisera pas de boucle."
   ]
  },
  {
   "cell_type": "markdown",
   "metadata": {},
   "source": [
    "## 3 Fonctions"
   ]
  },
  {
   "cell_type": "markdown",
   "metadata": {},
   "source": [
    "> `def maFonction(variable1,variable2, ...):\n",
    "    ...\n",
    "    ...\n",
    "    return (expression)`"
   ]
  },
  {
   "cell_type": "markdown",
   "metadata": {},
   "source": [
    "#### Exercice 11 : Nettoyage"
   ]
  },
  {
   "cell_type": "markdown",
   "metadata": {},
   "source": [
    "Reprendre les exercices de la section précédente, et les ranger dans un seul fichier :\n",
    "1. Chaque exercice devient une fonction\n",
    "2. On remplace les valeurs demandées à l'utilisateur par des paramètres aux fonctions. \n",
    "<br>Par exemple, l'exercice 3 peut devenir une fonction déclarée par :\n",
    "      `def moyenne (a,b):`\n",
    "3. En fin de programme, on peut ensuite tester telle ou telle fonction en faisant un dialogue avec l'utilisateur et en l'appelant.\n",
    "\n",
    "<br>Ne pas oublier de commenter le code `(#)`.\n"
   ]
  },
  {
   "cell_type": "code",
   "execution_count": null,
   "metadata": {},
   "outputs": [],
   "source": []
  },
  {
   "cell_type": "markdown",
   "metadata": {},
   "source": [
    "## 4 Expressions booléennes et tests"
   ]
  },
  {
   "cell_type": "markdown",
   "metadata": {},
   "source": [
    ">`if (condition1) :\n",
    "    ...\n",
    "elif (condition2) :\n",
    "    ...\n",
    "else : ...`"
   ]
  },
  {
   "cell_type": "markdown",
   "metadata": {},
   "source": [
    "#### Exercice 12 : Maximum"
   ]
  },
  {
   "cell_type": "markdown",
   "metadata": {},
   "source": [
    "1. Écrire une fonction maximum a deux parametres a et b, et renvoyant le maximum de a et de b. Ecrire ensuite un test de cette fonction.\n",
    "2. Écrire une fonction maximum3 à trois parametres, renvoyant le maximum de ces trois valeurs : (a) par des tests if comme pour la première question, puis\n",
    "(b) en appelant maximum."
   ]
  },
  {
   "cell_type": "markdown",
   "metadata": {},
   "source": [
    "#### Exercice 13 : Parité"
   ]
  },
  {
   "cell_type": "markdown",
   "metadata": {},
   "source": [
    "Écrire une fonction estPair testant si un nombre entré par l'utilisateur est pair :"
   ]
  },
  {
   "cell_type": "markdown",
   "metadata": {},
   "source": [
    "1. avec l'opérateur modulo (%)."
   ]
  },
  {
   "cell_type": "code",
   "execution_count": null,
   "metadata": {},
   "outputs": [],
   "source": []
  },
  {
   "cell_type": "markdown",
   "metadata": {},
   "source": [
    "2. Sans l'opérateur modulo. Tester cette fonction."
   ]
  },
  {
   "cell_type": "code",
   "execution_count": null,
   "metadata": {},
   "outputs": [],
   "source": []
  },
  {
   "cell_type": "markdown",
   "metadata": {},
   "source": [
    "#### Exercice 14 : Mention"
   ]
  },
  {
   "cell_type": "markdown",
   "metadata": {},
   "source": [
    "Écrire une fonction `mention` prenant une moyenne en paramètre, et affichant la mention obtenue par l'utilisateur en fonction de cette moyenne. S'il a une moyenne strictement inférieure à 10, il est recalé. S'il a une moyenne entre 10 (inclus) et 12, il obtient la mention passable. S'il a une moyenne entre 12 (inclus) et 14, il obtient la mention assez bien. S'il a une moyenne entre 14 (inclus) et 16, il obtient la mention bien. S'il a une moyenne supérieure à 16 (inclus) il obtient la mention très bien."
   ]
  },
  {
   "cell_type": "markdown",
   "metadata": {},
   "source": [
    "#### Exercice 15 : Impots"
   ]
  },
  {
   "cell_type": "markdown",
   "metadata": {},
   "source": [
    "L'impot sur le revenu 2016 est calculé de la manière suivante.\n",
    "- Les revenus compris entre 0 et 9700 euros sont exhonérés d'impots.\n",
    "- Les revenus compris entre 9700 et 26791 euros sont taxés à 14%.\n",
    "- Les revenus compris entre 26791 et 71826 euros sont taxés à 30%.\n",
    "- Les revenus compris entre 71826 et 152108 euros sont taxés à 41%.\n",
    "- Les revenus au-delà sont taxés à 45%.\n",
    "\n",
    "Par exemple, une personne gagnant 12063 euros sera exhonérée pour ses 9700 premiers euros de\n",
    "revenu, et payera 14% de 12063 − 9700."
   ]
  },
  {
   "cell_type": "markdown",
   "metadata": {},
   "source": [
    "1. Écrivez une fonction `impot` prenant en paramètres un revenu, et calculant le montant de l'impot sur le revenu. \n",
    "<br>Faire un test. "
   ]
  },
  {
   "cell_type": "code",
   "execution_count": null,
   "metadata": {},
   "outputs": [],
   "source": []
  },
  {
   "cell_type": "markdown",
   "metadata": {},
   "source": [
    "#### Exercice 16 : Bissextile"
   ]
  },
  {
   "cell_type": "markdown",
   "metadata": {},
   "source": [
    ">On rappelle qu'une année a est bissextile si a est multiple de 4, sauf si a est aussi multiple de 100 mais pas de 400."
   ]
  },
  {
   "cell_type": "markdown",
   "metadata": {},
   "source": [
    "Écrivez une fonction testant si une année est bissextile. \n",
    "<br>On pourra réaliser une version avec plusieurs tests, puis une version avec une seule expression booléenne qui vaut `True` si a est bissextile et `False` sinon."
   ]
  },
  {
   "cell_type": "code",
   "execution_count": null,
   "metadata": {},
   "outputs": [],
   "source": []
  },
  {
   "cell_type": "markdown",
   "metadata": {},
   "source": [
    "#### Exercice 17 : Beignets"
   ]
  },
  {
   "cell_type": "markdown",
   "metadata": {},
   "source": [
    "Pour faire des beignets, il faut 400g de farine, deux oeufs, 33 cl de lait, de l'huile et de la levure. On suppose ici que l'on a toujours suffsamment d'huile et de levure.\n",
    "1. En utilisant une fonction minimum, écrire une fonction recette qui prend en arguments une quantité de farine (en g), un nombre d'oeufs, un volume de lait (en cl) et renvoie sous forme de chaîne de caractères la recette de la pâte à beignets dans les proportions optimales de sorte que l'on puisse préparer le plus de beignets possible en fonction des ingrédients disponibles. Naturellement, le nombre d'oeufs doit être entier.\n",
    "2. Écrire une fonction testRecette qui demande les quantités disponibles de farine, d'oeufs et de lait, puis a􏰊che la recette optimale du beignet.\n"
   ]
  },
  {
   "cell_type": "code",
   "execution_count": null,
   "metadata": {},
   "outputs": [],
   "source": []
  },
  {
   "cell_type": "markdown",
   "metadata": {},
   "source": [
    "#### Exercice 18 : Date valide"
   ]
  },
  {
   "cell_type": "markdown",
   "metadata": {},
   "source": [
    "Écrire une fonction dateValide qui prend en arguments trois entiers et teste si ces trois entiers peuvent correspondre respectivement au jour, au mois et à l'année d'une date. En déduire une fonction lendemain qui prend en arguments trois entiers correspondant à une date supposée valide et renvoie une chaîne de caractères donnant la date du lendemain.\n",
    "on pourra appeler la fonction bissextile écrite précédemment. Exercice 19 : and\n",
    "1. Ecrire en python une fonction `fonctionAnd` simulant le and logique 􏰇 bien sûr sans en utiliser. Faire pareil avec le or.\n",
    "2. Peut-on dire que a and b est parfaitement équivalent à b and a ? Quand est-ce que ça peut être utile ?"
   ]
  },
  {
   "cell_type": "code",
   "execution_count": null,
   "metadata": {},
   "outputs": [],
   "source": []
  },
  {
   "cell_type": "code",
   "execution_count": null,
   "metadata": {},
   "outputs": [],
   "source": []
  },
  {
   "cell_type": "code",
   "execution_count": null,
   "metadata": {},
   "outputs": [],
   "source": []
  },
  {
   "cell_type": "code",
   "execution_count": null,
   "metadata": {},
   "outputs": [],
   "source": []
  },
  {
   "cell_type": "code",
   "execution_count": null,
   "metadata": {},
   "outputs": [],
   "source": []
  }
 ],
 "metadata": {
  "kernelspec": {
   "display_name": "Python 3",
   "language": "python",
   "name": "python3"
  },
  "language_info": {
   "codemirror_mode": {
    "name": "ipython",
    "version": 3
   },
   "file_extension": ".py",
   "mimetype": "text/x-python",
   "name": "python",
   "nbconvert_exporter": "python",
   "pygments_lexer": "ipython3",
   "version": "3.7.1"
  }
 },
 "nbformat": 4,
 "nbformat_minor": 2
}
