{
 "cells": [
  {
   "cell_type": "markdown",
   "metadata": {},
   "source": [
    "## Formation DIU \n",
    "  \n"
   ]
  },
  {
   "cell_type": "markdown",
   "metadata": {},
   "source": [
    "### Algo Tri"
   ]
  },
  {
   "cell_type": "markdown",
   "metadata": {},
   "source": [
    "#### Lundi 17 juin (matin)"
   ]
  },
  {
   "cell_type": "markdown",
   "metadata": {},
   "source": [
    "### Recherche d'un élément dans une liste"
   ]
  },
  {
   "cell_type": "markdown",
   "metadata": {},
   "source": [
    "#### Recherche séquentielle :"
   ]
  },
  {
   "cell_type": "markdown",
   "metadata": {},
   "source": [
    "Définition récursive d'une liste triée :  \n",
    "liste = vide ou elt + sous liste avec elt inf au premier de la sous liste\n"
   ]
  },
  {
   "cell_type": "markdown",
   "metadata": {},
   "source": [
    "```\n",
    "fct Re1-EstExist(i,n,elt, L) -> Bool  \n",
    "Debut :  \n",
    "    si i >= n ou elt<l[i]:  \n",
    "        alors renvoyer faux  \n",
    "    sinon  \n",
    "        si elem = L[i] alors  \n",
    "            renvoyer Vrai  \n",
    "        Sinon  \n",
    "            Renvoyer \n",
    "    Fsi  \n",
    "Fin  \n",
    "```"
   ]
  },
  {
   "cell_type": "markdown",
   "metadata": {},
   "source": [
    "```\n",
    "fct rec2_Estexist(i, n , elem, L) -> Bool:\n",
    "Debut\n",
    "    Si elt > L[i] alors:  \n",
    "        Renvoyer rec2_Estexist(i+1, n , elem, L) \n",
    "    Sinon \n",
    "        Renvoyer elt = L[i]\n",
    "    Fsi\n",
    "Fin\n",
    "Si elem <= L[n-1] alors\n",
    "    trouve <- res2_EstExist(0, n, elt, L)\n",
    "Sinon  \n",
    "    trouve <- Faux\n",
    "```"
   ]
  },
  {
   "cell_type": "markdown",
   "metadata": {},
   "source": [
    "#### Recherche par dychotomie :"
   ]
  },
  {
   "cell_type": "markdown",
   "metadata": {},
   "source": [
    "**Méthode séquentielle**"
   ]
  },
  {
   "cell_type": "markdown",
   "metadata": {},
   "source": [
    "```\n",
    "fonction EstRechDich(n, elt, L) -> Booleen\n",
    "Init :\n",
    "trouve <- Faux\n",
    "inf <- 0\n",
    "sup <- n-1\n",
    "\n",
    "Tq inf <= sup et non vide [L]\n",
    "    iMil <- (inf + sup)[/2   # division entière\n",
    "    si L[iMil] = elt alors:\n",
    "        trouve = Vrai\n",
    "    sinon :  \n",
    "        Si elt > L[Mil] alors\n",
    "            Si elm > L[iMil] alors\n",
    "                inf <- iMil +1\n",
    "            Sinon\n",
    "                sup <- iMil-1\n",
    "            Fsi\n",
    "        Fsi\n",
    "    Fsi\n",
    "Ftq\n",
    "```"
   ]
  },
  {
   "cell_type": "markdown",
   "metadata": {},
   "source": [
    "**Méthode récursive**"
   ]
  },
  {
   "cell_type": "markdown",
   "metadata": {},
   "source": [
    "```\n",
    "fct rec1_RechDich(inf, sup, elem, L) -> Bool\n",
    "\n",
    "Debut\n",
    "    Si inf > sup alors :\n",
    "        Renvoyer Faux\n",
    "    Sinon :\n",
    "        iMil <- (inf+sup)/2\n",
    "        Si L[iMil] = elt alors renvoyer Vrai\n",
    "        Sinon \n",
    "            Si elm > L[Mil] alors\n",
    "                inf <- iMil + 1\n",
    "            Sinon\n",
    "                sup <- iMil - 1\n",
    "            FSi\n",
    "        FSi\n",
    "        Renvoyer re1_RechDich(inf, sup, elm, L)\n",
    "    Fsi\n",
    "Fin\n",
    "                \n",
    "```"
   ]
  },
  {
   "cell_type": "markdown",
   "metadata": {},
   "source": [
    "### Insertion d'un élément dans une liste triée"
   ]
  },
  {
   "cell_type": "markdown",
   "metadata": {},
   "source": [
    "**Méthode séquentielle**"
   ]
  },
  {
   "cell_type": "markdown",
   "metadata": {},
   "source": [
    "|3|5|8|10|13| <-elm 4"
   ]
  },
  {
   "cell_type": "markdown",
   "metadata": {},
   "source": [
    "| 3| 5| 8|10|13|13|\n",
    "|--|--|--|--|--|--|\n",
    "|  |  |  |  |^ |  |"
   ]
  },
  {
   "cell_type": "markdown",
   "metadata": {},
   "source": [
    "| 3| 5| 8|10|10|13|\n",
    "|--|--|--|--|--|--|\n",
    "|  |  |  |^ |  |  |"
   ]
  },
  {
   "cell_type": "markdown",
   "metadata": {},
   "source": [
    "|3|5|8|8|10|13|\n",
    "|-|-|-|--|--|--|\n",
    "| | |^ |  | |  |"
   ]
  },
  {
   "cell_type": "markdown",
   "metadata": {},
   "source": [
    "| 3| 5| 5| 8|10|13|\n",
    "|--|--|--|--|--|--|\n",
    "|  |^ |  |  |  |  |"
   ]
  },
  {
   "cell_type": "markdown",
   "metadata": {},
   "source": [
    "| 3| 4| 5| 8|10|13|\n",
    "|--|--|--|--|--|--|\n",
    "|  | x|  |  |  |  |"
   ]
  },
  {
   "cell_type": "markdown",
   "metadata": {},
   "source": [
    "```\n",
    "procedure inserElmListTrie (n(n-1), elt(E), L(E/S))\n",
    "Debut\n",
    "    ispu <- n-1\n",
    "    Tq isup >=0 et elm < L[isup]:\n",
    "        L[isup+1] <- L[isup]\n",
    "        isup <- isup - 1   \n",
    "    Ftq\n",
    "        L[isup+1] <- elm\n",
    "        n <- n+1\n",
    "Fin\n",
    "\n",
    "```"
   ]
  },
  {
   "cell_type": "markdown",
   "metadata": {},
   "source": [
    "**Méthode récursive**"
   ]
  },
  {
   "cell_type": "markdown",
   "metadata": {},
   "source": [
    "```\n",
    "L[0 ...n] =  n=0\n",
    "\n",
    "```"
   ]
  },
  {
   "cell_type": "markdown",
   "metadata": {},
   "source": [
    "### Trier une liste"
   ]
  },
  {
   "cell_type": "markdown",
   "metadata": {},
   "source": [
    "On veut trier une liste sans créer une deuxième liste"
   ]
  },
  {
   "cell_type": "markdown",
   "metadata": {},
   "source": [
    "#### Trie par insertion"
   ]
  },
  {
   "cell_type": "markdown",
   "metadata": {},
   "source": [
    "Correspond à inserrer une carte dans une main triée  \n",
    "La main triée se construit à partir de la deuxième carte  \n",
    "On peut utiliser l'insertion vue précédemment."
   ]
  },
  {
   "cell_type": "markdown",
   "metadata": {},
   "source": [
    "| 3|] 0| 5| 1| 4| 2|\n",
    "|--|--|--|--|--|--|"
   ]
  },
  {
   "cell_type": "markdown",
   "metadata": {},
   "source": [
    "| 0| 3|] 5| 1| 4| 2|\n",
    "|--|--|--|--|--|--|"
   ]
  },
  {
   "cell_type": "markdown",
   "metadata": {},
   "source": [
    "| 0| 3| 5|]1| 4| 2|\n",
    "|--|--|--|--|--|--|"
   ]
  },
  {
   "cell_type": "markdown",
   "metadata": {},
   "source": [
    "| 0| 1| 3| 5|]4| 2|\n",
    "|--|--|--|--|--|--|"
   ]
  },
  {
   "cell_type": "markdown",
   "metadata": {},
   "source": [
    "| 0| 1| 3| 4| 5|]2|\n",
    "|--|--|--|--|--|--|"
   ]
  },
  {
   "cell_type": "markdown",
   "metadata": {},
   "source": [
    "| 0| 1| 2| 3| 4| 5|\n",
    "|--|--|--|--|--|--|"
   ]
  },
  {
   "cell_type": "markdown",
   "metadata": {},
   "source": [
    "| 3|] 0| 5| 1| 4| 2|\n",
    "|--|--|--|--|--|--|"
   ]
  },
  {
   "cell_type": "markdown",
   "metadata": {},
   "source": [
    "| 3|] 0| 5| 1| 4| 2|\n",
    "|--|--|--|--|--|--|"
   ]
  }
 ],
 "metadata": {
  "kernelspec": {
   "display_name": "Python 3",
   "language": "python",
   "name": "python3"
  },
  "language_info": {
   "codemirror_mode": {
    "name": "ipython",
    "version": 3
   },
   "file_extension": ".py",
   "mimetype": "text/x-python",
   "name": "python",
   "nbconvert_exporter": "python",
   "pygments_lexer": "ipython3",
   "version": "3.7.1"
  }
 },
 "nbformat": 4,
 "nbformat_minor": 2
}
