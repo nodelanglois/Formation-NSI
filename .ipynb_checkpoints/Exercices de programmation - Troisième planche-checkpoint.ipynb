{
 "cells": [
  {
   "cell_type": "markdown",
   "metadata": {},
   "source": [
    "irenee.briquel@gmail.com\n"
   ]
  },
  {
   "cell_type": "markdown",
   "metadata": {},
   "source": [
    "# Exercices de programmation Troisième planche"
   ]
  },
  {
   "cell_type": "markdown",
   "metadata": {},
   "source": [
    "## 1 Tableaux"
   ]
  },
  {
   "cell_type": "markdown",
   "metadata": {},
   "source": [
    "On travaille avec des objets List de python.\n",
    "Se référer au fichier `operationsListes.py` pour des exemples de syntaxe."
   ]
  },
  {
   "cell_type": "markdown",
   "metadata": {},
   "source": [
    "### Exercice 1 : Somme, max"
   ]
  },
  {
   "cell_type": "markdown",
   "metadata": {},
   "source": [
    "1. Ecrire une fonction somme qui prend une liste en paramètre et calcule la somme des éléments de cette liste."
   ]
  },
  {
   "cell_type": "code",
   "execution_count": 1,
   "metadata": {},
   "outputs": [],
   "source": [
    "def somme(liste):\n",
    "    SOMME = 0\n",
    "    for elem in liste:\n",
    "        SOMME += elem\n",
    "    return SOMME"
   ]
  },
  {
   "cell_type": "code",
   "execution_count": 2,
   "metadata": {},
   "outputs": [
    {
     "data": {
      "text/plain": [
       "15"
      ]
     },
     "execution_count": 2,
     "metadata": {},
     "output_type": "execute_result"
    }
   ],
   "source": [
    "somme([2, 6, 8, -1])"
   ]
  },
  {
   "cell_type": "markdown",
   "metadata": {},
   "source": [
    "2. Ecrire une fonction `indiceMax` qui prend une liste en paramètre et qui retourne l'indice du maximum des élément de la liste éléments d'un tableau."
   ]
  },
  {
   "cell_type": "code",
   "execution_count": 3,
   "metadata": {},
   "outputs": [],
   "source": [
    "def indiceMax(liste):\n",
    "    INDICE = 0\n",
    "    for i in range(len(liste)):\n",
    "        if liste[i]>liste[INDICE]:\n",
    "            INDICE = i\n",
    "    return INDICE\n",
    "        "
   ]
  },
  {
   "cell_type": "code",
   "execution_count": 4,
   "metadata": {},
   "outputs": [
    {
     "data": {
      "text/plain": [
       "2"
      ]
     },
     "execution_count": 4,
     "metadata": {},
     "output_type": "execute_result"
    }
   ],
   "source": [
    "indiceMax([2, 6, 8, -1])"
   ]
  },
  {
   "cell_type": "markdown",
   "metadata": {},
   "source": [
    "### Exercice 2 : Procédures sur les listes"
   ]
  },
  {
   "cell_type": "markdown",
   "metadata": {},
   "source": [
    "1. Ecrire une prodédure `divPairs` qui prend une liste de nombres en paramètre, et divise par deux toutes les valeurs paires de la liste."
   ]
  },
  {
   "cell_type": "code",
   "execution_count": 5,
   "metadata": {},
   "outputs": [
    {
     "name": "stdout",
     "output_type": "stream",
     "text": [
      "Donnez une liste d'entiers séparés par une virgule : 2,4, 7, 8\n",
      "divPairs([2, 4, 7, 8] :\n",
      "[1, 2, 7, 4]\n"
     ]
    }
   ],
   "source": [
    "def divPairs(Liste):\n",
    "    for i in range(len(Liste)):\n",
    "        if Liste[i]%2 == 0:\n",
    "            Liste[i] = Liste[i]//2\n",
    "\n",
    "Liste = (input(\"Donnez une liste d'entiers séparés par une virgule : \")).split(\",\")\n",
    "Liste = [int(elem) for elem in Liste]\n",
    "#print(type(Liste), Liste)\n",
    "print(f\"divPairs({Liste} :\")\n",
    "divPairs(Liste)\n",
    "print(Liste)\n"
   ]
  },
  {
   "cell_type": "code",
   "execution_count": 6,
   "metadata": {},
   "outputs": [
    {
     "name": "stdout",
     "output_type": "stream",
     "text": [
      "divPairs([2, 6, 8, -1] :\n",
      "[1, 3, 4, -1]\n"
     ]
    }
   ],
   "source": [
    "liste = [2, 6, 8, -1]\n",
    "print(f\"divPairs({liste} :\")\n",
    "divPairs(liste)\n",
    "print(liste)\n"
   ]
  },
  {
   "cell_type": "markdown",
   "metadata": {},
   "source": [
    "2. Écrire une prodédure `renverse` qui prend une liste en paramètre, et inverse les éléments de la liste (cette fonction est implémentée en dur en Python, il s'agit de `maListe.reverse()`)"
   ]
  },
  {
   "cell_type": "code",
   "execution_count": 7,
   "metadata": {},
   "outputs": [
    {
     "name": "stdout",
     "output_type": "stream",
     "text": [
      "Avant inversion [0, 8, 2, 0, 3]\n",
      "Après inversion [3, 0, 2, 8, 0]\n",
      "Dans reverse 3\n",
      "maListe [3, 0, 2, 8, 0]\n",
      "Liste Après re-inversion [0, 8, 2, 0, 3]\n"
     ]
    }
   ],
   "source": [
    "def reverse2(maListe):\n",
    "    maListe[:] = maListe[::-1]\n",
    "\n",
    "def reverse3(maListe):\n",
    "    print(\"Dans reverse 3\")\n",
    "    print(\"maListe\",maListe)\n",
    "    maListeInversee = [maListe[len(maListe)-i-1] for i in range(len(maListe))]\n",
    "    maListe = [maListeInversee[i] for i in range(len(maListeInversee))]\n",
    "    return maListe\n",
    "\n",
    "Liste = [0,8,2,0,3]\n",
    "print(\"Avant inversion\", Liste)\n",
    "reverse2(Liste)\n",
    "print(\"Après inversion\", Liste)\n",
    "Liste = reverse3(Liste)\n",
    "print(\"Liste Après re-inversion\", Liste)\n"
   ]
  },
  {
   "cell_type": "markdown",
   "metadata": {},
   "source": [
    "3. Ecrire une procédure reduit qui prend une liste de nombres en paramètre, et supprime les zéros de la liste.\n",
    "   Par exemple, $[0,8,2,0,3]$ deviendra $[8,2,3]$.\n"
   ]
  },
  {
   "cell_type": "code",
   "execution_count": 8,
   "metadata": {},
   "outputs": [
    {
     "name": "stdout",
     "output_type": "stream",
     "text": [
      "[8, 2, 3]\n",
      "[0, 8, 2, 0, 3]\n"
     ]
    }
   ],
   "source": [
    "def supZero(maListe):\n",
    "    maListe = [elem for elem in maListe if elem != 0]\n",
    "    print(maListe)\n",
    "\n",
    "maListe = [0,8,2,0,3]\n",
    "supZero(maListe)\n",
    "print(maListe)"
   ]
  },
  {
   "cell_type": "markdown",
   "metadata": {},
   "source": [
    "### Exercice 3 : Recherche d'éléments"
   ]
  },
  {
   "cell_type": "markdown",
   "metadata": {},
   "source": [
    "Écrire une fonction ``indice`` qui prend en paramètre une liste l, et un nombre $a$.<br>Cette fonction recherchera a dans la liste $l$, et retourne le plus petit indice d'occurence de $a$ dans le tableau, et $-1$ si $a$ n'est pas trouvé."
   ]
  },
  {
   "cell_type": "code",
   "execution_count": 9,
   "metadata": {},
   "outputs": [],
   "source": [
    "def trouvElement(l,a):\n",
    "    indice = -1\n",
    "    for i in range(l):\n",
    "        if indice == -1:\n",
    "            if l[i]==a:\n",
    "                indice = i\n",
    "    return indice\n",
    "        "
   ]
  },
  {
   "cell_type": "markdown",
   "metadata": {},
   "source": [
    "### Exercice 4 : Recherche dichotomique"
   ]
  },
  {
   "cell_type": "markdown",
   "metadata": {},
   "source": [
    "Si on suppose que la liste $l$ est triée, il est plus efficace de chercher $a$ de manière dichotomique.\n",
    "<br>La recherche par dichotomie manipule trois entiers $p ≤ m ≤ g$. \n",
    "<br>A tout moment, on a $l[p] ≤ a ≤ l[g]$.\n",
    "- Initialement, $p$ est l'indice de la première case, et $g$ l'indice de la dernière case.\n",
    "- A chaque étape du calcul, on prend pour $m$ la valeur moyenne entre $p$ et $g$.\n",
    "    - Si $l[m]=a$, alors on retourne $m$;\n",
    "    - Si $a < l[m]$, g prend la valeur de $m−1$;\n",
    "    - Si $a > l[m]$, alors p prend la valeur $m+1$.\n",
    "- L'algorithme termine si $p ≥ g$.\n",
    "\n",
    "<br>Écrire une fonction ``indiceDico`` qui prend en paramètre une liste supposée triée, et un nombre ; <br>Cette fonction recherchera ce nombre dans la liste de façon dichotomique, et retourne un indice d'occurence de cette valeur dans le tableau, et $-1$ si la valeur n'est pas trouvée.\n"
   ]
  },
  {
   "cell_type": "code",
   "execution_count": 10,
   "metadata": {},
   "outputs": [],
   "source": [
    "def indiceDico(liste, a):\n",
    "    indice = -1\n",
    "    p = 0\n",
    "    g = len(liste)-1\n",
    "    m = int((p+g)//2)\n",
    "    while (p < g) and (liste[m] != a):       \n",
    "        m = int((p+g)//2)\n",
    "        if a < liste[m]:\n",
    "            g = m-1\n",
    "        elif a > liste[m]:\n",
    "            p = m+1\n",
    "        else :\n",
    "            indice = m\n",
    "    return indice"
   ]
  },
  {
   "cell_type": "code",
   "execution_count": 11,
   "metadata": {},
   "outputs": [
    {
     "name": "stdout",
     "output_type": "stream",
     "text": [
      "75\n"
     ]
    }
   ],
   "source": [
    "print(indiceDico([i for i in range(100)], 75))"
   ]
  },
  {
   "cell_type": "markdown",
   "metadata": {},
   "source": [
    "### Exercice 5 : Factorielle"
   ]
  },
  {
   "cell_type": "markdown",
   "metadata": {},
   "source": [
    "Ecrire une fonction `facto` qui calcule la factorielle d'un entier $n$ récursivement"
   ]
  },
  {
   "cell_type": "code",
   "execution_count": 12,
   "metadata": {},
   "outputs": [],
   "source": [
    "def facto(n):\n",
    "    result = 1\n",
    "    if n >=2:\n",
    "        result = n*facto(n-1)\n",
    "    return result\n",
    "\n",
    "n = int(input('n = '))\n",
    "print(f\"La factiorielle de {n} est : {facto(n)}\")"
   ]
  },
  {
   "cell_type": "code",
   "execution_count": 13,
   "metadata": {},
   "outputs": [
    {
     "data": {
      "text/plain": [
       "24"
      ]
     },
     "execution_count": 13,
     "metadata": {},
     "output_type": "execute_result"
    }
   ],
   "source": [
    "facto(4)"
   ]
  },
  {
   "cell_type": "markdown",
   "metadata": {},
   "source": [
    "### Exercice 6 : Fibonacci"
   ]
  },
  {
   "cell_type": "markdown",
   "metadata": {},
   "source": [
    "La suite de Fibonacci est déffinie par : $u_0=u_1=1 ~et ~u_{n+2} = u_{n+1} + u_n ~\\forall n \\in \\mathbb{N} $"
   ]
  },
  {
   "cell_type": "markdown",
   "metadata": {},
   "source": [
    "1. Ecrivez une fonction calculant le n-ième terme de la suite de Fibonacci itérativement."
   ]
  },
  {
   "cell_type": "code",
   "execution_count": 14,
   "metadata": {},
   "outputs": [
    {
     "name": "stdout",
     "output_type": "stream",
     "text": [
      "2\n"
     ]
    }
   ],
   "source": [
    "def fibo1(n):\n",
    "    # 1+1+2+3+5+8+13+21+34+55+89 ...\n",
    "    FiboLi = [1, 1]\n",
    "    for i in range(2,n+1):\n",
    "        FiboLi.append(FiboLi[i-2]+FiboLi[i-1])\n",
    "    return FiboLi[n]\n",
    "\n",
    "n = int(input('n = '))\n",
    "print(f\"Le {n}ème terme d'une suite de fibonacci est {fibo1(n)}\")"
   ]
  },
  {
   "cell_type": "markdown",
   "metadata": {},
   "source": [
    "2. Écrivez naïvement une fonction récursive calculant le n-ième terme par deux appels récursifs sur les deux termes précédents. \n",
    "    - Dessinez l'arbre des appels récursifs. \n",
    "    - Quelle est la complexité de cet algorithme ?\n"
   ]
  },
  {
   "cell_type": "code",
   "execution_count": 15,
   "metadata": {},
   "outputs": [
    {
     "name": "stdout",
     "output_type": "stream",
     "text": [
      "2\n"
     ]
    }
   ],
   "source": [
    "def fibo2(n):\n",
    "    if n < 2:\n",
    "        Fibo = 1\n",
    "    else:\n",
    "        Fibo = fibo2(n-1) + fibo2(n-2)\n",
    "    return Fibo\n",
    "\n",
    "n = int(input('n = '))\n",
    "print(f\"Le {n}ème terme d'une suite de fibonacci est {fibo2(n)}\")"
   ]
  },
  {
   "cell_type": "markdown",
   "metadata": {},
   "source": [
    "3. Proposez une fonction récursive calculant le n-ième terme rapidement. <br>Cette fonction pourra retourner un couple représentant deux termes consécutifs."
   ]
  },
  {
   "cell_type": "code",
   "execution_count": 21,
   "metadata": {},
   "outputs": [
    {
     "name": "stdout",
     "output_type": "stream",
     "text": [
      "n = 6\n",
      "Le 6ème terme d'une suite de fibonacci est 8\n"
     ]
    }
   ],
   "source": [
    "def fibo3(n):\n",
    "    a, b = 0, 1\n",
    "    for i in range(n):\n",
    "        a, b = b, a+b\n",
    "    return a\n",
    "\n",
    "n = int(input('n = '))\n",
    "print(f\"Le {n}ème terme d'une suite de fibonacci est {fibo3(n)}\")"
   ]
  },
  {
   "cell_type": "markdown",
   "metadata": {},
   "source": [
    "###  Exercice 7 : Algorithme d'Euclide"
   ]
  },
  {
   "cell_type": "markdown",
   "metadata": {},
   "source": [
    "Ecrire (itérativement puis récursivement) une fonction `pgcd` qui calcule le PGCD de deux entiers a et b suivant le principe suivant :\n",
    "\n",
    "$$\\begin{align}\n",
    "pgcd(a,~b) &= a ~&si~a~divise~b\\\\\n",
    "~&= pgcd(b,~a) ~&si~a > b\\\\\n",
    "~&= pgcd(b~mod~a,~a) ~&sinon\n",
    "\\end{align}$$"
   ]
  },
  {
   "cell_type": "code",
   "execution_count": 17,
   "metadata": {},
   "outputs": [],
   "source": [
    "def pgcd1(a, b):\n",
    "    while b % a != 0:\n",
    "        if a > b:\n",
    "            a, b = b, a\n",
    "        else :\n",
    "            a, b = b%a, a\n",
    "    return a"
   ]
  },
  {
   "cell_type": "code",
   "execution_count": 19,
   "metadata": {},
   "outputs": [],
   "source": [
    "def pgcd2(a, b):\n",
    "    while b % a != 0:\n",
    "        if a > b:\n",
    "            pgcd2(b, a)\n",
    "        else:\n",
    "            pgcd2(b%a, a)\n",
    "    return a"
   ]
  },
  {
   "cell_type": "markdown",
   "metadata": {},
   "source": [
    "### Exercice 8 : Exponentiation rapide"
   ]
  },
  {
   "cell_type": "markdown",
   "metadata": {},
   "source": [
    "1. Ecrire une fonction récursive $exp(x,n)$ calculant $x^n$ récursivement."
   ]
  },
  {
   "cell_type": "code",
   "execution_count": 20,
   "metadata": {},
   "outputs": [
    {
     "name": "stdout",
     "output_type": "stream",
     "text": [
      "x = 3\n",
      "n = 4\n",
      "3.0 exp 4 = 81.0\n"
     ]
    }
   ],
   "source": [
    "def exp1(x, n):\n",
    "    if n == 0:\n",
    "        Exp = 1\n",
    "    else:\n",
    "        Exp = x*exp(x, n-1)\n",
    "    return Exp\n",
    "\n",
    "x = float(input('x = '))\n",
    "n = int(input('n = '))\n",
    "\n",
    "print(f\"{x} exp {n} = {exp1(x, n)}\")"
   ]
  },
  {
   "cell_type": "markdown",
   "metadata": {},
   "source": [
    "2. Accélérer la fonction précédente en utilisant le fait que quand $n = 2p,~x^n = x^{2p} = (x^2)^p$."
   ]
  },
  {
   "cell_type": "code",
   "execution_count": null,
   "metadata": {},
   "outputs": [],
   "source": [
    "def exp2(x, n):\n",
    "    if n == 0:\n",
    "        Exp = 1\n",
    "    else:\n",
    "        Exp = x*exp(x, n-1)\n",
    "    return Exp\n",
    "\n",
    "x = float(input('x = '))\n",
    "n = int(input('n = '))\n",
    "\n",
    "print(f\"{x} exp {n} = {exp1(x, n)}\")"
   ]
  },
  {
   "cell_type": "markdown",
   "metadata": {},
   "source": [
    "### Exercice 9 : Récursivité et listes"
   ]
  },
  {
   "cell_type": "markdown",
   "metadata": {},
   "source": [
    "1. Reprendre les questions 1 des Exercices 1 et 2 de manière récursive.\n",
    "<br>On pourra ajouter une variable à la fonction pour suivre où on en est dans le parcours de la liste, <br>ou bien appeler récursivement la fonction sur une sous-liste, $l[:-1]$ ou $l[1:]$."
   ]
  },
  {
   "cell_type": "code",
   "execution_count": null,
   "metadata": {},
   "outputs": [],
   "source": []
  },
  {
   "cell_type": "code",
   "execution_count": null,
   "metadata": {},
   "outputs": [],
   "source": []
  },
  {
   "cell_type": "markdown",
   "metadata": {},
   "source": [
    "2. Reprendre les exercices 3 et 4 de manière récursive. <br>On pourra, encore une fois, ajouter des paramètres à la fonction récursive.\n"
   ]
  },
  {
   "cell_type": "code",
   "execution_count": null,
   "metadata": {},
   "outputs": [],
   "source": []
  },
  {
   "cell_type": "code",
   "execution_count": null,
   "metadata": {},
   "outputs": [],
   "source": []
  },
  {
   "cell_type": "markdown",
   "metadata": {},
   "source": [
    "### Exercice 10 : Liste vers 9 (concours EPITA)"
   ]
  },
  {
   "cell_type": "markdown",
   "metadata": {},
   "source": [
    "On part d'un nombre entier positif à deux chiffres $AB$ avec $A ≠ B$.\n",
    "<br>On considère la procédure suivante, détaillée sur l'exemple du nombre $n = 91$.<br>\n",
    "- On inverse les deux chiffres. \n",
    "- On obtient 19.\n",
    "- On calcule la différence |91 − 19|\n",
    "- On obtient 72\n",
    "- On recommence la procédure récursivement sur 72.\n",
    "- On poursuit la récursion jusqu'à arriver à un nombre à un seul chiffre. \n",
    "\n",
    "Ce nombre est alors toujours 9."
   ]
  },
  {
   "cell_type": "markdown",
   "metadata": {},
   "source": [
    "1. Ecrire une fonction récursive `liste_vers_9` qui prend en entrée un entier $n$ de deux chiffres, et affiche successivement les éléments de la liste vers $9$ générée; <br>La fonction s'arrêtera lorsque $9$ est trouvé."
   ]
  },
  {
   "cell_type": "code",
   "execution_count": null,
   "metadata": {},
   "outputs": [],
   "source": []
  },
  {
   "cell_type": "markdown",
   "metadata": {},
   "source": [
    "### Exercice 11 : Théorème des valeurs intermédiaires"
   ]
  },
  {
   "cell_type": "markdown",
   "metadata": {},
   "source": [
    "On veut implémenter une version effective du théorème des valeurs intermédiaires. \n",
    "<br>Celui-ci dit que :\n",
    "> Si une fonction $f$ est continue sur $[a, b]$, et si $f(a)$ et $f(b)$ sont de signes différents, <br>alors $f$ s'annule sur $[a, b]$. \n",
    "\n",
    "<br>La preuve du théoèreme nous donne une méthode pour trouver une approximation de la racine.\n",
    "<br>Nous allons travailler sur la fonction $f(x) = x^2 − 10$, codée en dur dans le programme."
   ]
  },
  {
   "cell_type": "markdown",
   "metadata": {},
   "source": [
    "1. Ecrire une fonction récursive `tvi(a,b,epsilon)` qui retourne une racine approchée\n",
    "avec précision epsilon de $f$ entre $a$ et $b$, en :\n",
    " <br>- calculant $c = \\frac{a+b}{2}$\n",
    " <br>- retournant $c$ si $b−a≤ε/2$\n",
    " <br>- appelant récursivement `tvi(a,c,epsilon` ou `tvi(c,b,epsilon)` suivant le signe\n",
    "  de $f(c)$."
   ]
  },
  {
   "cell_type": "code",
   "execution_count": null,
   "metadata": {},
   "outputs": [],
   "source": []
  },
  {
   "cell_type": "markdown",
   "metadata": {},
   "source": [
    "2. Appeler `tvi` sur l'intervalle $[0,10]$ pour trouver une valeur approchée de\n",
    "$\\sqrt{10}$ à $0,001$ près."
   ]
  },
  {
   "cell_type": "code",
   "execution_count": null,
   "metadata": {},
   "outputs": [],
   "source": []
  }
 ],
 "metadata": {
  "kernelspec": {
   "display_name": "Python 3",
   "language": "python",
   "name": "python3"
  },
  "language_info": {
   "codemirror_mode": {
    "name": "ipython",
    "version": 3
   },
   "file_extension": ".py",
   "mimetype": "text/x-python",
   "name": "python",
   "nbconvert_exporter": "python",
   "pygments_lexer": "ipython3",
   "version": "3.7.1"
  }
 },
 "nbformat": 4,
 "nbformat_minor": 2
}
