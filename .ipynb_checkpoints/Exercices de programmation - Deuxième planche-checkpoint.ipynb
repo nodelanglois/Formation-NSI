{
 "cells": [
  {
   "cell_type": "markdown",
   "metadata": {},
   "source": [
    "# Exercices de programmation  Deuxième planche"
   ]
  },
  {
   "cell_type": "markdown",
   "metadata": {},
   "source": [
    "## 1 Boucles"
   ]
  },
  {
   "cell_type": "markdown",
   "metadata": {},
   "source": [
    "### 1.1 Boucles simples"
   ]
  },
  {
   "cell_type": "markdown",
   "metadata": {},
   "source": [
    "#### Exercice 1 : Carrés"
   ]
  },
  {
   "cell_type": "markdown",
   "metadata": {},
   "source": [
    "Écrire une fonction `carres` qui renvoie la chaîne de caractères donnant les carrés des dix premiers\n",
    "entiers naturels non nuls, c'est-à-dire donnant la suite d'entiers 1 4 9 . . . 100. "
   ]
  },
  {
   "cell_type": "code",
   "execution_count": 8,
   "metadata": {},
   "outputs": [
    {
     "name": "stdout",
     "output_type": "stream",
     "text": [
      "1 4 9 16 25 36 49 64 81 100 "
     ]
    }
   ],
   "source": [
    "def carres():\n",
    "    for i in range(10):\n",
    "        print((i+1)**2, end=\" \")\n",
    "\n",
    "carres()"
   ]
  },
  {
   "cell_type": "markdown",
   "metadata": {},
   "source": [
    "#### Exercice 2 : Moyenne"
   ]
  },
  {
   "cell_type": "markdown",
   "metadata": {},
   "source": [
    "1 Écrire un programme qui lit un entier n , puis lit n nombres réels, et a􏰊che la moyenne de ces nombres. Par exemple :\n",
    "Combien de nombres ? 4\n",
    "- Nombre 1 ? 3\n",
    "- Nombre 2 ? 5\n",
    "- Nombre 3 ? 1\n",
    "- Nombre 4 ? 54\n",
    "\n",
    "La moyenne est 15.75."
   ]
  },
  {
   "cell_type": "markdown",
   "metadata": {},
   "source": [
    "2 Même question avec le maximum des nombres entrés."
   ]
  },
  {
   "cell_type": "markdown",
   "metadata": {},
   "source": [
    "### 1.2 Boucles indéfinies"
   ]
  },
  {
   "cell_type": "markdown",
   "metadata": {},
   "source": [
    "#### Exercice 3 : Moyenne, maximum again"
   ]
  },
  {
   "cell_type": "markdown",
   "metadata": {},
   "source": [
    "Écrire une fonction qui lit des entiers jusqu'à ce que l'utilisateur entre $0$, puis qui affiche la somme des entiers entrés par l'utilisateur.\n",
    "<br>Modifier votre fonction pour qu'elle affiche le maximum des entiers entrés par l'utilisateur.\n"
   ]
  },
  {
   "cell_type": "markdown",
   "metadata": {},
   "source": [
    "#### Exercice 4 : Nombre mystère"
   ]
  },
  {
   "cell_type": "markdown",
   "metadata": {},
   "source": [
    "Écrire un programme `nombreMystere` réalisant le jeu suivant. Le programme choisit un entier mystère aléatoirement entre 1 et 100.\n",
    "<br>L'utilisateur entre successivement des valeurs, et le programme lui dit si il a trouvé le nombre mystère, ou si sa valeur est trop grande ou trop petite. Le programme laissera (au plus) 6 essais à l'utilisateur pour trouver le nombre mystère."
   ]
  },
  {
   "cell_type": "markdown",
   "metadata": {},
   "source": [
    "#### Exercice 5 : Premiers"
   ]
  },
  {
   "cell_type": "markdown",
   "metadata": {},
   "source": [
    "1. Écrire une fonction `premier` prenant en argument un entier n, et testant si cet entier est\n",
    " premier. On pourra tester l'existence d'un diviseur de $n$ entre $1$ et $\\sqrt{n}$.\n",
    "2. Écrire une fonction `nombresPremiers` affichant à l'écran les 100 premiers nombres premiers. Cette fonction pourra faire appel à la fonction `premier`."
   ]
  },
  {
   "cell_type": "markdown",
   "metadata": {},
   "source": [
    "#### Exercice 6 : Approximation de la racine carrée"
   ]
  },
  {
   "cell_type": "markdown",
   "metadata": {},
   "source": [
    "La méthode de Héron permet de s'approcher de la racine carrée d'un nombre $a$ par approximations successives. \n",
    "<br>On définit la suite $(x_n)_{n\\in\\mathbb{N}}$ par :\n",
    "<br>$$\\begin{align}\n",
    " &x_0 = a,\\\\\n",
    "&\\forall n,x_{n+1} = \\frac{x_i+ \\frac{a}{x_i}}{2}\\end{align}$$ Cette suite converge vers $\\sqrt{a}$.\n",
    "\n",
    "Écrire une fonction `racine` prenant en arguments un réel $a$ et un entier $n$, et calculant l'approximation $x_n$ de $\\sqrt{a}$\n"
   ]
  },
  {
   "cell_type": "markdown",
   "metadata": {},
   "source": [
    "### 1.3 Boucles imbriquées"
   ]
  },
  {
   "cell_type": "markdown",
   "metadata": {},
   "source": [
    "#### Exercice 7 : Affichage"
   ]
  },
  {
   "cell_type": "markdown",
   "metadata": {},
   "source": [
    "Pour afficher des caractères sans retour à la ligne, on peut changer le caractère de fin d'affichage dans la fonction print, comme dans l'exemple print(\"blablabla\", end=\"\")"
   ]
  },
  {
   "cell_type": "markdown",
   "metadata": {},
   "source": [
    "1. Écrire une fonction ligne qui prend en parametre un entier n et affiche une ligne de n étoiles."
   ]
  },
  {
   "cell_type": "code",
   "execution_count": 1,
   "metadata": {},
   "outputs": [
    {
     "name": "stdout",
     "output_type": "stream",
     "text": [
      "Nombre d'étoiles : 15\n",
      "***************"
     ]
    }
   ],
   "source": [
    "def ligneEtoiles(n):\n",
    "    for i in range(n):\n",
    "        print(\"*\", end=\"\")\n",
    "    \n",
    "n = int(input(\"Nombre d'étoiles : \"))\n",
    "ligneEtoiles(n)"
   ]
  },
  {
   "cell_type": "markdown",
   "metadata": {},
   "source": [
    "2. Écrire une fonction rectangle qui prend en parametre deux entiers n et m et affiche un\n",
    "rectangle d'étoiles de taille n ∗ m. \n",
    "<br>Par exemple, le résultat de rectangle(3,8) sera :\n",
    "```\n",
    "      **********\n",
    "      **********\n",
    "      **********```"
   ]
  },
  {
   "cell_type": "code",
   "execution_count": null,
   "metadata": {},
   "outputs": [],
   "source": []
  },
  {
   "cell_type": "markdown",
   "metadata": {},
   "source": [
    "3. Afficher un rectangle vide, puis un losange suivant les figures\n",
    "********** **\n",
    "* *\n",
    "* *\n",
    "* *\n",
    "* *\n",
    "* * ** **********\n",
    "    *\n",
    "   ***\n",
    "  *****\n",
    " *******\n",
    "*********\n",
    " *******\n",
    "  *****\n",
    "   ***\n",
    "    *\n",
    "a.\n"
   ]
  },
  {
   "cell_type": "code",
   "execution_count": null,
   "metadata": {},
   "outputs": [],
   "source": []
  },
  {
   "cell_type": "markdown",
   "metadata": {},
   "source": [
    "4. Ecrire un programme cercle prenant un entier n en paramètre, et réalisant l'affichage d'un quart de cercle d'étoiles de rayon n, suivant la figure ci-dessous (pour n = 10).\n",
    "  ```***********\n",
    "  **********\n",
    "  **********\n",
    "  **********\n",
    "  **********\n",
    "  *********\n",
    "  *********\n",
    "  ********\n",
    "  *******\n",
    "  *****\n",
    "*```"
   ]
  },
  {
   "cell_type": "code",
   "execution_count": null,
   "metadata": {},
   "outputs": [],
   "source": []
  },
  {
   "cell_type": "code",
   "execution_count": null,
   "metadata": {},
   "outputs": [],
   "source": []
  }
 ],
 "metadata": {
  "kernelspec": {
   "display_name": "Python 3",
   "language": "python",
   "name": "python3"
  },
  "language_info": {
   "codemirror_mode": {
    "name": "ipython",
    "version": 3
   },
   "file_extension": ".py",
   "mimetype": "text/x-python",
   "name": "python",
   "nbconvert_exporter": "python",
   "pygments_lexer": "ipython3",
   "version": "3.7.1"
  }
 },
 "nbformat": 4,
 "nbformat_minor": 2
}
