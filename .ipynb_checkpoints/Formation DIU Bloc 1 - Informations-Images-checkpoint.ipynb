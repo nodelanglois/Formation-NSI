{
 "cells": [
  {
   "cell_type": "markdown",
   "metadata": {},
   "source": [
    "## Formation DIU \n",
    "  \n"
   ]
  },
  {
   "cell_type": "markdown",
   "metadata": {},
   "source": [
    "#### Représentation de l'information : Cédric Bastoul"
   ]
  },
  {
   "cell_type": "markdown",
   "metadata": {},
   "source": [
    "#### Mercredi 12 juin (matin)"
   ]
  },
  {
   "cell_type": "code",
   "execution_count": null,
   "metadata": {},
   "outputs": [],
   "source": [
    "cedric.bastoul@"
   ]
  },
  {
   "cell_type": "markdown",
   "metadata": {},
   "source": [
    "https://cours.u-cergy.fr/pluginfile.php/213645/mod_resource/content/1/cours_3_codage.pdf"
   ]
  },
  {
   "cell_type": "markdown",
   "metadata": {},
   "source": [
    "NB : La mémoire flash utilise 4 niveaux au lieu d'un bit"
   ]
  },
  {
   "cell_type": "markdown",
   "metadata": {},
   "source": [
    "NB : Python défini des entiers de taille illimité.\n",
    "\n",
    "(En C la taille dépend du compilateur, en python le code est portable)\n",
    "\n",
    "Sinon pb : exemple\n",
    "\n",
    "Sur 8 bit\n",
    "11111111 + 1 = ?"
   ]
  },
  {
   "cell_type": "markdown",
   "metadata": {},
   "source": [
    "Autre limitation : +31 +1 = -32"
   ]
  },
  {
   "cell_type": "markdown",
   "metadata": {},
   "source": [
    "Conséquence : Erreur d'Ariane 5"
   ]
  },
  {
   "cell_type": "markdown",
   "metadata": {},
   "source": [
    "Codage des carractères"
   ]
  },
  {
   "cell_type": "markdown",
   "metadata": {},
   "source": [
    "En C les carractères ASCII sont codés sur des octets mais pb en UTF-8 les carratères accentués prennent plus de place"
   ]
  },
  {
   "cell_type": "markdown",
   "metadata": {},
   "source": [
    "#### Compression :"
   ]
  },
  {
   "cell_type": "markdown",
   "metadata": {},
   "source": [
    "ondelette de Haar"
   ]
  },
  {
   "cell_type": "markdown",
   "metadata": {},
   "source": [
    "quantification"
   ]
  },
  {
   "cell_type": "markdown",
   "metadata": {},
   "source": [
    "#### Exercice 1 : Manipulations d’images"
   ]
  },
  {
   "cell_type": "code",
   "execution_count": 2,
   "metadata": {},
   "outputs": [],
   "source": [
    "from PIL import Image # Pour lire et écrire des images dans un fichier"
   ]
  },
  {
   "cell_type": "code",
   "execution_count": 5,
   "metadata": {},
   "outputs": [],
   "source": [
    "#import PIL\n",
    "def assombrir(image) :\n",
    "    #recuperation des dimensions\n",
    "    (xmax,ymax) = image.size\n",
    "    #parcours de l’image\n",
    "    for x in range(xmax):\n",
    "        for y in range(ymax):\n",
    "            #recuperation du pixel\n",
    "            px = image.getpixel((x,y))\n",
    "            (r,g,b) = px\n",
    "            #noircissement du pixel\n",
    "            px2 = (r//2, g//2, b//2)\n",
    "            image.putpixel((x,y), px2)\n"
   ]
  },
  {
   "cell_type": "code",
   "execution_count": 6,
   "metadata": {},
   "outputs": [],
   "source": [
    "image = Image.open(\"TP_images/peppers.jpg\")\n",
    "eclaircir(image)\n",
    "image.show()\n",
    "#image.save(\"testFonce.jpg\")"
   ]
  },
  {
   "cell_type": "markdown",
   "metadata": {},
   "source": [
    "1. Ecrire une fonction qui éclaircit une image donnée, sur le même principe que la fonction de noircissement : on rapprochera chaque composante des pixels de 255 en divisant la distance par 2.\n",
    "2. Calcule le négatif de l’image : la valeur de chaque composante RGB est inversée.\n",
    "3. Ecrire des fonctions de flip horizontal, de flip vertical, de rotation de 90◦ à droite (en supposant l’image donnée carrée pour pouvoir le faire en place).\n",
    "4. Ecrire une fonction superposition prenant deux images de mêmes dimensions, et créant l’image moyenne : chaque pixel sera la moyenne des pixels des deux images en même position (pour créer une nouvelle image de même dimension si on ne veut pas supprimer l’une des deux, on pourra utiliser image.copy())."
   ]
  },
  {
   "cell_type": "code",
   "execution_count": 3,
   "metadata": {},
   "outputs": [],
   "source": [
    "def eclaircir(image) :\n",
    "    #recuperation des dimensions\n",
    "    (xmax,ymax) = image.size\n",
    "    #parcours de l’image\n",
    "    for x in range(xmax):\n",
    "        for y in range(ymax):\n",
    "            #recuperation du pixel\n",
    "            px = image.getpixel((x,y))\n",
    "            (r,g,b) = px\n",
    "            #noircissement du pixel\n",
    "            px2 = (r*2, g*2, b*2)\n",
    "            image.putpixel((x,y), px2)\n"
   ]
  },
  {
   "cell_type": "code",
   "execution_count": null,
   "metadata": {},
   "outputs": [],
   "source": [
    "image = Image.open(\"TP_images/peppers.jpg\")\n",
    "eclaircir(image)\n",
    "image.show()\n",
    "#image.save(\"testClair.jpg\")"
   ]
  }
 ],
 "metadata": {
  "kernelspec": {
   "display_name": "Python 3",
   "language": "python",
   "name": "python3"
  },
  "language_info": {
   "codemirror_mode": {
    "name": "ipython",
    "version": 3
   },
   "file_extension": ".py",
   "mimetype": "text/x-python",
   "name": "python",
   "nbconvert_exporter": "python",
   "pygments_lexer": "ipython3",
   "version": "3.7.1"
  }
 },
 "nbformat": 4,
 "nbformat_minor": 2
}
