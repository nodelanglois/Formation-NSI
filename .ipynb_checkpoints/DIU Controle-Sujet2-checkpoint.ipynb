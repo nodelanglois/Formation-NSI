{
 "cells": [
  {
   "cell_type": "markdown",
   "metadata": {},
   "source": [
    "### DIU Contrôle Bloc 2 : sujet 2"
   ]
  },
  {
   "cell_type": "markdown",
   "metadata": {},
   "source": [
    "Christophe Nodé-Langlois"
   ]
  },
  {
   "cell_type": "markdown",
   "metadata": {},
   "source": [
    "Document :  \n",
    "https://cours.u-cergy.fr/pluginfile.php/223509/mod_resource/content/0/controleAlgo.sujet2.pdf"
   ]
  },
  {
   "cell_type": "markdown",
   "metadata": {},
   "source": [
    "**Exercice 1: Esrever**  "
   ]
  },
  {
   "cell_type": "code",
   "execution_count": 1,
   "metadata": {},
   "outputs": [],
   "source": [
    "def reverse(L):\n",
    "    N = len(L)\n",
    "    for i in range(0, len(L)//2):\n",
    "        L[i], L[N-i-1] = L[N-i-1], L[i]\n",
    "    return L"
   ]
  },
  {
   "cell_type": "code",
   "execution_count": 2,
   "metadata": {},
   "outputs": [
    {
     "name": "stdout",
     "output_type": "stream",
     "text": [
      "['R', 'e', 'v', 'e', 'r', 's', 'e']\n",
      "['R', 'e', 'v', 'e', 'r', 's', 'e', 's']\n",
      "[True, False]\n"
     ]
    }
   ],
   "source": [
    "print(reverse([\"e\",\"s\",\"r\",\"e\",\"v\",\"e\",\"R\"]))\n",
    "print(reverse([\"s\",\"e\",\"s\",\"r\",\"e\",\"v\",\"e\",\"R\"]))\n",
    "print(reverse([False,True]))"
   ]
  },
  {
   "cell_type": "markdown",
   "metadata": {},
   "source": [
    "**Exercice 2 : Harshad**  "
   ]
  },
  {
   "cell_type": "code",
   "execution_count": 3,
   "metadata": {},
   "outputs": [
    {
     "name": "stdout",
     "output_type": "stream",
     "text": [
      "True\n",
      "False\n"
     ]
    }
   ],
   "source": [
    "def harshad(N):\n",
    "    \"\"\"Regarde si un nombre est divisible par la somme de ses chiffres\"\"\"\n",
    "    # Complexité en O(n) ??\n",
    "    M = N\n",
    "    S = 0\n",
    "    HARSHAD = False\n",
    "    while M != 0:\n",
    "        S += M%10\n",
    "        M = M//10\n",
    "    if N%S == 0:\n",
    "        HARSHAD = True\n",
    "    return HARSHAD\n",
    "        \n",
    "print(harshad(45))\n",
    "print(harshad(46))"
   ]
  },
  {
   "cell_type": "markdown",
   "metadata": {},
   "source": [
    "**Exercice 3 : Courbe du dragon**  "
   ]
  },
  {
   "cell_type": "code",
   "execution_count": 4,
   "metadata": {},
   "outputs": [],
   "source": [
    "def inverse(L):\n",
    "    for i in range(len(L)):\n",
    "        L[i]= not(L[i])\n",
    "    return(L)"
   ]
  },
  {
   "cell_type": "code",
   "execution_count": 7,
   "metadata": {},
   "outputs": [
    {
     "name": "stdout",
     "output_type": "stream",
     "text": [
      "[1, 2, 3, 6, 5, 4]\n"
     ]
    }
   ],
   "source": [
    "x =[1,2,3]\n",
    "y =[4,5,6]\n",
    "\n",
    "print(x+reverse(y))"
   ]
  },
  {
   "cell_type": "code",
   "execution_count": 8,
   "metadata": {},
   "outputs": [
    {
     "name": "stdout",
     "output_type": "stream",
     "text": [
      "[True, False, False]\n"
     ]
    }
   ],
   "source": [
    "print(inverse([False, True, True]))"
   ]
  },
  {
   "cell_type": "code",
   "execution_count": 15,
   "metadata": {},
   "outputs": [],
   "source": [
    "def dragon(N):\n",
    "    if N == 1:\n",
    "        L = [False]\n",
    "    else:\n",
    "        L = dragon(N-1)+[False]+reverse(inverse(dragon(N-1)))\n",
    "    return L"
   ]
  },
  {
   "cell_type": "code",
   "execution_count": 17,
   "metadata": {},
   "outputs": [
    {
     "name": "stdout",
     "output_type": "stream",
     "text": [
      "[False, False, True, False, False, True, True]\n"
     ]
    }
   ],
   "source": [
    "print(dragon(3))"
   ]
  },
  {
   "cell_type": "code",
   "execution_count": null,
   "metadata": {},
   "outputs": [],
   "source": [
    "from turtle import *\n",
    "\n",
    "def afficheDragon(N):\n",
    "    for i in dragon(N):\n",
    "        if i:\n",
    "            left(90)\n",
    "        else:\n",
    "            right(90)\n",
    "        forward(50)\n",
    "    \n",
    "    "
   ]
  },
  {
   "cell_type": "markdown",
   "metadata": {},
   "source": []
  },
  {
   "cell_type": "markdown",
   "metadata": {},
   "source": []
  }
 ],
 "metadata": {
  "kernelspec": {
   "display_name": "Python 3",
   "language": "python",
   "name": "python3"
  },
  "language_info": {
   "codemirror_mode": {
    "name": "ipython",
    "version": 3
   },
   "file_extension": ".py",
   "mimetype": "text/x-python",
   "name": "python",
   "nbconvert_exporter": "python",
   "pygments_lexer": "ipython3",
   "version": "3.7.1"
  }
 },
 "nbformat": 4,
 "nbformat_minor": 2
}
