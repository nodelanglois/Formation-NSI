{
 "cells": [
  {
   "cell_type": "markdown",
   "metadata": {},
   "source": [
    "## Formation DIU \n",
    "  \n"
   ]
  },
  {
   "cell_type": "markdown",
   "metadata": {},
   "source": [
    "### Traitement de données en tables"
   ]
  },
  {
   "cell_type": "markdown",
   "metadata": {},
   "source": [
    "#### Mercredi 12 juin (aprem)"
   ]
  },
  {
   "cell_type": "code",
   "execution_count": null,
   "metadata": {},
   "outputs": [],
   "source": []
  },
  {
   "cell_type": "markdown",
   "metadata": {},
   "source": [
    "https://cours.u-cergy.fr/login/index.php"
   ]
  },
  {
   "cell_type": "markdown",
   "metadata": {},
   "source": [
    "### 1 Exemple : base des établissements scolaires français.\n"
   ]
  },
  {
   "cell_type": "code",
   "execution_count": 1,
   "metadata": {},
   "outputs": [],
   "source": [
    "#import codecs  # Utile pour spécifier l'encodage à l'ouverture\n",
    "import matplotlib.pyplot as pl"
   ]
  },
  {
   "cell_type": "code",
   "execution_count": 2,
   "metadata": {},
   "outputs": [],
   "source": [
    "#Programme travaillant sur le fichier\n",
    "#des etablissements de l'education nationale\n",
    "#disponible ici :\n",
    "# https://www.data.gouv.fr/fr/datasets/adresse-et-geolocalisation-des-etablissements-denseignement-du-premier-et-second-degres/"
   ]
  },
  {
   "cell_type": "code",
   "execution_count": 3,
   "metadata": {},
   "outputs": [
    {
     "name": "stdout",
     "output_type": "stream",
     "text": [
      "[\"Code établissement;Appellation officielle;Dénomination principale;Patronyme uai;Secteur Public/Privé;Adresse;Lieu dit;Boite postale;Code postal;Localite d'acheminement;Commune;Coordonnee X;Coordonnee Y;EPSG;Latitude;Longitude;Qualité d'appariement;Localisation;Code nature;Nature;Code état établissement;Etat établissement;Code département;Code région;Code académie;Code commune;Département;Région;Académie;Position\", '0940822H;Lycée général et technologique Claude-Nicolas Ledoux-EBTP;LYCEE GENERAL ET TECHNOLOGIQUE PRIVE;CLAUDE-NICOLAS LEDOUX;Privé;18 rue DE BELFORT;;;94307;VINCENNES CEDEX;Vincennes;658253.0;6861280.3;EPSG:2154;48.85021146047426;2.431101077190197;Correcte;Numéro de rue;300;LYCEE ENSEIGNT GENERAL ET TECHNOLOGIQUE;1;OUVERT;94;11;24;94080;Val-de-Marne;Ile-de-France;Créteil;48.8502114605, 2.43110107719', \"0950087D;Ecole élémentaire Maurice Berteaux 1;ECOLE ELEMENTAIRE PUBLIQUE;MAURICE BERTEAUX 1;Public;1 AVENUE MAURICE BERTEAUX;;;95240;CORMEILLES EN PARISIS;Cormeilles-en-Parisis;641352.3;6875354.0;EPSG:2154;48.97544957717941;2.198857878257942;Parfaite;Numéro de rue;151;ECOLE DE NIVEAU ELEMENTAIRE;1;OUVERT;95;11;25;95176;Val-d'Oise;Ile-de-France;Versailles;48.9754495772, 2.19885787826\", \"0950423U;Ecole élémentaire Pierre et Marie Curie;ECOLE ELEMENTAIRE PUBLIQUE;PIERRE ET MARIE CURIE;Public;33 rue Pierre Curie;;;95140;GARGES LES GONESSE;Garges-lès-Gonesse;655182.9;6874657.8;EPSG:2154;48.97030239257021;2.387852290310956;Parfaite;Numéro de rue;151;ECOLE DE NIVEAU ELEMENTAIRE;1;OUVERT;95;11;25;95268;Val-d'Oise;Ile-de-France;Versailles;48.9703023926, 2.38785229031\"]\n"
     ]
    }
   ],
   "source": [
    "#Lecture d'une table\n",
    "Etablissements = []\n",
    "with open('ManipulationDonnees/fr-en-adresse-et-geolocalisation-etablissements-premier-et-second-degre.csv', \"r\", encoding =\"utf-8\") as f:\n",
    "#with codecs.open('fr-en-adresse-et-geolocalisation-etablissements-premier-et-second-degre.csv',\"r\",\"utf-8\") as f:\n",
    "    lignes = f.read().splitlines()\n",
    "    print(lignes[:4])\n",
    "    entete = lignes[0].split(';')\n",
    "    for ligne in lignes[1:]:\n",
    "        champs = ligne.split(\";\")\n",
    "        d={}\n",
    "        for i in range (len(entete)):\n",
    "            d[entete[i]]=champs[i]\n",
    "        Etablissements.append(d)\n",
    "\n",
    "# Remarque :\n",
    "# for ligne in f:\n",
    "# -> ligne contient le caractère de fin de \n",
    "# ligne \\n (et eventuellement \\r)\n",
    "# lignes = f.read().splitlines()\n",
    "# for ligne in lignes :\n",
    "# -> ligne ne contient pas le caractère de \n",
    "# fin de ligne.\n",
    "# Ce serait plus \"propre\" de supprimer ce caractère.\n",
    "##\n",
    "\n",
    "\n",
    "#Filtrage d'une table\n",
    "EtablissementsVersailles=[x for x in Etablissements if (x['Académie']=='Versailles')]\n",
    "EtablissementsCergy=[x for x in Etablissements if (x['Académie']=='Versailles' and x['Commune'] == 'Cergy')]\n",
    "EtablissementsMetropole = [x for x in Etablissements if (x['Code département']!= '' and int(x['Code département'])<100)]\n",
    "\n",
    "\n",
    "#Tri de la table\n",
    "EtablissementsVersaillesTries = sorted(EtablissementsVersailles, key = lambda etab:etab['Nature'])\n",
    "\n",
    "# Ecriture dans un fichier de la table\n",
    "def ecriture(table,nomFichier):\n",
    "    with open(nomFichier, \"w\", encoding='utf-8') as f :\n",
    "        entete = \"\"\n",
    "        for x in table[0].keys() :\n",
    "            #on sépare chaque champ avec un ;\n",
    "            entete+=x+\";\"\n",
    "        # on n'écrit pas le dernier ; \n",
    "        # de fin de ligne inutile\n",
    "        f.write(entete[:-1]+'\\n')\n",
    "        for etab in table :\n",
    "            ligne = \"\"\n",
    "            for champ in etab.values():\n",
    "                ligne+=champ+\";\"\n",
    "            f.write(ligne[:-1]+'\\n')\n",
    "            \n",
    "            \n",
    "#Exemple d'utilisation\n",
    "def affichePoints(listeEtab):\n",
    "    latitudes = [float(x['Latitude']) for x in listeEtab if x['Latitude']!='']\n",
    "    \n",
    "    longitudes = [float(x['Longitude']) for x in listeEtab  if x['Longitude']!='']\n",
    "    #Affichage en nuage de points\n",
    "    pl.plot(longitudes,latitudes,'bo')\n",
    "    pl.show()\n",
    "    "
   ]
  },
  {
   "cell_type": "code",
   "execution_count": 5,
   "metadata": {},
   "outputs": [
    {
     "data": {
      "image/png": "[encoded data removed]",
      "text/plain": [
       "<Figure size 432x288 with 1 Axes>"
      ]
     },
     "metadata": {
      "needs_background": "light"
     },
     "output_type": "display_data"
    }
   ],
   "source": [
    "affichePoints(EtablissementsMetropole)\n",
    "#affichePoints(Etablissements)\n",
    "#ecriture(EtablissementsVersailles,\"etablissementsVersailles.csv\")"
   ]
  },
  {
   "cell_type": "code",
   "execution_count": 6,
   "metadata": {},
   "outputs": [
    {
     "data": {
      "image/png": "[encoded data removed]",
      "text/plain": [
       "<Figure size 432x288 with 1 Axes>"
      ]
     },
     "metadata": {
      "needs_background": "light"
     },
     "output_type": "display_data"
    }
   ],
   "source": [
    "affichePoints(EtablissementsVersailles)"
   ]
  },
  {
   "cell_type": "code",
   "execution_count": null,
   "metadata": {},
   "outputs": [],
   "source": []
  },
  {
   "cell_type": "markdown",
   "metadata": {},
   "source": [
    "### 2 TP : base des prénoms de l’INSEE"
   ]
  },
  {
   "cell_type": "markdown",
   "metadata": {},
   "source": [
    "L’objectif de ce TP est de réaliser un outil d’aide au choix d’un prénom. Cet outil s’appuiera sur un fichier de statistiques nationales pour afficher la fréquence d’un prénom donné, donner les 100 premiers prénoms donnés pour une année fixée, dessiner la courbe de fréquence d’un prénom dans le temps..."
   ]
  },
  {
   "cell_type": "markdown",
   "metadata": {},
   "source": [
    "#### 3 Importer les données"
   ]
  },
  {
   "cell_type": "markdown",
   "metadata": {},
   "source": [
    "L’INSEE tient à jour une base de données des prénoms donnés en France année par année, depuis 1900. On pourra télécharger le fichier nat2017.txt au format txt sur le site :\n",
    " https://www.insee.fr/fr/statistiques/2540004#consulter. \n",
    "\n",
    "Ce fichier contient des lignes de la forme :\n",
    "sexe preusuel annais nombre\n",
    "<br>Où sexe vaut 1 pour les garçons, 2 pour les filles, preusuel désigne le prénom, annais l’année de naissance, nombre le nombre de naissances. Les quatre champs sont séparés par des tabulations (\\t).\n",
    "\n",
    "_Pour certaines lignes, l’année n’est pas renseignée et est remplacée par XXXX; on ignorera ces lignes._\n"
   ]
  },
  {
   "cell_type": "markdown",
   "metadata": {},
   "source": [
    "#### Question 1 : \n",
    "Écrire une fonction prenant en entrée le nom du fichier, et retournant cette base de données sous forme de deux dictionnaires de dictionnaires, un pour les prénoms féminins, l’autre pour les prénoms masculins :"
   ]
  },
  {
   "cell_type": "markdown",
   "metadata": {},
   "source": [
    "```Python\n",
    "Prénoms masculins :\n",
    "{’ADAM’ : {1900: 20, 1901: 11, ...}, ... }\n",
    "Prénoms féminins :\n",
    "{’ADÈLE’ : {1900: 661, 1901: 625, ...}, ... }\n",
    "```"
   ]
  },
  {
   "cell_type": "code",
   "execution_count": null,
   "metadata": {},
   "outputs": [],
   "source": [
    "\"\"\"\n",
    "Créer une liste des prenoms\n",
    "et deux dictionnaires contenant les prénoms et en valeurs des dictionnaires contennant année et occurence\n",
    "Négliger les xxxx\n",
    "\"\"\"\n",
    "\n",
    "enfants = []\n",
    "garcons = {}\n",
    "filles = {}\n",
    "# Question 1\n",
    "\n",
    "with open('nat2017_court.txt', 'r', encoding=\"utf-8\") as f:\n",
    "    lignes = f.read().splitlines()\n",
    "#print(lignes[:10])\n",
    "\n",
    "enfants = [ligne.split('\\t') for ligne in lignes[1:]]\n",
    "\n",
    "#print(enfants[:10])   \n",
    "for enfant in enfants:\n",
    "    if enfant[0] == '1':\n",
    "        if enfant[1] not in garcons.keys():\n",
    "            if enfant[2] != 'XXXX':\n",
    "                garcons[enfant[1]]={int(enfant[2]):int(enfant[3])}\n",
    "        else :\n",
    "            if enfant[2] != 'XXXX':\n",
    "                garcons[enfant[1]][int(enfant[2])] = int(enfant[3])\n",
    "\n",
    "    elif enfant[0] == '2':\n",
    "        if enfant[1] not in filles.keys():\n",
    "            if enfant[2] != 'XXXX':\n",
    "                filles[enfant[1]]={int(enfant[2]):int(enfant[3])}\n",
    "        else :\n",
    "            if enfant[2] != 'XXXX':\n",
    "                filles[enfant[1]][int(enfant[2])] = int(enfant[3])\n",
    "\n",
    "\n",
    "#print(garcons['ADAM'])\n",
    "\n",
    "def populaire(dic,debut,fin):\n",
    "    listePopu = []\n",
    "    for prenom in dic.keys():\n",
    "        Nombre = 0\n",
    "        for annee in range(debut,fin+1):\n",
    "            if annee in dic[prenom].keys():\n",
    "                Nombre += dic[prenom][annee]\n",
    "        listePopu.append((prenom,Nombre))\n",
    "    return sorted(listePopu, key=lambda listePopu : listePopu[1] , reverse=True)\n",
    "    \n",
    "\n",
    "print(populaire(garcons, 1900, 2017))\n"
   ]
  },
  {
   "cell_type": "code",
   "execution_count": null,
   "metadata": {},
   "outputs": [],
   "source": [
    "\"\"\"\n",
    "Correction\n",
    "\"\"\"\n",
    "\n",
    "garcons = {}\n",
    "filles = {}\n",
    "# Question 1\n",
    "\n",
    "with open('nat2017_court.txt', 'r', encoding=\"utf-8\") as f:\n",
    "    # On ne s'occupe pas de l'entête\n",
    "    f.readline()\n",
    "    for ligne in f:\n",
    "        sexe, prenom, annee, nombre = ligne.split('\\')\n",
    "        if sexe =='1':\n",
    "            dic = garcons\n",
    "        elif sexe == '2':\n",
    "            dic = fille\n",
    "        if not prenom in dic.keys():\n",
    "            dic[prenom] = {}\n",
    "        if annee != 'XXXX':\n",
    "            dic[prenom][int(annee)]=int(nombre)\n",
    "                                                  \n",
    "\n",
    "#print(garcons['ADAM'])\n",
    "\n",
    "def populaire(dic,debut,fin):\n",
    "    listePopu = []\n",
    "    for prenom in dic.keys():\n",
    "        Nombre = 0\n",
    "        for annee in range(debut,fin+1):\n",
    "            if annee in dic[prenom].keys():\n",
    "                Nombre += dic[prenom][annee]\n",
    "        listePopu.append((prenom,Nombre))\n",
    "    return sorted(listePopu, key=lambda listePopu : listePopu[1] , reverse=True)\n",
    "    \n",
    "\n",
    "print(populaire(garcons, 1900, 2017))\n"
   ]
  },
  {
   "cell_type": "code",
   "execution_count": null,
   "metadata": {},
   "outputs": [],
   "source": []
  }
 ],
 "metadata": {
  "kernelspec": {
   "display_name": "Python 3",
   "language": "python",
   "name": "python3"
  },
  "language_info": {
   "codemirror_mode": {
    "name": "ipython",
    "version": 3
   },
   "file_extension": ".py",
   "mimetype": "text/x-python",
   "name": "python",
   "nbconvert_exporter": "python",
   "pygments_lexer": "ipython3",
   "version": "3.7.1"
  }
 },
 "nbformat": 4,
 "nbformat_minor": 2
}
