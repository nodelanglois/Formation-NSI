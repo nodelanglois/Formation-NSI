{
 "cells": [
  {
   "cell_type": "code",
   "execution_count": null,
   "metadata": {},
   "outputs": [],
   "source": [
    "# Christophe Nodé-Langlois"
   ]
  },
  {
   "cell_type": "markdown",
   "metadata": {},
   "source": [
    "## Recommandations"
   ]
  },
  {
   "cell_type": "markdown",
   "metadata": {},
   "source": [
    "Collaborative filtering : ce n'est pas de la classification"
   ]
  },
  {
   "cell_type": "markdown",
   "metadata": {},
   "source": [
    "[010011010001...] vecteur de choix"
   ]
  },
  {
   "cell_type": "markdown",
   "metadata": {},
   "source": [
    "On calcule la distance euclidienne (bouléen de supperposition (color px image / color px test)"
   ]
  },
  {
   "cell_type": "code",
   "execution_count": 12,
   "metadata": {},
   "outputs": [],
   "source": [
    "\n",
    "\n",
    "from numpy import *\n",
    "\n",
    "allfilms = None\n",
    "\n",
    "def load(filename):\n",
    "    f = open(\"./Recommandation/\"+filename)\n",
    "    films = set()\n",
    "    n = 0\n",
    "    for l in f:\n",
    "        if(l[0]=='-'):\n",
    "            n = n + 1\n",
    "        else:\n",
    "            films.add(l)\n",
    "    films = list(films)\n",
    "    #print(films)\n",
    "    allfilms = films\n",
    "    data = zeros((n,len(films)))\n",
    "    i = -1\n",
    "    f.seek(0)\n",
    "    for l in f:\n",
    "        if(l[0]=='-'):\n",
    "            i=i+1\n",
    "        else:\n",
    "            data[i,films.index(l)] = 1\n",
    "    return data, films\n"
   ]
  },
  {
   "cell_type": "code",
   "execution_count": 19,
   "metadata": {
    "scrolled": true
   },
   "outputs": [
    {
     "name": "stdout",
     "output_type": "stream",
     "text": [
      "27\n",
      "87\n",
      "[[0. 0. 0. ... 0. 0. 0.]\n",
      " [0. 0. 1. ... 0. 0. 0.]\n",
      " [1. 0. 0. ... 0. 0. 0.]\n",
      " ...\n",
      " [0. 0. 0. ... 1. 0. 1.]\n",
      " [0. 0. 0. ... 0. 0. 0.]\n",
      " [1. 0. 0. ... 0. 0. 0.]]\n",
      "87\n",
      "['Leparrain2mepartie\\n', 'Certainslaimentchaud\\n', 'louestriendenouveau\\n', 'LeseigneurdesanneauxLeretourduroi\\n', 'LedocteurJivago\\n', 'TaxiDriver\\n', 'Laligneverte\\n', 'Lavieestbelle\\n', 'Titanic\\n', 'Lesdentsdelamer\\n', 'Gladiator\\n', 'MrSmithausnat\\n', '2001lodyssedelespace\\n', 'Leslumiresdelaville\\n', 'ButchCassidyetleKid\\n', 'Lebonlabruteetletruand\\n', 'Lelaurat\\n', 'NewYorkMiami\\n', 'Rocky\\n', 'Sueursfroides\\n', 'Surlesquais\\n', 'Patton\\n', 'Amadeus\\n', 'WestSideStory\\n', 'Letroisimehomme\\n', 'Platoon\\n', 'Voyageauboutdelenfer\\n', 'LalistedeSchindler\\n', 'Letrainsiffleratroisfois\\n', 'Indiscrtions\\n', 'LemagiciendOz\\n', 'ForrestGump\\n', 'BenHur\\n', 'Rencontresdutroisimetype\\n', 'Lafureurdevivre\\n', 'Laguerredestoiles\\n', 'Lamlodiedubonheur\\n', 'Macadamcowboy\\n', 'AnnieHall\\n', 'UnAmricainParis\\n', 'Lesaventuriersdelarcheperdue\\n', 'Dusilenceetdesombres\\n', 'IlfautsauverlesoldatRyan\\n', 'Danseaveclesloups\\n', 'Chantonssouslapluie\\n', 'Lhommedesvallesperdues\\n', 'ApocalypseNow\\n', 'CitizenKane\\n', 'WillHunting\\n', 'Lesaffranchis\\n', 'Autantenemportelevent\\n', 'BonnieetClyde\\n', 'Lesilencedesagneaux\\n', 'PulpFiction\\n', 'Untramwaynommdsir\\n', 'Tantquilyauradeshommes\\n', 'Impitoyable\\n', 'RagingBull\\n', 'Volaudessusdunniddecoucou\\n', 'LepontdelarivireKwa\\n', 'Fentresurcour\\n', 'Lagaronnire\\n', 'Ledictateur\\n', 'Fargo\\n', 'Nashville\\n', 'Assurancesurlamort\\n', 'Lesraisinsdelacolre\\n', 'Lefauconmaltais\\n', 'Lamortauxtrousses\\n', 'ETlextraterrestre\\n', 'Laglorieuseparade\\n', 'Braveheart\\n', 'RainMan\\n', 'Orangemcanique\\n', 'Psychose\\n', 'Chinatown\\n', 'FrenchConnection\\n', 'Leparrain\\n', 'Lepianiste\\n', 'Douzehommesencolre\\n', 'LawrencedArabie\\n', 'Casablanca\\n', 'Lesvads\\n', 'DocteurFolamourouCommentjaiapprisneplusmenfaireetaimerlabombe\\n', 'JurassicPark\\n', 'Lexorciste\\n', 'Lesplusbellesannesdenotrevie\\n']\n"
     ]
    }
   ],
   "source": [
    "Xtrain, Films = load('db.txt') # 27 personnes et 87 films\n",
    "print(len(Xtrain))\n",
    "print(len(Xtrain[0]))\n",
    "print(Xtrain)\n",
    "print(len(Films))\n",
    "print(Films)"
   ]
  },
  {
   "cell_type": "code",
   "execution_count": 20,
   "metadata": {},
   "outputs": [],
   "source": [
    "def dist(x,y): # Distance (il peut être plus jdicieux de définir une autre distance)\n",
    "    return sqrt(sum((x-y)**2))\n"
   ]
  },
  {
   "cell_type": "code",
   "execution_count": 21,
   "metadata": {},
   "outputs": [],
   "source": [
    "def nn(x, X): # Le plus proche voisin\n",
    "    mind = dist(x,X[0])\n",
    "    imind = 0\n",
    "    for i in range(1,X.shape[0]):\n",
    "        d = dist(x,X[i])\n",
    "        if d <= mind and i!= Moi:\n",
    "            mind = d\n",
    "            imind = i\n",
    "    return imind\n"
   ]
  },
  {
   "cell_type": "code",
   "execution_count": 36,
   "metadata": {},
   "outputs": [],
   "source": [
    "def suggere(Moi, Toi):\n",
    "    for i in range(Xtrain[Moi].shape[0]):\n",
    "        if Xtrain[Toi][i] > Xtrain[Moi][i] and Xtrain[Moi][i]==0:\n",
    "            Conseils.append(i)\n",
    "    print(f\"Liste des {len(Conseils)} films conseillés :\")\n",
    "    for elm in Conseils:\n",
    "        print(elm, films[elm].split())\n",
    "    return Conseils\n"
   ]
  },
  {
   "cell_type": "code",
   "execution_count": 37,
   "metadata": {},
   "outputs": [
    {
     "name": "stdout",
     "output_type": "stream",
     "text": [
      "\n",
      "Liste des 37 films conseillés :\n",
      "0 ['Leparrain2mepartie']\n",
      "3 ['LeseigneurdesanneauxLeretourduroi']\n",
      "4 ['LedocteurJivago']\n",
      "5 ['TaxiDriver']\n",
      "9 ['Lesdentsdelamer']\n",
      "10 ['Gladiator']\n",
      "15 ['Lebonlabruteetletruand']\n",
      "16 ['Lelaurat']\n",
      "18 ['Rocky']\n",
      "20 ['Surlesquais']\n",
      "22 ['Amadeus']\n",
      "23 ['WestSideStory']\n",
      "24 ['Letroisimehomme']\n",
      "25 ['Platoon']\n",
      "26 ['Voyageauboutdelenfer']\n",
      "27 ['LalistedeSchindler']\n",
      "28 ['Letrainsiffleratroisfois']\n",
      "33 ['Rencontresdutroisimetype']\n",
      "34 ['Lafureurdevivre']\n",
      "40 ['Lesaventuriersdelarcheperdue']\n",
      "42 ['IlfautsauverlesoldatRyan']\n",
      "46 ['ApocalypseNow']\n",
      "49 ['Lesaffranchis']\n",
      "51 ['BonnieetClyde']\n",
      "53 ['PulpFiction']\n",
      "56 ['Impitoyable']\n",
      "58 ['Volaudessusdunniddecoucou']\n",
      "59 ['LepontdelarivireKwa']\n",
      "63 ['Fargo']\n",
      "67 ['Lefauconmaltais']\n",
      "72 ['RainMan']\n",
      "73 ['Orangemcanique']\n",
      "77 ['Leparrain']\n",
      "78 ['Lepianiste']\n",
      "79 ['Douzehommesencolre']\n",
      "81 ['Casablanca']\n",
      "85 ['Lexorciste']\n"
     ]
    }
   ],
   "source": [
    "Moi = 13\n",
    "Conseils=[]\n",
    "Toi = nn(Moi,Xtrain)\n",
    "#print(Xtrain[Moi])\n",
    "#print(i)\n",
    "#print(Xtrain[i])\n",
    "print()\n",
    "Conseils = suggere(Moi, Toi)\n",
    "#print(Conseils)\n"
   ]
  },
  {
   "cell_type": "markdown",
   "metadata": {},
   "source": []
  },
  {
   "cell_type": "code",
   "execution_count": null,
   "metadata": {},
   "outputs": [],
   "source": []
  }
 ],
 "metadata": {
  "kernelspec": {
   "display_name": "Python 3",
   "language": "python",
   "name": "python3"
  },
  "language_info": {
   "codemirror_mode": {
    "name": "ipython",
    "version": 3
   },
   "file_extension": ".py",
   "mimetype": "text/x-python",
   "name": "python",
   "nbconvert_exporter": "python",
   "pygments_lexer": "ipython3",
   "version": "3.7.1"
  }
 },
 "nbformat": 4,
 "nbformat_minor": 2
}
