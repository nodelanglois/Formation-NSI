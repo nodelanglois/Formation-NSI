{
 "cells": [
  {
   "cell_type": "markdown",
   "metadata": {},
   "source": [
    "## Formation DIU \n",
    "  \n"
   ]
  },
  {
   "cell_type": "markdown",
   "metadata": {},
   "source": [
    "### Web 2.0 : JS ..."
   ]
  },
  {
   "cell_type": "markdown",
   "metadata": {},
   "source": [
    "#### Vendredi 14 juin (aprem)"
   ]
  },
  {
   "cell_type": "markdown",
   "metadata": {},
   "source": [
    "jerome.fellus@u-cergy.fr"
   ]
  },
  {
   "cell_type": "markdown",
   "metadata": {},
   "source": [
    "Langage :\n",
    "- déclaratif : on dit quoi faire (SVG ...)\n",
    "- impératif :  on dit comment faire "
   ]
  },
  {
   "cell_type": "markdown",
   "metadata": {},
   "source": [
    "#### SVG"
   ]
  },
  {
   "cell_type": "markdown",
   "metadata": {},
   "source": [
    "On peut intégrer du <svg></svg> à l'intérieur du code html."
   ]
  },
  {
   "cell_type": "code",
   "execution_count": 1,
   "metadata": {},
   "outputs": [
    {
     "data": {
      "text/html": [
       "<!DOCTYPE HTML>\n",
       "<html>\n",
       "    <head>\n",
       "        <title> ... </title>\n",
       "        <meta charset=\"utf-8\">\n",
       "        <style>\n",
       "            circle {color:\"#468\"}\n",
       "        </style>\n",
       "        <script>\n",
       "        // du JS\n",
       "        \n",
       "        </script>\n",
       "    </head>\n",
       "    <body>\n",
       "        <p>\n",
       "        Voili, voilà\n",
       "        </p>\n",
       "        <svg width= 200px height=200px>\n",
       "            <circle cx=100 cy=100 r=20></circle>\n",
       "        </svg>\n",
       "    </body>\n",
       "</html>"
      ],
      "text/plain": [
       "<IPython.core.display.HTML object>"
      ]
     },
     "metadata": {},
     "output_type": "display_data"
    }
   ],
   "source": [
    "%%html\n",
    "<!DOCTYPE HTML>\n",
    "<html>\n",
    "    <head>\n",
    "        <title> ... </title>\n",
    "        <meta charset=\"utf-8\">\n",
    "        <style>\n",
    "            circle {color:\"#468\"}\n",
    "        </style>\n",
    "        <script>\n",
    "        // du JS\n",
    "        \n",
    "        </script>\n",
    "    </head>\n",
    "    <body>\n",
    "        <p>\n",
    "        Voili, voilà\n",
    "        </p>\n",
    "        <svg width= 200px height=200px>\n",
    "            <circle cx=100 cy=100 r=20></circle>\n",
    "        </svg>\n",
    "    </body>\n",
    "</html>"
   ]
  },
  {
   "cell_type": "markdown",
   "metadata": {},
   "source": [
    "On peut intégrer du script JS <script></script> à l'intérieur du code html."
   ]
  },
  {
   "cell_type": "markdown",
   "metadata": {},
   "source": [
    "**JQUERY**\n",
    "<br>Pour écrire du JS plus simplement\n",
    "<br>C'est une librairie JS\n",
    "<br>Une série de convention ... avec des $"
   ]
  },
  {
   "cell_type": "markdown",
   "metadata": {},
   "source": [
    "**Média API**\n",
    "<br>Permet de gérer du multi média"
   ]
  },
  {
   "cell_type": "code",
   "execution_count": null,
   "metadata": {},
   "outputs": [],
   "source": [
    "**D3.JS**\n",
    "<br>Pour représenter des données"
   ]
  },
  {
   "cell_type": "code",
   "execution_count": null,
   "metadata": {},
   "outputs": [],
   "source": []
  },
  {
   "cell_type": "code",
   "execution_count": null,
   "metadata": {},
   "outputs": [],
   "source": []
  }
 ],
 "metadata": {
  "kernelspec": {
   "display_name": "Python 3",
   "language": "python",
   "name": "python3"
  },
  "language_info": {
   "codemirror_mode": {
    "name": "ipython",
    "version": 3
   },
   "file_extension": ".py",
   "mimetype": "text/x-python",
   "name": "python",
   "nbconvert_exporter": "python",
   "pygments_lexer": "ipython3",
   "version": "3.7.1"
  }
 },
 "nbformat": 4,
 "nbformat_minor": 2
}
