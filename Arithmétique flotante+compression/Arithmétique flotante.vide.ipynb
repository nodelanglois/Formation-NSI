{
 "cells": [
  {
   "cell_type": "markdown",
   "metadata": {},
   "source": [
    "# Représentation des flotants en machine\n",
    "\n",
    "L'arithmétique flotante réserve parfois quelques surprises :"
   ]
  },
  {
   "cell_type": "code",
   "execution_count": 1,
   "metadata": {},
   "outputs": [
    {
     "data": {
      "text/plain": [
       "False"
      ]
     },
     "execution_count": 1,
     "metadata": {},
     "output_type": "execute_result"
    }
   ],
   "source": [
    "0.3 == 0.1 + 0.2"
   ]
  },
  {
   "cell_type": "markdown",
   "metadata": {},
   "source": [
    "Le résultat précédent est dû au fait que les nombres réels ne sont pas stockés exactmement en machine mais arrondis.\n",
    "Les nombres étant écrits en binaire, un nombre ayant une infinité de décimales en binaire est tronqué.\n"
   ]
  },
  {
   "cell_type": "code",
   "execution_count": 2,
   "metadata": {},
   "outputs": [
    {
     "data": {
      "text/plain": [
       "True"
      ]
     },
     "execution_count": 2,
     "metadata": {},
     "output_type": "execute_result"
    }
   ],
   "source": [
    "0.125 + 0.250 == 0.375"
   ]
  },
  {
   "cell_type": "markdown",
   "metadata": {},
   "source": [
    "Ici pas d'erreur, car ces  nombres admettent une écriture finie en binaire.\n",
    "\n",
    "**Conseil général :** ne jamais tester l'égalité de flotants !\n",
    "\n",
    "Lorsqu'on additionne deux nombres de taille très différente, le gros \"absorbe\" le petit :"
   ]
  },
  {
   "cell_type": "code",
   "execution_count": 3,
   "metadata": {},
   "outputs": [
    {
     "data": {
      "text/plain": [
       "True"
      ]
     },
     "execution_count": 3,
     "metadata": {},
     "output_type": "execute_result"
    }
   ],
   "source": [
    "10**20 + 0.1== 10**20"
   ]
  },
  {
   "cell_type": "markdown",
   "metadata": {},
   "source": [
    "### Activité 1 : \n",
    "Pour $n$ assez grand, $n$ ne sera plus distinguable de $n+1$.\n",
    "\n",
    "Ecrire un programme partant de l'entier 1.0, et le multipliant par deux tant que ce nombre $n$ n'est pas égal à $n+1$.\n",
    "\n",
    "Afficher le nombre obtenu, compter combien de fois on a pu multiplier par deux.\n",
    "Interpréter le résultat !\n"
   ]
  },
  {
   "cell_type": "code",
   "execution_count": 7,
   "metadata": {},
   "outputs": [
    {
     "name": "stdout",
     "output_type": "stream",
     "text": [
      "53 9007199254740992.0\n",
      "9007199254740992.0\n"
     ]
    }
   ],
   "source": [
    "n = 1.0\n",
    "c = 0  # compteur\n",
    "while n != n+1:\n",
    "    c+=1\n",
    "    n*=2\n",
    "print(c,n)\n",
    "print(1.0*2**53)"
   ]
  },
  {
   "cell_type": "markdown",
   "metadata": {},
   "source": [
    "### Activité 2:\n",
    "\n",
    "Ecrire un programme partant de $n=1.0$, et le multipliant par deux tant que ce nombre $n$ n'est pas égal à $2*n$\n",
    "\n",
    "Afficher le nombre obtenu, et compter combien de fois on a pu mutliplier par deux. Interpréter le résultat !"
   ]
  },
  {
   "cell_type": "code",
   "execution_count": 8,
   "metadata": {},
   "outputs": [
    {
     "name": "stdout",
     "output_type": "stream",
     "text": [
      "1024 inf\n"
     ]
    }
   ],
   "source": [
    "n = 1.0\n",
    "c = 0  # compteur\n",
    "while n != 2*n:\n",
    "    c+=1\n",
    "    n*=2\n",
    "print(c,n)"
   ]
  },
  {
   "cell_type": "markdown",
   "metadata": {
    "collapsed": true
   },
   "source": [
    "Ce sont les limites de l'exposant."
   ]
  },
  {
   "cell_type": "code",
   "execution_count": 15,
   "metadata": {},
   "outputs": [
    {
     "data": {
      "text/plain": [
       "inf"
      ]
     },
     "execution_count": 15,
     "metadata": {},
     "output_type": "execute_result"
    }
   ],
   "source": [
    "float(\"inf\")"
   ]
  },
  {
   "cell_type": "code",
   "execution_count": null,
   "metadata": {},
   "outputs": [],
   "source": []
  },
  {
   "cell_type": "code",
   "execution_count": null,
   "metadata": {},
   "outputs": [],
   "source": []
  }
 ],
 "metadata": {
  "anaconda-cloud": {},
  "kernelspec": {
   "display_name": "Python 3",
   "language": "python",
   "name": "python3"
  },
  "language_info": {
   "codemirror_mode": {
    "name": "ipython",
    "version": 3
   },
   "file_extension": ".py",
   "mimetype": "text/x-python",
   "name": "python",
   "nbconvert_exporter": "python",
   "pygments_lexer": "ipython3",
   "version": "3.7.1"
  }
 },
 "nbformat": 4,
 "nbformat_minor": 1
}
