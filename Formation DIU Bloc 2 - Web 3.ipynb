{
 "cells": [
  {
   "cell_type": "markdown",
   "metadata": {},
   "source": [
    "## Formation DIU \n",
    "  \n"
   ]
  },
  {
   "cell_type": "markdown",
   "metadata": {},
   "source": [
    "### Web 3ème partie"
   ]
  },
  {
   "cell_type": "markdown",
   "metadata": {},
   "source": [
    "#### Jeudi 20 juin (aprem)"
   ]
  },
  {
   "cell_type": "markdown",
   "metadata": {},
   "source": [
    "marc.lemaire@u-cergy.fr"
   ]
  },
  {
   "cell_type": "markdown",
   "metadata": {},
   "source": [
    "Documents :   \n"
   ]
  },
  {
   "cell_type": "markdown",
   "metadata": {},
   "source": [
    "### Parcours d'une requête internet :"
   ]
  },
  {
   "cell_type": "markdown",
   "metadata": {},
   "source": [
    "### 1.  \n",
    "\n",
    "**Navigateur**  -> depinfo.u-cergy.fr -> **Serveur DNS**  \n",
    "**Serveur DNS** -> @ip : 193.54.115.230 -> **Navigateur**  \n",
    "\n",
    "### 2.  \n",
    "\n",
    "**Protocole :** La requette se fait en suivant un protocole.  \n",
    "http  \n",
    "https\n",
    "ftp (download)  \n",
    "(file:/// ...)  \n",
    "  \n",
    "**Serveur Web** depinfo.u-cergy.fr = 193.54.115.230  \n",
    "\n",
    "### 3.  \n",
    "\n",
    "**Requête :** de type GET (99%) http(s) de \"/\": page par defaut  \n",
    "\n",
    "### 4.  \n",
    "\n",
    "**Code réponse :**\n",
    "    - 200 : page trouvée\n",
    "    - 404 : page non trouvée\n",
    "    - 30x : redirection\n",
    "\n",
    "Detourne du code HTML  \n",
    "\n",
    "### 5.  \n",
    "\n",
    "**Le navigateur interprète le code HTML**  \n",
    "Ligne par ligne et affiche le résultat  \n",
    "    - HTML\n",
    "   \n",
    "### 6. et suivantes ...\n",
    "\n",
    "**Requêtes pour les autres ressources :**(met les infos utiles en câche, construit l'arbre DOM) \n",
    "    - CSS\n",
    "    - JS\n",
    "    - Images\n",
    "    - video\n",
    "    * Ces requêtes se font éventuellement sur d'autres serveurs *\n",
    "    * Eventuellement on utiliserait des plugin ... (logiciel aditionnels d'où risques) *\n",
    "\n",
    "### 7. Jusqu'à ce que tout le DOM soit construit  \n",
    "    (Environ 50 requêtes)\n",
    "    * JS peut demander d'autres chargements utlérieurs *\n",
    "    * Rmq : Le code source affiché ne montre pas la page modifiée par JS *"
   ]
  },
  {
   "cell_type": "markdown",
   "metadata": {},
   "source": [
    "### Hébergement"
   ]
  },
  {
   "cell_type": "markdown",
   "metadata": {},
   "source": [
    "Mise en place avec client FTP : filezilla (upload / download)"
   ]
  },
  {
   "cell_type": "markdown",
   "metadata": {},
   "source": [
    "Here's a sentence with a footnote. [^1]"
   ]
  },
  {
   "cell_type": "markdown",
   "metadata": {},
   "source": [
    "[^1]: This is the footnote. "
   ]
  },
  {
   "cell_type": "code",
   "execution_count": null,
   "metadata": {},
   "outputs": [],
   "source": []
  },
  {
   "cell_type": "markdown",
   "metadata": {},
   "source": [
    "$\\chi\\tau\\phi$"
   ]
  }
 ],
 "metadata": {
  "kernelspec": {
   "display_name": "Python 3",
   "language": "python",
   "name": "python3"
  },
  "language_info": {
   "codemirror_mode": {
    "name": "ipython",
    "version": 3
   },
   "file_extension": ".py",
   "mimetype": "text/x-python",
   "name": "python",
   "nbconvert_exporter": "python",
   "pygments_lexer": "ipython3",
   "version": "3.7.1"
  }
 },
 "nbformat": 4,
 "nbformat_minor": 2
}
