{
 "cells": [
  {
   "cell_type": "markdown",
   "metadata": {},
   "source": [
    "## Formation DIU "
   ]
  },
  {
   "cell_type": "markdown",
   "metadata": {},
   "source": [
    "### Traitement de données 2 : Flottants"
   ]
  },
  {
   "cell_type": "markdown",
   "metadata": {},
   "source": [
    "#### Jeudi 13 juin (matin)"
   ]
  },
  {
   "cell_type": "markdown",
   "metadata": {},
   "source": [
    "Pièges de calculs :    "
   ]
  },
  {
   "cell_type": "code",
   "execution_count": 2,
   "metadata": {},
   "outputs": [
    {
     "data": {
      "text/plain": [
       "True"
      ]
     },
     "execution_count": 2,
     "metadata": {},
     "output_type": "execute_result"
    }
   ],
   "source": [
    "1.0 + 2.0 == 3.0"
   ]
  },
  {
   "cell_type": "code",
   "execution_count": 3,
   "metadata": {},
   "outputs": [
    {
     "data": {
      "text/plain": [
       "False"
      ]
     },
     "execution_count": 3,
     "metadata": {},
     "output_type": "execute_result"
    }
   ],
   "source": [
    "0.1 + 0.2 == 0.3"
   ]
  },
  {
   "cell_type": "code",
   "execution_count": 5,
   "metadata": {},
   "outputs": [
    {
     "data": {
      "text/plain": [
       "0.09999999999999998"
      ]
     },
     "execution_count": 5,
     "metadata": {},
     "output_type": "execute_result"
    }
   ],
   "source": [
    "0.3 - 0.2 "
   ]
  },
  {
   "cell_type": "markdown",
   "metadata": {},
   "source": [
    "Représentation d'un nombre en virgule flottante :\n",
    "\n",
    "s(signe)$mantisse(chiffres significatifs)*2^(exposant)"
   ]
  },
  {
   "cell_type": "markdown",
   "metadata": {},
   "source": [
    "L'exposant donne la place de la virgules"
   ]
  },
  {
   "cell_type": "markdown",
   "metadata": {},
   "source": [
    "Sur 64 bits :\n",
    "- signe : 1 bit\n",
    "- exposant : 11 bit (puissance de 2 de -1022 à 1024)\n",
    "- mantisse de la forme 1, ... + 52 bits mantisse $\\in$ [1, 2[\n"
   ]
  },
  {
   "cell_type": "markdown",
   "metadata": {},
   "source": [
    "IEEE 754 wikipedia"
   ]
  },
  {
   "cell_type": "code",
   "execution_count": 13,
   "metadata": {},
   "outputs": [
    {
     "data": {
      "text/plain": [
       "1.2676506002282294e+30"
      ]
     },
     "execution_count": 13,
     "metadata": {},
     "output_type": "execute_result"
    }
   ],
   "source": [
    "1.0*2**100"
   ]
  },
  {
   "cell_type": "code",
   "execution_count": 15,
   "metadata": {},
   "outputs": [
    {
     "data": {
      "text/plain": [
       "1.2676506002282294e+30"
      ]
     },
     "execution_count": 15,
     "metadata": {},
     "output_type": "execute_result"
    }
   ],
   "source": [
    "1.0*2**(100)"
   ]
  },
  {
   "cell_type": "code",
   "execution_count": 16,
   "metadata": {},
   "outputs": [
    {
     "data": {
      "text/plain": [
       "1.2676506002282294e+30"
      ]
     },
     "execution_count": 16,
     "metadata": {},
     "output_type": "execute_result"
    }
   ],
   "source": [
    "1.0*2**(100)+1.0*2**(-10)"
   ]
  },
  {
   "cell_type": "markdown",
   "metadata": {},
   "source": [
    "$sin(π)≠0$"
   ]
  },
  {
   "cell_type": "markdown",
   "metadata": {},
   "source": [
    "52 bits significatifs = $2^{-52}$ ± $10^{-15}$"
   ]
  },
  {
   "cell_type": "markdown",
   "metadata": {},
   "source": [
    "### Compression"
   ]
  },
  {
   "cell_type": "markdown",
   "metadata": {},
   "source": [
    "Compression sans perte bijection vers fichier compressé"
   ]
  },
  {
   "cell_type": "markdown",
   "metadata": {},
   "source": [
    "La compression universelle n'existe pas !\n",
    "\n",
    "Notion de complexité de Komodorov\n",
    "\n",
    "Le texte se prête très bien à la compression sans perte :\n",
    "- Des lettres sont peu utilisées, \n",
    "- toutes les combinaisons n'hexistent pas ...\n",
    "\n",
    "On peut jouer sur :\n",
    "- les carractères (codage court pour les carractères fréquents) : c'est le codage de Huffman (cf arbres)\n",
    "- sur les répétitions de mots (codage avec des dictionnaires)\n",
    "\n",
    "codage zip ( Lempel et Ziv) en 1977 et 1978 utilise les deux méthodes.\n",
    "\n"
   ]
  },
  {
   "cell_type": "markdown",
   "metadata": {},
   "source": [
    "compression_lz78.pdf"
   ]
  },
  {
   "cell_type": "markdown",
   "metadata": {},
   "source": [
    "Idée : quand un rencontre un mot, on l'ajoute au dictionnaire :\n",
    "Exemple : texte = PARACHUTE\n",
    "Dico :  \n",
    " 1 \"P\"  \n",
    " 2 \"TOT\"  \n",
    " 3 \"MA\"  \n",
    " 4 \"PA\"  \n",
    " 5 \"PAR\"  \n",
    " 6 \"BO\"  \n",
    "  \n",
    "On ajoute la 7 eme entrée para : \"PAR\" + \"A\" (5+ \"A\")\n",
    "\n",
    "Exemple :  \n",
    "codage de ABRABADABRA :  \n",
    "dico {\"\":0, \"A\":1 , \"B\":2 , \"R\":3, \"AB\":4, \"AD\":5, \"ABR\":6}, \n",
    "<br>texte codé\n",
    "- (0,A)\n",
    "- (0,B)\n",
    "- (0,R)\n",
    "- (1,B)\n",
    "- (1,D)\n",
    "- (4,R)\n",
    "- (0,A) ou (A,\"\")\n",
    "\n",
    "décodage de (0,A),(0,B),(0,R),(1,B),(1,D),(4,R),(0,A)  :  \n",
    "dico : 0, \"\"\n",
    "- 1 A\n",
    "- 2 B\n",
    "- 3 R\n",
    "- 4 AB\n",
    "- 5 AD\n",
    "- 6 ABR\n",
    "- 7 A\n",
    "\\\n"
   ]
  },
  {
   "cell_type": "code",
   "execution_count": null,
   "metadata": {},
   "outputs": [],
   "source": [
    "# Exemple \"ABRABADABRA\"\n",
    "text = \"ABRABADABRA\"\n",
    "dic = {0:\"\"}\n",
    "# Avoir un compteur pour donner la valeur\n",
    "def encodeLZ78(text):\n",
    "    mot = \"\"\n",
    "    for lettre in text:\n",
    "    mot += lettre\n",
    "    if mot not in dic.values():\n",
    "        dic[mot]=cpt\n",
    "        cpt += 1"
   ]
  }
 ],
 "metadata": {
  "kernelspec": {
   "display_name": "Python 3",
   "language": "python",
   "name": "python3"
  },
  "language_info": {
   "codemirror_mode": {
    "name": "ipython",
    "version": 3
   },
   "file_extension": ".py",
   "mimetype": "text/x-python",
   "name": "python",
   "nbconvert_exporter": "python",
   "pygments_lexer": "ipython3",
   "version": "3.7.1"
  }
 },
 "nbformat": 4,
 "nbformat_minor": 2
}
