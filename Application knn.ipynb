{
 "cells": [
  {
   "cell_type": "markdown",
   "metadata": {},
   "source": [
    "Base de donnée MNIST"
   ]
  },
  {
   "cell_type": "markdown",
   "metadata": {},
   "source": [
    "n = 60000 images"
   ]
  },
  {
   "cell_type": "markdown",
   "metadata": {},
   "source": [
    "[010011010001...] 784: pixels RF(Row fisrt)"
   ]
  },
  {
   "cell_type": "markdown",
   "metadata": {},
   "source": [
    "On calcul la distance euclidienne (bouléen de supperposition (color px image / color px test)"
   ]
  },
  {
   "cell_type": "code",
   "execution_count": 1,
   "metadata": {},
   "outputs": [],
   "source": [
    "import struct\n",
    "import numpy as np\n",
    "\n",
    "def read_train_images():\n",
    "    return read_idx('mnist/train-images.idx3-ubyte').reshape(-1,784)\n",
    "def read_test_images():\n",
    "    return read_idx('mnist/t10k-images.idx3-ubyte').reshape(-1,784)\n",
    "def read_train_labels():\n",
    "    return read_idx('mnist/train-labels.idx1-ubyte')\n",
    "def read_test_labels():\n",
    "    return read_idx('mnist/t10k-labels.idx1-ubyte')\n",
    "\n",
    "def read_idx(filename):\n",
    "    with open(filename, 'rb') as f:\n",
    "        zero, data_type, dims = struct.unpack('>HBB', f.read(4))\n",
    "        shape = tuple(struct.unpack('>I', f.read(4))[0] for d in range(dims))\n",
    "        return np.fromstring(f.read(), dtype=np.uint8).reshape(shape)\n"
   ]
  },
  {
   "cell_type": "code",
   "execution_count": 2,
   "metadata": {},
   "outputs": [
    {
     "name": "stdout",
     "output_type": "stream",
     "text": [
      "Populating the interactive namespace from numpy and matplotlib\n"
     ]
    },
    {
     "ename": "ModuleNotFoundError",
     "evalue": "No module named 'plot'",
     "output_type": "error",
     "traceback": [
      "\u001b[0;31m---------------------------------------------------------------------------\u001b[0m",
      "\u001b[0;31mModuleNotFoundError\u001b[0m                       Traceback (most recent call last)",
      "\u001b[0;32m<ipython-input-2-f43a6208a5d4>\u001b[0m in \u001b[0;36m<module>\u001b[0;34m()\u001b[0m\n\u001b[1;32m      2\u001b[0m \u001b[0;32mfrom\u001b[0m \u001b[0mread_mnist\u001b[0m \u001b[0;32mimport\u001b[0m \u001b[0;34m*\u001b[0m\u001b[0;34m\u001b[0m\u001b[0;34m\u001b[0m\u001b[0m\n\u001b[1;32m      3\u001b[0m \u001b[0;32mfrom\u001b[0m \u001b[0mnumpy\u001b[0m \u001b[0;32mimport\u001b[0m \u001b[0;34m*\u001b[0m\u001b[0;34m\u001b[0m\u001b[0;34m\u001b[0m\u001b[0m\n\u001b[0;32m----> 4\u001b[0;31m \u001b[0;32mfrom\u001b[0m \u001b[0mplot\u001b[0m \u001b[0;32mimport\u001b[0m \u001b[0;34m*\u001b[0m\u001b[0;34m\u001b[0m\u001b[0;34m\u001b[0m\u001b[0m\n\u001b[0m\u001b[1;32m      5\u001b[0m \u001b[0;34m\u001b[0m\u001b[0m\n\u001b[1;32m      6\u001b[0m \u001b[0mXtrain\u001b[0m \u001b[0;34m=\u001b[0m \u001b[0mread_train_images\u001b[0m\u001b[0;34m(\u001b[0m\u001b[0;34m)\u001b[0m\u001b[0;34m\u001b[0m\u001b[0;34m\u001b[0m\u001b[0m\n",
      "\u001b[0;31mModuleNotFoundError\u001b[0m: No module named 'plot'"
     ]
    }
   ],
   "source": [
    "%pylab inline\n",
    "from read_mnist import *\n",
    "from numpy import *\n",
    "from plot import *\n",
    "\n",
    "Xtrain = read_train_images()\n",
    "Ytrain = read_train_labels()\n",
    "Xtest = read_test_images()\n",
    "Ytest = read_test_labels()\n",
    "\n",
    "def dist(x,y):\n",
    "    return sqrt(sum((x-y)**2))\n",
    "\n",
    "def nn(x, X):\n",
    "    mind = dist(x,X[0])\n",
    "    imind = 0\n",
    "    for i in range(1,X.shape[0]):\n",
    "        d = dist(x,X[i])\n",
    "        if d<=mind:\n",
    "            mind = d\n",
    "            imind = i\n",
    "    return imind\n",
    "\n",
    "def knn(k, x,X):\n",
    "    dists = [float('inf')]*k\n",
    "    inds = [-1]*k\n",
    "    for i in range(1,X.shape[0]):\n",
    "        d = dist(x,X[i])\n",
    "        if d<=dists[0]:\n",
    "            insere_liste_triee_limite(dists, inds, d, i)\n",
    "    return inds\n",
    "\n",
    "def insere_liste_triee_limite(l, indices, e, ind):\n",
    "    l[0] = e\n",
    "    indices[0] = ind\n",
    "    for i in range(len(l)-1):\n",
    "        if l[i]<l[i+1]:\n",
    "            (l[i],l[i+1])=(l[i+1],l[i])\n",
    "            (indices[i],indices[i+1])=(indices[i+1],indices[i])\n",
    "\n",
    "\n",
    "\n",
    "nb_succes = 0\n",
    "for i in range(100):\n",
    "    n = knn(5,Xtest[i], Xtrain)\n",
    "    classe_predite = Ytrain[n]\n",
    "\n",
    "    if n is not int:\n",
    "        (classe,counts) = unique(classe_predite, return_counts=True)\n",
    "        classe_predite = classe[argmax(counts)]\n",
    "    else:\n",
    "        n = [n]\n",
    "\n",
    "    if classe_predite == Ytest[i]:\n",
    "        nb_succes = nb_succes+1\n",
    "    acc = nb_succes/(i+1)\n",
    "    l = [Xtest[i],]\n",
    "    l.extend(Xtrain[n])\n",
    "    showm(l, anim=True)\n",
    "\n",
    "    print(Ytest[i], '<=>', classe_predite,\n",
    "        '  SUCCES!   ' if Ytest[i]==classe_predite else '  ERREUR!   ',\n",
    "        '%.0f%%'%(acc*100),\n",
    "        '           ', Ytrain[n] )\n"
   ]
  },
  {
   "cell_type": "markdown",
   "metadata": {},
   "source": []
  },
  {
   "cell_type": "markdown",
   "metadata": {},
   "source": []
  }
 ],
 "metadata": {
  "kernelspec": {
   "display_name": "Python 3",
   "language": "python",
   "name": "python3"
  },
  "language_info": {
   "codemirror_mode": {
    "name": "ipython",
    "version": 3
   },
   "file_extension": ".py",
   "mimetype": "text/x-python",
   "name": "python",
   "nbconvert_exporter": "python",
   "pygments_lexer": "ipython3",
   "version": "3.7.1"
  }
 },
 "nbformat": 4,
 "nbformat_minor": 2
}
